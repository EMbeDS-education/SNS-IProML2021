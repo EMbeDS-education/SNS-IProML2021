{
 "cells": [
  {
   "cell_type": "markdown",
   "metadata": {
    "id": "h5NGq0EV7k4-"
   },
   "source": [
    "<center><font size=\"+4\">Introduction to Programming and Machine Learning in Python 2020/2021</font></center>\n",
    "<center><font size=\"+2\">Scuola Normale Superiore, Pisa, Italy</font></center>\n",
    "\n",
    "<center><font size=\"+2\">Course responsibles</font></center>\n",
    "<center><font size=\"+2\">Andrea Vandin a.vandin@santannapisa.it</font></center>\n",
    "<center><font size=\"+2\">Daniele Licari d.licari@santannapisa.it</font></center>\n",
    "\n",
    "---"
   ]
  },
  {
   "cell_type": "markdown",
   "metadata": {
    "id": "PzTk_3lR7k5D"
   },
   "source": [
    "<center><font size=\"+4\">Assignments for</font></center>\n",
    "<center><font size=\"+4\">Lecture 4: Control and Repetition Statements</font><br/></center>\n",
    "<center><font size=\"+2\"> and CSV manipulation/visualization applied on COVID-19 data</font></center>\n",
    "\n",
    "---\n"
   ]
  },
  {
   "cell_type": "code",
   "execution_count": 4,
   "metadata": {
    "cellView": "form",
    "colab": {
     "base_uri": "https://localhost:8080/"
    },
    "id": "p666zbf89eCD",
    "outputId": "8f53eefb-4edb-47aa-c0ff-8d26f2e593d4"
   },
   "outputs": [],
   "source": [
    "#@title RUN, BUT DO NOT MODIFY\n",
    "!curl -O  https://raw.githubusercontent.com/EMbeDS-education/SNS-IProML2021/main/jupyter/jupyterNotebooks/assignments/auto_testing.py\n",
    "!curl -O  https://raw.githubusercontent.com/EMbeDS-education/SNS-IProML2021/main/jupyter/jupyterNotebooks/assignments/dpc-covid19-ita-andamento-nazionale.csv\n",
    "%reload_ext autoreload\n",
    "%autoreload 2\n",
    "from auto_testing import *"
   ]
  },
  {
   "cell_type": "markdown",
   "metadata": {
    "id": "Om177ojl7k5J"
   },
   "source": [
    "# Assignment 04.01: If-Linear equation\n",
    "## Statement\n",
    "\n",
    "Write a program that solves a linear equation _ax = b_ in **integers**. \n",
    "\n",
    "Given two integers _a_ and _b_ (_a_ may be zero), \n",
    "- print a single integer root if it exists or\n",
    "- print `no solution` if no integer solution exists\n",
    "- print `many solutions` if many integer solutions exist.\n",
    "\n",
    "## Example input #1\n",
    "\n",
    "```\n",
    "1\n",
    "```\n",
    "\n",
    "```\n",
    "-2\n",
    "```\n",
    "\n",
    "## Example output #1\n",
    "\n",
    "```\n",
    "-2\n",
    "```\n",
    "\n",
    "## Example input #2\n",
    "\n",
    "```\n",
    "2\n",
    "```\n",
    "\n",
    "```\n",
    "-1\n",
    "```\n",
    "\n",
    "## Example output #2\n",
    "\n",
    "```\n",
    "no solution\n",
    "```\n",
    "\n"
   ]
  },
  {
   "cell_type": "markdown",
   "metadata": {
    "id": "FMZE1vmMbRLz"
   },
   "source": [
    "## Write your solution here\n",
    "\n",
    "\n",
    "*   Do not change the first line (`def ...():`)\n",
    "*   Maintain the given indentation\n",
    "*   You can run some tests by yourself by decommenting the last line\n",
    "\n"
   ]
  },
  {
   "cell_type": "code",
   "execution_count": 5,
   "metadata": {
    "colab": {
     "base_uri": "https://localhost:8080/"
    },
    "id": "Yg4jeBnA7k5K",
    "outputId": "d1804f69-374a-4f18-f8ad-1ffd98892eaa"
   },
   "outputs": [],
   "source": [
    "def asgn04_01If_Linear_equation():\n",
    "    # This program prints 'Hello, world!':\n",
    "    #print('Hello, world!')\n",
    "\n",
    "    # Change it to solve the assignment\n",
    "\n",
    "\n",
    "    a = int(input())\n",
    "    b = int(input())\n",
    "\n",
    "    if a == 0:\n",
    "        if b == 0:\n",
    "            print('many solutions')\n",
    "        else:\n",
    "            print('no solution')\n",
    "    elif b % a == 0:\n",
    "        print(b // a)\n",
    "    else:\n",
    "        print('no solution')\n",
    "\n",
    "    \n",
    "#You can test independently your solution by executing the following line\n",
    "#asgn04_01If_Linear_equation()"
   ]
  },
  {
   "cell_type": "markdown",
   "metadata": {
    "id": "_lqTangP8R46"
   },
   "source": [
    "## Run the following cells to perform the provided tests"
   ]
  },
  {
   "cell_type": "code",
   "execution_count": 8,
   "metadata": {
    "colab": {
     "base_uri": "https://localhost:8080/"
    },
    "id": "fwX9u8aW7k5L",
    "outputId": "a12aefe2-be6d-4b28-f876-acc6ce57e9ae"
   },
   "outputs": [
    {
     "name": "stdout",
     "output_type": "stream",
     "text": [
      "Test [1, -2]\n",
      "\u001b[43m\u001b[32m The program prints 1 lines as expected.\u001b[0m\n",
      "\n",
      "  Line 0\n",
      "\u001b[43m\u001b[32m  Expected and actual output match:\n",
      "  -2\u001b[0m\n",
      "\n",
      "\u001b[43m\u001b[32mTest PASSED!\u001b[0m\n"
     ]
    }
   ],
   "source": [
    "#@title TEST 1 -2 \n",
    "inputs=[1,-2]\n",
    "expected_outputs=[\"-2\"]\n",
    "run_and_test(inputs,expected_outputs,asgn04_01If_Linear_equation)"
   ]
  },
  {
   "cell_type": "code",
   "execution_count": 6,
   "metadata": {},
   "outputs": [
    {
     "name": "stdout",
     "output_type": "stream",
     "text": [
      "Test [2, -1]\n",
      "\u001b[43m\u001b[32m The program prints 1 lines as expected.\u001b[0m\n",
      "\n",
      "  Line 0\n",
      "\u001b[43m\u001b[32m  Expected and actual output match: no solution\u001b[0m\n",
      "\n",
      "\u001b[43m\u001b[32mTest PASSED!\u001b[0m\n"
     ]
    }
   ],
   "source": [
    "#@title TEST 2 -1 \n",
    "inputs=[2,-1]\n",
    "expected_outputs=[\"no solution\"]\n",
    "run_and_test(inputs,expected_outputs,asgn04_01If_Linear_equation)"
   ]
  },
  {
   "cell_type": "code",
   "execution_count": 8,
   "metadata": {},
   "outputs": [
    {
     "name": "stdout",
     "output_type": "stream",
     "text": [
      "Test [0, 0]\n",
      "\u001b[43m\u001b[32m The program prints 1 lines as expected.\u001b[0m\n",
      "\n",
      "  Line 0\n",
      "\u001b[43m\u001b[32m  Expected and actual output match: many solutions\u001b[0m\n",
      "\n",
      "\u001b[43m\u001b[32mTest PASSED!\u001b[0m\n"
     ]
    }
   ],
   "source": [
    "#@title TEST 0 0 \n",
    "inputs=[0,0]\n",
    "expected_outputs=[\"many solutions\"]\n",
    "run_and_test(inputs,expected_outputs,asgn04_01If_Linear_equation)"
   ]
  },
  {
   "cell_type": "code",
   "execution_count": 10,
   "metadata": {},
   "outputs": [
    {
     "name": "stdout",
     "output_type": "stream",
     "text": [
      "Test [5, 0]\n",
      "\u001b[43m\u001b[32m The program prints 1 lines as expected.\u001b[0m\n",
      "\n",
      "  Line 0\n",
      "\u001b[43m\u001b[32m  Expected and actual output match: 0\u001b[0m\n",
      "\n",
      "\u001b[43m\u001b[32mTest PASSED!\u001b[0m\n"
     ]
    }
   ],
   "source": [
    "#@title TEST 5 0 \n",
    "inputs=[5,0]\n",
    "expected_outputs=[\"0\"]\n",
    "run_and_test(inputs,expected_outputs,asgn04_01If_Linear_equation)"
   ]
  },
  {
   "cell_type": "code",
   "execution_count": 12,
   "metadata": {},
   "outputs": [
    {
     "name": "stdout",
     "output_type": "stream",
     "text": [
      "Test [0, 7]\n",
      "\u001b[43m\u001b[32m The program prints 1 lines as expected.\u001b[0m\n",
      "\n",
      "  Line 0\n",
      "\u001b[43m\u001b[32m  Expected and actual output match: no solution\u001b[0m\n",
      "\n",
      "\u001b[43m\u001b[32mTest PASSED!\u001b[0m\n"
     ]
    }
   ],
   "source": [
    "#@title TEST 0 7 \n",
    "inputs=[0,7]\n",
    "expected_outputs=[\"no solution\"]\n",
    "run_and_test(inputs,expected_outputs,asgn04_01If_Linear_equation)"
   ]
  },
  {
   "cell_type": "code",
   "execution_count": 14,
   "metadata": {},
   "outputs": [
    {
     "name": "stdout",
     "output_type": "stream",
     "text": [
      "Test [10, 11]\n",
      "\u001b[43m\u001b[32m The program prints 1 lines as expected.\u001b[0m\n",
      "\n",
      "  Line 0\n",
      "\u001b[43m\u001b[32m  Expected and actual output match: no solution\u001b[0m\n",
      "\n",
      "\u001b[43m\u001b[32mTest PASSED!\u001b[0m\n"
     ]
    }
   ],
   "source": [
    "#@title TEST 10 11 \n",
    "inputs=[10,11]\n",
    "expected_outputs=[\"no solution\"]\n",
    "run_and_test(inputs,expected_outputs,asgn04_01If_Linear_equation)"
   ]
  },
  {
   "cell_type": "code",
   "execution_count": 15,
   "metadata": {},
   "outputs": [
    {
     "name": "stdout",
     "output_type": "stream",
     "text": [
      "Test [1, 30000]\n",
      "\u001b[43m\u001b[32m The program prints 1 lines as expected.\u001b[0m\n",
      "\n",
      "  Line 0\n",
      "\u001b[43m\u001b[32m  Expected and actual output match: 30000\u001b[0m\n",
      "\n",
      "\u001b[43m\u001b[32mTest PASSED!\u001b[0m\n"
     ]
    }
   ],
   "source": [
    "#@title TEST 1 30000\n",
    "inputs=[1,30000]\n",
    "expected_outputs=[\"30000\"]\n",
    "run_and_test(inputs,expected_outputs,asgn04_01If_Linear_equation)"
   ]
  },
  {
   "cell_type": "markdown",
   "metadata": {
    "id": "1JMDln-vIKRB"
   },
   "source": [
    "# Assignment 04.02: If-Queen move\n",
    "## Statement\n",
    "\n",
    "Chess queen moves horizontally, vertically or diagonally in any number of squares. <br/>\n",
    "Given two different squares of the chessboard, determine whether a queen can go from the first square to the second one in a single move. <br/>\n",
    "The chessboard is assumed to not contain further pieces.\n",
    "\n",
    "The program receives four numbers from 1 to 8 each specifying the column and the row number (the first two refer to the starting square, the last two refer to the target one). <br/>\n",
    "The program should output \n",
    "- `YES` if a queen can go from the first square to the second one in a single move or \n",
    "- `NO` otherwise.\n",
    "\n",
    "\n",
    "## Example input\n",
    "\n",
    "```\n",
    "1\n",
    "1\n",
    "2\n",
    "2\n",
    "```\n",
    "\n",
    "## Example output\n",
    "\n",
    "```\n",
    "YES\n",
    "```\n",
    "\n",
    "We suggest you to use intelligible (self-commenting) names for the variables...\n"
   ]
  },
  {
   "cell_type": "markdown",
   "metadata": {
    "id": "IROCYUDQb0t7"
   },
   "source": [
    "## Write your solution here\n",
    "\n",
    "\n",
    "*   Do not change the first line (`def ...():`)\n",
    "*   Maintain the given indentation\n",
    "*   You can run some tests by yourself by decommenting the last line\n",
    "\n"
   ]
  },
  {
   "cell_type": "code",
   "execution_count": 16,
   "metadata": {
    "id": "QtPMkR0aJRYv"
   },
   "outputs": [],
   "source": [
    "def asgn04_02If_Queen_move():\n",
    "    # This program reads a string and prints it\n",
    "    #str1=input()\n",
    "    #print(str1)\n",
    "\n",
    "    # Can you change it to solve the assignment?\n",
    "    \n",
    "    x1 = int(input())\n",
    "    y1 = int(input())\n",
    "    x2 = int(input())\n",
    "    y2 = int(input())\n",
    "\n",
    "    if x1 == x2 or y1 == y2 or abs(x1 - x2) == abs(y1 - y2):\n",
    "        print('YES')\n",
    "    else:\n",
    "        print('NO')\n",
    "    \n",
    "#You can test independently your solution by executing the following line\n",
    "#asgn04_02If_Queen_move()"
   ]
  },
  {
   "cell_type": "markdown",
   "metadata": {
    "id": "HcoyoBpScQ7f"
   },
   "source": [
    "## Run the following cells to perform the provided tests"
   ]
  },
  {
   "cell_type": "code",
   "execution_count": 18,
   "metadata": {
    "colab": {
     "base_uri": "https://localhost:8080/"
    },
    "id": "eSTVUwPMJiEZ",
    "outputId": "8d3b1217-2345-4e7b-b9b7-28002118956a"
   },
   "outputs": [
    {
     "name": "stdout",
     "output_type": "stream",
     "text": [
      "Test [1, 1, 2, 2]\n",
      "\u001b[43m\u001b[32m The program prints 1 lines as expected.\u001b[0m\n",
      "\n",
      "  Line 0\n",
      "\u001b[43m\u001b[32m  Expected and actual output match: YES\u001b[0m\n",
      "\n",
      "\u001b[43m\u001b[32mTest PASSED!\u001b[0m\n"
     ]
    }
   ],
   "source": [
    "#@title TEST '[1,1,2,2]'\n",
    "inputs=[1,1,2,2]\n",
    "expected_outputs=[\"YES\"]\n",
    "run_and_test(inputs,expected_outputs,asgn04_02If_Queen_move)"
   ]
  },
  {
   "cell_type": "code",
   "execution_count": 20,
   "metadata": {},
   "outputs": [
    {
     "name": "stdout",
     "output_type": "stream",
     "text": [
      "Test [1, 1, 2, 3]\n",
      "\u001b[43m\u001b[32m The program prints 1 lines as expected.\u001b[0m\n",
      "\n",
      "  Line 0\n",
      "\u001b[43m\u001b[32m  Expected and actual output match: NO\u001b[0m\n",
      "\n",
      "\u001b[43m\u001b[32mTest PASSED!\u001b[0m\n"
     ]
    }
   ],
   "source": [
    "#@title TEST '[1,1,2,3]'\n",
    "inputs=[1,1,2,3]\n",
    "expected_outputs=[\"NO\"]\n",
    "run_and_test(inputs,expected_outputs,asgn04_02If_Queen_move)"
   ]
  },
  {
   "cell_type": "code",
   "execution_count": 22,
   "metadata": {},
   "outputs": [
    {
     "name": "stdout",
     "output_type": "stream",
     "text": [
      "Test [5, 6, 3, 3]\n",
      "\u001b[43m\u001b[32m The program prints 1 lines as expected.\u001b[0m\n",
      "\n",
      "  Line 0\n",
      "\u001b[43m\u001b[32m  Expected and actual output match: NO\u001b[0m\n",
      "\n",
      "\u001b[43m\u001b[32mTest PASSED!\u001b[0m\n"
     ]
    }
   ],
   "source": [
    "#@title TEST '[5,6,3,3]'\n",
    "inputs=[5,6,3,3]\n",
    "expected_outputs=[\"NO\"]\n",
    "run_and_test(inputs,expected_outputs,asgn04_02If_Queen_move)"
   ]
  },
  {
   "cell_type": "code",
   "execution_count": 24,
   "metadata": {},
   "outputs": [
    {
     "name": "stdout",
     "output_type": "stream",
     "text": [
      "Test [3, 3, 1, 1]\n",
      "\u001b[43m\u001b[32m The program prints 1 lines as expected.\u001b[0m\n",
      "\n",
      "  Line 0\n",
      "\u001b[43m\u001b[32m  Expected and actual output match: YES\u001b[0m\n",
      "\n",
      "\u001b[43m\u001b[32mTest PASSED!\u001b[0m\n"
     ]
    }
   ],
   "source": [
    "#@title TEST '[3,3,1,1]'\n",
    "inputs=[3,3,1,1]\n",
    "expected_outputs=[\"YES\"]\n",
    "run_and_test(inputs,expected_outputs,asgn04_02If_Queen_move)"
   ]
  },
  {
   "cell_type": "code",
   "execution_count": 26,
   "metadata": {},
   "outputs": [
    {
     "name": "stdout",
     "output_type": "stream",
     "text": [
      "Test [6, 5, 2, 5]\n",
      "\u001b[43m\u001b[32m The program prints 1 lines as expected.\u001b[0m\n",
      "\n",
      "  Line 0\n",
      "\u001b[43m\u001b[32m  Expected and actual output match: YES\u001b[0m\n",
      "\n",
      "\u001b[43m\u001b[32mTest PASSED!\u001b[0m\n"
     ]
    }
   ],
   "source": [
    "#@title TEST '[6,5,2,5]'\n",
    "inputs=[6,5,2,5]\n",
    "expected_outputs=[\"YES\"]\n",
    "run_and_test(inputs,expected_outputs,asgn04_02If_Queen_move)"
   ]
  },
  {
   "cell_type": "code",
   "execution_count": 29,
   "metadata": {},
   "outputs": [
    {
     "name": "stdout",
     "output_type": "stream",
     "text": [
      "Test [7, 6, 5, 2]\n",
      "\u001b[43m\u001b[32m The program prints 1 lines as expected.\u001b[0m\n",
      "\n",
      "  Line 0\n",
      "\u001b[43m\u001b[32m  Expected and actual output match: NO\u001b[0m\n",
      "\n",
      "\u001b[43m\u001b[32mTest PASSED!\u001b[0m\n"
     ]
    }
   ],
   "source": [
    "#@title TEST '[7,6,5,2]'\n",
    "inputs=[7,6,5,2]\n",
    "expected_outputs=[\"NO\"]\n",
    "run_and_test(inputs,expected_outputs,asgn04_02If_Queen_move)"
   ]
  },
  {
   "cell_type": "code",
   "execution_count": 31,
   "metadata": {},
   "outputs": [
    {
     "name": "stdout",
     "output_type": "stream",
     "text": [
      "Test [2, 7, 6, 7]\n",
      "\u001b[43m\u001b[32m The program prints 1 lines as expected.\u001b[0m\n",
      "\n",
      "  Line 0\n",
      "\u001b[43m\u001b[32m  Expected and actual output match: YES\u001b[0m\n",
      "\n",
      "\u001b[43m\u001b[32mTest PASSED!\u001b[0m\n"
     ]
    }
   ],
   "source": [
    "#@title TEST '[2,7,6,7]'\n",
    "inputs=[2,7,6,7]\n",
    "expected_outputs=[\"YES\"]\n",
    "run_and_test(inputs,expected_outputs,asgn04_02If_Queen_move)"
   ]
  },
  {
   "cell_type": "code",
   "execution_count": 33,
   "metadata": {},
   "outputs": [
    {
     "name": "stdout",
     "output_type": "stream",
     "text": [
      "Test [2, 7, 4, 6]\n",
      "\u001b[43m\u001b[32m The program prints 1 lines as expected.\u001b[0m\n",
      "\n",
      "  Line 0\n",
      "\u001b[43m\u001b[32m  Expected and actual output match: NO\u001b[0m\n",
      "\n",
      "\u001b[43m\u001b[32mTest PASSED!\u001b[0m\n"
     ]
    }
   ],
   "source": [
    "#@title TEST '[2,7,4,6]'\n",
    "inputs=[2,7,4,6]\n",
    "expected_outputs=[\"NO\"]\n",
    "run_and_test(inputs,expected_outputs,asgn04_02If_Queen_move)"
   ]
  },
  {
   "cell_type": "code",
   "execution_count": 35,
   "metadata": {},
   "outputs": [
    {
     "name": "stdout",
     "output_type": "stream",
     "text": [
      "Test [7, 4, 2, 5]\n",
      "\u001b[43m\u001b[32m The program prints 1 lines as expected.\u001b[0m\n",
      "\n",
      "  Line 0\n",
      "\u001b[43m\u001b[32m  Expected and actual output match: NO\u001b[0m\n",
      "\n",
      "\u001b[43m\u001b[32mTest PASSED!\u001b[0m\n"
     ]
    }
   ],
   "source": [
    "#@title TEST '[7,4,2,5]'\n",
    "inputs=[7,4,2,5]\n",
    "expected_outputs=[\"NO\"]\n",
    "run_and_test(inputs,expected_outputs,asgn04_02If_Queen_move)"
   ]
  },
  {
   "cell_type": "code",
   "execution_count": 37,
   "metadata": {},
   "outputs": [
    {
     "name": "stdout",
     "output_type": "stream",
     "text": [
      "Test [7, 5, 1, 1]\n",
      "\u001b[43m\u001b[32m The program prints 1 lines as expected.\u001b[0m\n",
      "\n",
      "  Line 0\n",
      "\u001b[43m\u001b[32m  Expected and actual output match: NO\u001b[0m\n",
      "\n",
      "\u001b[43m\u001b[32mTest PASSED!\u001b[0m\n"
     ]
    }
   ],
   "source": [
    "#@title TEST '[7,5,1,1]'\n",
    "inputs=[7,5,1,1]\n",
    "expected_outputs=[\"NO\"]\n",
    "run_and_test(inputs,expected_outputs,asgn04_02If_Queen_move)"
   ]
  },
  {
   "cell_type": "code",
   "execution_count": 39,
   "metadata": {},
   "outputs": [
    {
     "name": "stdout",
     "output_type": "stream",
     "text": [
      "Test [2, 4, 5, 7]\n",
      "\u001b[43m\u001b[32m The program prints 1 lines as expected.\u001b[0m\n",
      "\n",
      "  Line 0\n",
      "\u001b[43m\u001b[32m  Expected and actual output match: YES\u001b[0m\n",
      "\n",
      "\u001b[43m\u001b[32mTest PASSED!\u001b[0m\n"
     ]
    }
   ],
   "source": [
    "#@title TEST '[2,4,5,7]'\n",
    "inputs=[2,4,5,7]\n",
    "expected_outputs=[\"YES\"]\n",
    "run_and_test(inputs,expected_outputs,asgn04_02If_Queen_move)"
   ]
  },
  {
   "cell_type": "code",
   "execution_count": 41,
   "metadata": {},
   "outputs": [
    {
     "name": "stdout",
     "output_type": "stream",
     "text": [
      "Test [3, 5, 7, 1]\n",
      "\u001b[43m\u001b[32m The program prints 1 lines as expected.\u001b[0m\n",
      "\n",
      "  Line 0\n",
      "\u001b[43m\u001b[32m  Expected and actual output match: YES\u001b[0m\n",
      "\n",
      "\u001b[43m\u001b[32mTest PASSED!\u001b[0m\n"
     ]
    }
   ],
   "source": [
    "#@title TEST '[3,5,7,1]'\n",
    "inputs=[3,5,7,1]\n",
    "expected_outputs=[\"YES\"]\n",
    "run_and_test(inputs,expected_outputs,asgn04_02If_Queen_move)"
   ]
  },
  {
   "cell_type": "code",
   "execution_count": 43,
   "metadata": {},
   "outputs": [
    {
     "name": "stdout",
     "output_type": "stream",
     "text": [
      "Test [5, 2, 5, 8]\n",
      "\u001b[43m\u001b[32m The program prints 1 lines as expected.\u001b[0m\n",
      "\n",
      "  Line 0\n",
      "\u001b[43m\u001b[32m  Expected and actual output match: YES\u001b[0m\n",
      "\n",
      "\u001b[43m\u001b[32mTest PASSED!\u001b[0m\n"
     ]
    }
   ],
   "source": [
    "#@title TEST '[5,2,5,8]'\n",
    "inputs=[5,2,5,8]\n",
    "expected_outputs=[\"YES\"]\n",
    "run_and_test(inputs,expected_outputs,asgn04_02If_Queen_move)"
   ]
  },
  {
   "cell_type": "code",
   "execution_count": 46,
   "metadata": {},
   "outputs": [
    {
     "name": "stdout",
     "output_type": "stream",
     "text": [
      "Test [1, 2, 3, 1]\n",
      "\u001b[43m\u001b[32m The program prints 1 lines as expected.\u001b[0m\n",
      "\n",
      "  Line 0\n",
      "\u001b[43m\u001b[32m  Expected and actual output match: NO\u001b[0m\n",
      "\n",
      "\u001b[43m\u001b[32mTest PASSED!\u001b[0m\n"
     ]
    }
   ],
   "source": [
    "#@title TEST '[1,2,3,1]'\n",
    "inputs=[1,2,3,1]\n",
    "expected_outputs=[\"NO\"]\n",
    "run_and_test(inputs,expected_outputs,asgn04_02If_Queen_move)"
   ]
  },
  {
   "cell_type": "code",
   "execution_count": 47,
   "metadata": {},
   "outputs": [
    {
     "name": "stdout",
     "output_type": "stream",
     "text": [
      "Test [2, 1, 1, 3]\n",
      "\u001b[43m\u001b[32m The program prints 1 lines as expected.\u001b[0m\n",
      "\n",
      "  Line 0\n",
      "\u001b[43m\u001b[32m  Expected and actual output match: NO\u001b[0m\n",
      "\n",
      "\u001b[43m\u001b[32mTest PASSED!\u001b[0m\n"
     ]
    }
   ],
   "source": [
    "#@title TEST '[2,1,1,3]'\n",
    "inputs=[2,1,1,3]\n",
    "expected_outputs=[\"NO\"]\n",
    "run_and_test(inputs,expected_outputs,asgn04_02If_Queen_move)"
   ]
  },
  {
   "cell_type": "markdown",
   "metadata": {
    "id": "CvRjQW_ITQ8T"
   },
   "source": [
    "# Assignment 04.03: Read integers\n",
    "## Statement\n",
    "\n",
    "Write a program that reads positive integer numbers from the keyboard as long as the user provides them. <br/>\n",
    "The program should terminate as soon as the user provides an input that is not numeric (e.g. `'end'`, `'ciao'`, ...), which is considered as a terminating token.\n",
    "\n",
    "Upon reading the termination token, the program prints in separate lines:\n",
    "\n",
    "- how many numbers were given\n",
    "- how many odd numbers were given\n",
    "- the mean of the given numbers\n",
    "- the maximum given number\n",
    "\n",
    "**Untested extra challenge:** some of you might be tempted to solve this assignment using a list to store all numbers, and then iterate it. This is problematic in case of big data, or live data, as there might too many numbers to store. Also, it would be inefficient, as you would have to iterate the list of numbers twice. \n",
    "\n",
    "- Try to solve this assignment without using a list. You should define a variable per quantity we want to observe (or more if necessary), and update them every time a new number arrives.\n",
    "\n",
    "## Example input 1\n",
    "\n",
    "```\n",
    "1\n",
    "```\n",
    "\n",
    "```\n",
    "2\n",
    "```\n",
    "\n",
    "```\n",
    "3\n",
    "```\n",
    "\n",
    "```\n",
    "end\n",
    "```\n",
    "\n",
    "## Example output 1\n",
    "\n",
    "```\n",
    "3\n",
    "```\n",
    "\n",
    "```\n",
    "2\n",
    "```\n",
    "\n",
    "```\n",
    "2.0\n",
    "```\n",
    "\n",
    "```\n",
    "3\n",
    "```\n",
    "\n",
    "## Hints\n",
    "\n",
    "Here a suggestion on how to compute the maximum:\n",
    "\n",
    "- Define a variable `m` with value smaller than any value that might be given. \n",
    "- Every time a new number `n` is given, compare `m` with `n`, and update `m` if `n` is bigger than `m`. \n",
    "\n",
    "Whenever you read with `input()`, you read a string. Strings have a method to check if they represent a number..."
   ]
  },
  {
   "cell_type": "markdown",
   "metadata": {
    "id": "Lr-UYAK6b18z"
   },
   "source": [
    "## Write your solution here\n",
    "\n",
    "\n",
    "*   Do not change the first line (`def ...():`)\n",
    "*   Maintain the given indentation\n",
    "*   You can run some tests by yourself by decommenting the last line\n",
    "\n"
   ]
  },
  {
   "cell_type": "code",
   "execution_count": 49,
   "metadata": {
    "id": "ghJWGiEPUD9v"
   },
   "outputs": [],
   "source": [
    "def asgn04_03Read_integers():\n",
    "#     # This program reads a numbwe and prints it\n",
    "#     a = int(input())\n",
    "#     print(a)\n",
    "\n",
    "#     # Change it according to the assignment description\n",
    "\n",
    "\n",
    "    #To count all and the odd ones\n",
    "    count=0\n",
    "    count_odd=0\n",
    "    #For the mean\n",
    "    sum=0\n",
    "    #For the max\n",
    "    max=-1\n",
    "\n",
    "    s=input()\n",
    "    while s.isnumeric() :\n",
    "        n = int(s)\n",
    "        count +=1\n",
    "        sum+=n\n",
    "        if n%2!=0:\n",
    "          count_odd+=1\n",
    "        if n > max:\n",
    "          max=n\n",
    "        s=input()\n",
    "\n",
    "    print(count)\n",
    "    print(count_odd)\n",
    "    print(sum/count)\n",
    "    print(max)\n",
    "\n",
    "#You can test independently your solution by executing the following line\n",
    "#asgn04_03Read_integers()"
   ]
  },
  {
   "cell_type": "markdown",
   "metadata": {
    "id": "XJA5H0ULcVAM"
   },
   "source": [
    "## Run the following cells to perform the provided tests"
   ]
  },
  {
   "cell_type": "code",
   "execution_count": 51,
   "metadata": {
    "colab": {
     "base_uri": "https://localhost:8080/"
    },
    "id": "eSTVUwPMJiEZ",
    "outputId": "8d3b1217-2345-4e7b-b9b7-28002118956a"
   },
   "outputs": [
    {
     "name": "stdout",
     "output_type": "stream",
     "text": [
      "Test ['1', '2', '3', 'end']\n",
      "\u001b[43m\u001b[32m The program prints 4 lines as expected.\u001b[0m\n",
      "\n",
      "  Line 0\n",
      "\u001b[43m\u001b[32m  Expected and actual output match: 3\u001b[0m\n",
      "\n",
      "  Line 1\n",
      "\u001b[43m\u001b[32m  Expected and actual output match: 2\u001b[0m\n",
      "\n",
      "  Line 2\n",
      "\u001b[43m\u001b[32m  Expected and actual output match: 2.0\u001b[0m\n",
      "\n",
      "  Line 3\n",
      "\u001b[43m\u001b[32m  Expected and actual output match: 3\u001b[0m\n",
      "\n",
      "\u001b[43m\u001b[32mTest PASSED!\u001b[0m\n"
     ]
    }
   ],
   "source": [
    "#@title TEST 1 2 3 end\n",
    "inputs=['1', '2', '3', 'end']\n",
    "expected_outputs=[\"3\",\"2\",\"2.0\",\"3\"]\n",
    "run_and_test(inputs,expected_outputs,asgn04_03Read_integers)"
   ]
  },
  {
   "cell_type": "code",
   "execution_count": 52,
   "metadata": {},
   "outputs": [
    {
     "name": "stdout",
     "output_type": "stream",
     "text": [
      "Test ['1', '2', '3', 'fine']\n",
      "\u001b[43m\u001b[32m The program prints 4 lines as expected.\u001b[0m\n",
      "\n",
      "  Line 0\n",
      "\u001b[43m\u001b[32m  Expected and actual output match: 3\u001b[0m\n",
      "\n",
      "  Line 1\n",
      "\u001b[43m\u001b[32m  Expected and actual output match: 2\u001b[0m\n",
      "\n",
      "  Line 2\n",
      "\u001b[43m\u001b[32m  Expected and actual output match: 2.0\u001b[0m\n",
      "\n",
      "  Line 3\n",
      "\u001b[43m\u001b[32m  Expected and actual output match: 3\u001b[0m\n",
      "\n",
      "\u001b[43m\u001b[32mTest PASSED!\u001b[0m\n"
     ]
    }
   ],
   "source": [
    "#@title TEST 1 2 3 fine\n",
    "inputs=['1', '2', '3', 'fine']\n",
    "expected_outputs=[\"3\",\"2\",\"2.0\",\"3\"]\n",
    "run_and_test(inputs,expected_outputs,asgn04_03Read_integers)"
   ]
  },
  {
   "cell_type": "code",
   "execution_count": 53,
   "metadata": {},
   "outputs": [
    {
     "name": "stdout",
     "output_type": "stream",
     "text": [
      "Test ['1', '3', '5', '7', '9', '11', 'ciao']\n",
      "\u001b[43m\u001b[32m The program prints 4 lines as expected.\u001b[0m\n",
      "\n",
      "  Line 0\n",
      "\u001b[43m\u001b[32m  Expected and actual output match: 6\u001b[0m\n",
      "\n",
      "  Line 1\n",
      "\u001b[43m\u001b[32m  Expected and actual output match: 6\u001b[0m\n",
      "\n",
      "  Line 2\n",
      "\u001b[43m\u001b[32m  Expected and actual output match: 6.0\u001b[0m\n",
      "\n",
      "  Line 3\n",
      "\u001b[43m\u001b[32m  Expected and actual output match: 11\u001b[0m\n",
      "\n",
      "\u001b[43m\u001b[32mTest PASSED!\u001b[0m\n"
     ]
    }
   ],
   "source": [
    "#@title TEST 1 3 5 7 9 11 ciao\n",
    "inputs=['1', '3', '5', '7', '9', '11', 'ciao']\n",
    "expected_outputs=['6', '6', '6.0', '11']\n",
    "run_and_test(inputs,expected_outputs,asgn04_03Read_integers)"
   ]
  },
  {
   "cell_type": "code",
   "execution_count": 54,
   "metadata": {},
   "outputs": [
    {
     "name": "stdout",
     "output_type": "stream",
     "text": [
      "Test ['11', '9', '7', '5', '3', '1', 'ciao']\n",
      "\u001b[43m\u001b[32m The program prints 4 lines as expected.\u001b[0m\n",
      "\n",
      "  Line 0\n",
      "\u001b[43m\u001b[32m  Expected and actual output match: 6\u001b[0m\n",
      "\n",
      "  Line 1\n",
      "\u001b[43m\u001b[32m  Expected and actual output match: 6\u001b[0m\n",
      "\n",
      "  Line 2\n",
      "\u001b[43m\u001b[32m  Expected and actual output match: 6.0\u001b[0m\n",
      "\n",
      "  Line 3\n",
      "\u001b[43m\u001b[32m  Expected and actual output match: 11\u001b[0m\n",
      "\n",
      "\u001b[43m\u001b[32mTest PASSED!\u001b[0m\n"
     ]
    }
   ],
   "source": [
    "#@title TEST \"'11', '9', '7', '5', '3', '1', 'ciao'\"\n",
    "inputs=['11', '9', '7', '5', '3', '1', 'ciao']\n",
    "expected_outputs=['6', '6', '6.0', '11']\n",
    "run_and_test(inputs,expected_outputs,asgn04_03Read_integers)"
   ]
  },
  {
   "cell_type": "markdown",
   "metadata": {
    "id": "CvRjQW_ITQ8T"
   },
   "source": [
    "# Assignment 04.04: While-Average of sequence\n",
    "## Statement\n",
    "\n",
    "Read a sequence of non-negative integers, where each number is written in a separate line. The sequence ends with 0. Upon termination, print the average of the sequence. \n",
    "\n",
    "This assignment should be solved using while loops\n",
    "\n",
    "## Example input\n",
    "\n",
    "```\n",
    "10\n",
    "```\n",
    "\n",
    "```\n",
    "30\n",
    "```\n",
    "\n",
    "```\n",
    "0\n",
    "```\n",
    "\n",
    "## Example output\n",
    "\n",
    "```\n",
    "20.0\n",
    "```\n",
    "\n"
   ]
  },
  {
   "cell_type": "markdown",
   "metadata": {
    "id": "Lr-UYAK6b18z"
   },
   "source": [
    "## Write your solution here\n",
    "\n",
    "\n",
    "*   Do not change the first line (`def ...():`)\n",
    "*   Maintain the given indentation\n",
    "*   You can run some tests by yourself by decommenting the last line\n",
    "\n"
   ]
  },
  {
   "cell_type": "code",
   "execution_count": 55,
   "metadata": {
    "id": "ghJWGiEPUD9v"
   },
   "outputs": [],
   "source": [
    "def asgn04_04While_Average_of_sequence():\n",
    "#     # This program reads a numbwe and prints it\n",
    "#     a = int(input())\n",
    "#     print(a)\n",
    "\n",
    "#     # Change it according to the assignment description\n",
    "\n",
    "\n",
    "    current_number = int(input())\n",
    "    length = 0\n",
    "    sum_of_sequence = 0\n",
    "    while current_number != 0:\n",
    "        sum_of_sequence += current_number\n",
    "        length += 1\n",
    "        current_number = int(input())\n",
    "    print(sum_of_sequence / length)\n",
    "\n",
    "#You can test independently your solution by executing the following line\n",
    "#asgn04_04While_Average_of_sequence()"
   ]
  },
  {
   "cell_type": "markdown",
   "metadata": {
    "id": "XJA5H0ULcVAM"
   },
   "source": [
    "## Run the following cells to perform the provided tests"
   ]
  },
  {
   "cell_type": "code",
   "execution_count": 57,
   "metadata": {
    "colab": {
     "base_uri": "https://localhost:8080/"
    },
    "id": "eSTVUwPMJiEZ",
    "outputId": "8d3b1217-2345-4e7b-b9b7-28002118956a"
   },
   "outputs": [
    {
     "name": "stdout",
     "output_type": "stream",
     "text": [
      "Test ['10', '30', '0']\n",
      "\u001b[43m\u001b[32m The program prints 1 lines as expected.\u001b[0m\n",
      "\n",
      "  Line 0\n",
      "\u001b[43m\u001b[32m  Expected and actual output match: 20.0\u001b[0m\n",
      "\n",
      "\u001b[43m\u001b[32mTest PASSED!\u001b[0m\n"
     ]
    }
   ],
   "source": [
    "#@title TEST 10 30 0\n",
    "inputs=['10', '30', '0']\n",
    "expected_outputs=[\"20.0\"]\n",
    "run_and_test(inputs,expected_outputs,asgn04_04While_Average_of_sequence)"
   ]
  },
  {
   "cell_type": "code",
   "execution_count": 59,
   "metadata": {},
   "outputs": [
    {
     "name": "stdout",
     "output_type": "stream",
     "text": [
      "Test ['1', '1', '1', '1', '0']\n",
      "\u001b[43m\u001b[32m The program prints 1 lines as expected.\u001b[0m\n",
      "\n",
      "  Line 0\n",
      "\u001b[43m\u001b[32m  Expected and actual output match: 1.0\u001b[0m\n",
      "\n",
      "\u001b[43m\u001b[32mTest PASSED!\u001b[0m\n"
     ]
    }
   ],
   "source": [
    "#@title TEST \"'1', '1', '1', '1', '0'\"\n",
    "inputs=['1', '1', '1', '1', '0']\n",
    "expected_outputs=[\"1.0\"]\n",
    "run_and_test(inputs,expected_outputs,asgn04_04While_Average_of_sequence)"
   ]
  },
  {
   "cell_type": "code",
   "execution_count": 60,
   "metadata": {},
   "outputs": [
    {
     "name": "stdout",
     "output_type": "stream",
     "text": [
      "Test ['1', '2', '0']\n",
      "\u001b[43m\u001b[32m The program prints 1 lines as expected.\u001b[0m\n",
      "\n",
      "  Line 0\n",
      "\u001b[43m\u001b[32m  Expected and actual output match: 1.5\u001b[0m\n",
      "\n",
      "\u001b[43m\u001b[32mTest PASSED!\u001b[0m\n"
     ]
    }
   ],
   "source": [
    "#@title TEST \"'1', '2', '0'\"\n",
    "inputs=['1', '2', '0']\n",
    "expected_outputs=[\"1.5\"]\n",
    "run_and_test(inputs,expected_outputs,asgn04_04While_Average_of_sequence)"
   ]
  },
  {
   "cell_type": "code",
   "execution_count": 64,
   "metadata": {},
   "outputs": [
    {
     "name": "stdout",
     "output_type": "stream",
     "text": [
      "Test ['1', '2', '3', '4', '0']\n",
      "\u001b[43m\u001b[32m The program prints 1 lines as expected.\u001b[0m\n",
      "\n",
      "  Line 0\n",
      "\u001b[43m\u001b[32m  Expected and actual output match: 2.5\u001b[0m\n",
      "\n",
      "\u001b[43m\u001b[32mTest PASSED!\u001b[0m\n"
     ]
    }
   ],
   "source": [
    "#@title TEST \"'1', '2', '3', '4', '0'\"\n",
    "inputs=['1', '2', '3', '4', '0']\n",
    "expected_outputs=[\"2.5\"]\n",
    "run_and_test(inputs,expected_outputs,asgn04_04While_Average_of_sequence)"
   ]
  },
  {
   "cell_type": "code",
   "execution_count": 62,
   "metadata": {},
   "outputs": [
    {
     "name": "stdout",
     "output_type": "stream",
     "text": [
      "Test ['1234', '0']\n",
      "\u001b[43m\u001b[32m The program prints 1 lines as expected.\u001b[0m\n",
      "\n",
      "  Line 0\n",
      "\u001b[43m\u001b[32m  Expected and actual output match: 1234.0\u001b[0m\n",
      "\n",
      "\u001b[43m\u001b[32mTest PASSED!\u001b[0m\n"
     ]
    }
   ],
   "source": [
    "#@title TEST \"'1234', '0'\"\n",
    "inputs=['1234', '0']\n",
    "expected_outputs=[\"1234.0\"]\n",
    "run_and_test(inputs,expected_outputs,asgn04_04While_Average_of_sequence)"
   ]
  },
  {
   "cell_type": "code",
   "execution_count": 65,
   "metadata": {},
   "outputs": [
    {
     "name": "stdout",
     "output_type": "stream",
     "text": [
      "Test ['1', '2', '3', '4', '5', '6', '7', '0']\n",
      "\u001b[43m\u001b[32m The program prints 1 lines as expected.\u001b[0m\n",
      "\n",
      "  Line 0\n",
      "\u001b[43m\u001b[32m  Expected and actual output match: 4.0\u001b[0m\n",
      "\n",
      "\u001b[43m\u001b[32mTest PASSED!\u001b[0m\n"
     ]
    }
   ],
   "source": [
    "#@title TEST \"'1', '2', '3', '4', '5', '6', '7', '0'\"\n",
    "inputs=['1', '2', '3', '4', '5', '6', '7', '0']\n",
    "expected_outputs=[\"4.0\"]\n",
    "run_and_test(inputs,expected_outputs,asgn04_04While_Average_of_sequence)"
   ]
  },
  {
   "cell_type": "markdown",
   "metadata": {
    "id": "CvRjQW_ITQ8T"
   },
   "source": [
    "# Assignment 04.05: While-Fibonacci\n",
    "## Statement\n",
    "\n",
    "Fibonacci numbers are the numbers in the [integer sequence ](https://en.wikipedia.org/wiki/Integer_sequence)starting with 1, 1 where every number after the first two is the sum of the two preceding ones:\n",
    "\n",
    "1, 1, 2, 3, 5, 8, 13, 21, 34, ...\n",
    "\n",
    "Given a positive integer **n**, print the **n**th Fibonacci number.\n",
    "\n",
    "This assignment should be solved using while loops\n",
    "\n",
    "## Example input\n",
    "\n",
    "```\n",
    "6\n",
    "```\n",
    "\n",
    "## Example output\n",
    "\n",
    "```\n",
    "8\n",
    "```"
   ]
  },
  {
   "cell_type": "markdown",
   "metadata": {
    "id": "Lr-UYAK6b18z"
   },
   "source": [
    "## Write your solution here\n",
    "\n",
    "\n",
    "*   Do not change the first line (`def ...():`)\n",
    "*   Maintain the given indentation\n",
    "*   You can run some tests by yourself by decommenting the last line\n",
    "\n"
   ]
  },
  {
   "cell_type": "code",
   "execution_count": 68,
   "metadata": {
    "id": "ghJWGiEPUD9v"
   },
   "outputs": [],
   "source": [
    "def asgn04_05While_Fibonacci():\n",
    "#     # This program reads a numbwe and prints it\n",
    "#     a = int(input())\n",
    "#     print(a)\n",
    "\n",
    "#     # Change it according to the assignment description\n",
    "\n",
    "\n",
    "    prev_n, next_n = 1, 1\n",
    "    n = int(input())\n",
    "    for i in range(n - 2):\n",
    "        prev_n, next_n = next_n, prev_n + next_n\n",
    "    print(next_n)\n",
    "\n",
    "#You can test independently your solution by executing the following line\n",
    "#asgn04_05While_Fibonacci()"
   ]
  },
  {
   "cell_type": "markdown",
   "metadata": {
    "id": "XJA5H0ULcVAM"
   },
   "source": [
    "## Run the following cells to perform the provided tests"
   ]
  },
  {
   "cell_type": "code",
   "execution_count": 69,
   "metadata": {
    "colab": {
     "base_uri": "https://localhost:8080/"
    },
    "id": "eSTVUwPMJiEZ",
    "outputId": "8d3b1217-2345-4e7b-b9b7-28002118956a"
   },
   "outputs": [
    {
     "name": "stdout",
     "output_type": "stream",
     "text": [
      "Test ['6']\n",
      "\u001b[43m\u001b[32m The program prints 1 lines as expected.\u001b[0m\n",
      "\n",
      "  Line 0\n",
      "\u001b[43m\u001b[32m  Expected and actual output match: 8\u001b[0m\n",
      "\n",
      "\u001b[43m\u001b[32mTest PASSED!\u001b[0m\n"
     ]
    }
   ],
   "source": [
    "#@title TEST 6\n",
    "inputs=['6']\n",
    "expected_outputs=[\"8\"]\n",
    "run_and_test(inputs,expected_outputs,asgn04_05While_Fibonacci)"
   ]
  },
  {
   "cell_type": "code",
   "execution_count": 70,
   "metadata": {},
   "outputs": [
    {
     "name": "stdout",
     "output_type": "stream",
     "text": [
      "Test ['1']\n",
      "\u001b[43m\u001b[32m The program prints 1 lines as expected.\u001b[0m\n",
      "\n",
      "  Line 0\n",
      "\u001b[43m\u001b[32m  Expected and actual output match: 1\u001b[0m\n",
      "\n",
      "\u001b[43m\u001b[32mTest PASSED!\u001b[0m\n"
     ]
    }
   ],
   "source": [
    "#@title TEST 1\n",
    "inputs=['1']\n",
    "expected_outputs=[\"1\"]\n",
    "run_and_test(inputs,expected_outputs,asgn04_05While_Fibonacci)"
   ]
  },
  {
   "cell_type": "code",
   "execution_count": 71,
   "metadata": {},
   "outputs": [
    {
     "name": "stdout",
     "output_type": "stream",
     "text": [
      "Test ['2']\n",
      "\u001b[43m\u001b[32m The program prints 1 lines as expected.\u001b[0m\n",
      "\n",
      "  Line 0\n",
      "\u001b[43m\u001b[32m  Expected and actual output match: 1\u001b[0m\n",
      "\n",
      "\u001b[43m\u001b[32mTest PASSED!\u001b[0m\n"
     ]
    }
   ],
   "source": [
    "#@title TEST 2\n",
    "inputs=['2']\n",
    "expected_outputs=[\"1\"]\n",
    "run_and_test(inputs,expected_outputs,asgn04_05While_Fibonacci)"
   ]
  },
  {
   "cell_type": "code",
   "execution_count": 72,
   "metadata": {},
   "outputs": [
    {
     "name": "stdout",
     "output_type": "stream",
     "text": [
      "Test ['3']\n",
      "\u001b[43m\u001b[32m The program prints 1 lines as expected.\u001b[0m\n",
      "\n",
      "  Line 0\n",
      "\u001b[43m\u001b[32m  Expected and actual output match: 2\u001b[0m\n",
      "\n",
      "\u001b[43m\u001b[32mTest PASSED!\u001b[0m\n"
     ]
    }
   ],
   "source": [
    "#@title TEST 3\n",
    "inputs=['3']\n",
    "expected_outputs=[\"2\"]\n",
    "run_and_test(inputs,expected_outputs,asgn04_05While_Fibonacci)"
   ]
  },
  {
   "cell_type": "code",
   "execution_count": 73,
   "metadata": {},
   "outputs": [
    {
     "name": "stdout",
     "output_type": "stream",
     "text": [
      "Test ['4']\n",
      "\u001b[43m\u001b[32m The program prints 1 lines as expected.\u001b[0m\n",
      "\n",
      "  Line 0\n",
      "\u001b[43m\u001b[32m  Expected and actual output match: 3\u001b[0m\n",
      "\n",
      "\u001b[43m\u001b[32mTest PASSED!\u001b[0m\n"
     ]
    }
   ],
   "source": [
    "#@title TEST 4\n",
    "inputs=['4']\n",
    "expected_outputs=[\"3\"]\n",
    "run_and_test(inputs,expected_outputs,asgn04_05While_Fibonacci)"
   ]
  },
  {
   "cell_type": "code",
   "execution_count": 74,
   "metadata": {},
   "outputs": [
    {
     "name": "stdout",
     "output_type": "stream",
     "text": [
      "Test ['7']\n",
      "\u001b[43m\u001b[32m The program prints 1 lines as expected.\u001b[0m\n",
      "\n",
      "  Line 0\n",
      "\u001b[43m\u001b[32m  Expected and actual output match: 13\u001b[0m\n",
      "\n",
      "\u001b[43m\u001b[32mTest PASSED!\u001b[0m\n"
     ]
    }
   ],
   "source": [
    "#@title TEST 7\n",
    "inputs=['7']\n",
    "expected_outputs=[\"13\"]\n",
    "run_and_test(inputs,expected_outputs,asgn04_05While_Fibonacci)"
   ]
  },
  {
   "cell_type": "code",
   "execution_count": 75,
   "metadata": {},
   "outputs": [
    {
     "name": "stdout",
     "output_type": "stream",
     "text": [
      "Test ['14']\n",
      "\u001b[43m\u001b[32m The program prints 1 lines as expected.\u001b[0m\n",
      "\n",
      "  Line 0\n",
      "\u001b[43m\u001b[32m  Expected and actual output match: 377\u001b[0m\n",
      "\n",
      "\u001b[43m\u001b[32mTest PASSED!\u001b[0m\n"
     ]
    }
   ],
   "source": [
    "#@title TEST 14\n",
    "inputs=['14']\n",
    "expected_outputs=[\"377\"]\n",
    "run_and_test(inputs,expected_outputs,asgn04_05While_Fibonacci)"
   ]
  },
  {
   "cell_type": "code",
   "execution_count": 76,
   "metadata": {},
   "outputs": [
    {
     "name": "stdout",
     "output_type": "stream",
     "text": [
      "Test ['18']\n",
      "\u001b[43m\u001b[32m The program prints 1 lines as expected.\u001b[0m\n",
      "\n",
      "  Line 0\n",
      "\u001b[43m\u001b[32m  Expected and actual output match: 2584\u001b[0m\n",
      "\n",
      "\u001b[43m\u001b[32mTest PASSED!\u001b[0m\n"
     ]
    }
   ],
   "source": [
    "#@title TEST 18\n",
    "inputs=['18']\n",
    "expected_outputs=[\"2584\"]\n",
    "run_and_test(inputs,expected_outputs,asgn04_05While_Fibonacci)"
   ]
  },
  {
   "cell_type": "markdown",
   "metadata": {
    "id": "CvRjQW_ITQ8T"
   },
   "source": [
    "# Assignment 04.06: For-Sum of N numbers\n",
    "## Statement\n",
    "\n",
    "`N` numbers are given in the input. Read them and print their sum. \n",
    "\n",
    "The first line of input contains the integer `N`, which is the number of integers to follow. Each of the next `N` lines contains one integer. Print the sum of these `N` integers.\n",
    "\n",
    "This assignment should be solved using for loops\n",
    "\n",
    "## Example input\n",
    "\n",
    "```\n",
    "10\n",
    "1\n",
    "2\n",
    "1\n",
    "1\n",
    "1\n",
    "1\n",
    "3\n",
    "1\n",
    "1\n",
    "1\n",
    "```\n",
    "\n",
    "## Example output\n",
    "\n",
    "```\n",
    "13\n",
    "```\n",
    "\n"
   ]
  },
  {
   "cell_type": "markdown",
   "metadata": {
    "id": "Lr-UYAK6b18z"
   },
   "source": [
    "## Write your solution here\n",
    "\n",
    "\n",
    "*   Do not change the first line (`def ...():`)\n",
    "*   Maintain the given indentation\n",
    "*   You can run some tests by yourself by decommenting the last line\n",
    "\n"
   ]
  },
  {
   "cell_type": "code",
   "execution_count": 77,
   "metadata": {
    "id": "ghJWGiEPUD9v"
   },
   "outputs": [],
   "source": [
    "def asgn04_06For_Sum_of_N_numbers():\n",
    "#     # This program reads a numbwe and prints it\n",
    "#     a = int(input())\n",
    "#     print(a)\n",
    "\n",
    "#     # Change it according to the assignment description\n",
    "\n",
    "    result = 0\n",
    "    for i in range(int(input())):\n",
    "        result += int(input())\n",
    "    print(result)\n",
    "#You can test independently your solution by executing the following line\n",
    "#asgn04_06For_Sum_of_N_numbers()"
   ]
  },
  {
   "cell_type": "markdown",
   "metadata": {
    "id": "XJA5H0ULcVAM"
   },
   "source": [
    "## Run the following cells to perform the provided tests"
   ]
  },
  {
   "cell_type": "code",
   "execution_count": 83,
   "metadata": {},
   "outputs": [
    {
     "name": "stdout",
     "output_type": "stream",
     "text": [
      "Test ['1', '891']\n",
      "\u001b[43m\u001b[32m The program prints 1 lines as expected.\u001b[0m\n",
      "\n",
      "  Line 0\n",
      "\u001b[43m\u001b[32m  Expected and actual output match: 891\u001b[0m\n",
      "\n",
      "\u001b[43m\u001b[32mTest PASSED!\u001b[0m\n"
     ]
    }
   ],
   "source": [
    "#@title TEST \"'1', '891'\"\n",
    "inputs=['1', '891']\n",
    "expected_outputs=[\"891\"]\n",
    "run_and_test(inputs,expected_outputs,asgn04_06For_Sum_of_N_numbers)"
   ]
  },
  {
   "cell_type": "code",
   "execution_count": 84,
   "metadata": {},
   "outputs": [
    {
     "name": "stdout",
     "output_type": "stream",
     "text": [
      "Test ['0']\n",
      "\u001b[43m\u001b[32m The program prints 1 lines as expected.\u001b[0m\n",
      "\n",
      "  Line 0\n",
      "\u001b[43m\u001b[32m  Expected and actual output match: 0\u001b[0m\n",
      "\n",
      "\u001b[43m\u001b[32mTest PASSED!\u001b[0m\n"
     ]
    }
   ],
   "source": [
    "#@title TEST '0'\n",
    "inputs=['0']\n",
    "expected_outputs=[\"0\"]\n",
    "run_and_test(inputs,expected_outputs,asgn04_06For_Sum_of_N_numbers)"
   ]
  },
  {
   "cell_type": "code",
   "execution_count": 78,
   "metadata": {
    "colab": {
     "base_uri": "https://localhost:8080/"
    },
    "id": "eSTVUwPMJiEZ",
    "outputId": "8d3b1217-2345-4e7b-b9b7-28002118956a"
   },
   "outputs": [
    {
     "name": "stdout",
     "output_type": "stream",
     "text": [
      "Test ['10', '1', '2', '1', '1', '1', '1', '3', '1', '1', '1']\n",
      "\u001b[43m\u001b[32m The program prints 1 lines as expected.\u001b[0m\n",
      "\n",
      "  Line 0\n",
      "\u001b[43m\u001b[32m  Expected and actual output match: 13\u001b[0m\n",
      "\n",
      "\u001b[43m\u001b[32mTest PASSED!\u001b[0m\n"
     ]
    }
   ],
   "source": [
    "#@title TEST \"'10', '1', '2', '1', '1', '1', '1', '3', '1', '1', '1'\"\n",
    "inputs=['10', '1', '2', '1', '1', '1', '1', '3', '1', '1', '1']\n",
    "expected_outputs=[\"13\"]\n",
    "run_and_test(inputs,expected_outputs,asgn04_06For_Sum_of_N_numbers)"
   ]
  },
  {
   "cell_type": "code",
   "execution_count": 79,
   "metadata": {},
   "outputs": [
    {
     "name": "stdout",
     "output_type": "stream",
     "text": [
      "Test ['10', '1', '2', '3', '4', '5', '6', '7', '8', '9', '10']\n",
      "\u001b[43m\u001b[32m The program prints 1 lines as expected.\u001b[0m\n",
      "\n",
      "  Line 0\n",
      "\u001b[43m\u001b[32m  Expected and actual output match: 55\u001b[0m\n",
      "\n",
      "\u001b[43m\u001b[32mTest PASSED!\u001b[0m\n"
     ]
    }
   ],
   "source": [
    "#@title TEST \"'10', '1', '2', '3', '4', '5', '6', '7', '8', '9', '10'\"\n",
    "inputs=['10', '1', '2', '3', '4', '5', '6', '7', '8', '9', '10']\n",
    "expected_outputs=[\"55\"]\n",
    "run_and_test(inputs,expected_outputs,asgn04_06For_Sum_of_N_numbers)"
   ]
  },
  {
   "cell_type": "code",
   "execution_count": 81,
   "metadata": {},
   "outputs": [
    {
     "name": "stdout",
     "output_type": "stream",
     "text": [
      "Test ['2', '235', '56']\n",
      "\u001b[43m\u001b[32m The program prints 1 lines as expected.\u001b[0m\n",
      "\n",
      "  Line 0\n",
      "\u001b[43m\u001b[32m  Expected and actual output match: 291\u001b[0m\n",
      "\n",
      "\u001b[43m\u001b[32mTest PASSED!\u001b[0m\n"
     ]
    }
   ],
   "source": [
    "#@title TEST \"'2', '235', '56'\"\n",
    "inputs=['2', '235', '56']\n",
    "expected_outputs=[\"291\"]\n",
    "run_and_test(inputs,expected_outputs,asgn04_06For_Sum_of_N_numbers)"
   ]
  },
  {
   "cell_type": "code",
   "execution_count": 85,
   "metadata": {},
   "outputs": [
    {
     "name": "stdout",
     "output_type": "stream",
     "text": [
      "Test ['4', '4', '4', '4', '4']\n",
      "\u001b[43m\u001b[32m The program prints 1 lines as expected.\u001b[0m\n",
      "\n",
      "  Line 0\n",
      "\u001b[43m\u001b[32m  Expected and actual output match: 16\u001b[0m\n",
      "\n",
      "\u001b[43m\u001b[32mTest PASSED!\u001b[0m\n"
     ]
    }
   ],
   "source": [
    "#@title TEST \"'4', '4', '4', '4', '4'\"\n",
    "inputs=['4', '4', '4', '4', '4']\n",
    "expected_outputs=[\"16\"]\n",
    "run_and_test(inputs,expected_outputs,asgn04_06For_Sum_of_N_numbers)"
   ]
  },
  {
   "cell_type": "markdown",
   "metadata": {
    "id": "CvRjQW_ITQ8T"
   },
   "source": [
    "# Assignment 04.07: For-Series\n",
    "## Statement\n",
    "\n",
    "Given two integers `A` and `B`. Print all numbers from `A` to `B` inclusively, all in the same line separated by a space.\n",
    "In particular, the numbers should be printed\n",
    "- in increasing order, if `A < B`, or \n",
    "- in decreasing order, if `A >= B`.\n",
    "\n",
    "This assignment should be solved using for loops\n",
    "\n",
    "## Example input 1\n",
    "\n",
    "```\n",
    "8\n",
    "```\n",
    "\n",
    "```\n",
    "5\n",
    "```\n",
    "\n",
    "## Example output 1\n",
    "\n",
    "```\n",
    "8 7 6 5\n",
    "```\n",
    "\n",
    "## Example input 2\n",
    "\n",
    "```\n",
    "5\n",
    "```\n",
    "\n",
    "```\n",
    "8\n",
    "```\n",
    "\n",
    "## Example output 2\n",
    "\n",
    "```\n",
    "5 6 7 8\n",
    "```\n"
   ]
  },
  {
   "cell_type": "markdown",
   "metadata": {
    "id": "Lr-UYAK6b18z"
   },
   "source": [
    "## Write your solution here\n",
    "\n",
    "\n",
    "*   Do not change the first line (`def ...():`)\n",
    "*   Maintain the given indentation\n",
    "*   You can run some tests by yourself by decommenting the last line\n",
    "\n"
   ]
  },
  {
   "cell_type": "code",
   "execution_count": 86,
   "metadata": {
    "id": "ghJWGiEPUD9v"
   },
   "outputs": [],
   "source": [
    "def asgn04_07For_Series():\n",
    "#     # This program reads a numbwe and prints it\n",
    "#     a = int(input())\n",
    "#     print(a)\n",
    "\n",
    "#     # Change it according to the assignment description\n",
    "\n",
    "    a = int(input())\n",
    "    b = int(input())\n",
    "\n",
    "    if a < b:\n",
    "        for i in range(a, b + 1):\n",
    "            print(i, end=' ')\n",
    "    else:\n",
    "        for i in range(a, b - 1, -1):\n",
    "            print(i, end=' ')\n",
    "#You can test independently your solution by executing the following line\n",
    "#asgn04_07For_Series()"
   ]
  },
  {
   "cell_type": "markdown",
   "metadata": {
    "id": "XJA5H0ULcVAM"
   },
   "source": [
    "## Run the following cells to perform the provided tests"
   ]
  },
  {
   "cell_type": "code",
   "execution_count": 87,
   "metadata": {},
   "outputs": [
    {
     "name": "stdout",
     "output_type": "stream",
     "text": [
      "Test ['8', '5']\n",
      "\u001b[43m\u001b[32m The program prints 1 lines as expected.\u001b[0m\n",
      "\n",
      "  Line 0\n",
      "\u001b[43m\u001b[32m  Expected and actual output match: 8 7 6 5\u001b[0m\n",
      "\n",
      "\u001b[43m\u001b[32mTest PASSED!\u001b[0m\n"
     ]
    }
   ],
   "source": [
    "#@title TEST \"'8', '5'\"\n",
    "inputs=['8', '5']\n",
    "expected_outputs=[\"8 7 6 5\"]\n",
    "run_and_test(inputs,expected_outputs,asgn04_07For_Series)"
   ]
  },
  {
   "cell_type": "code",
   "execution_count": 89,
   "metadata": {},
   "outputs": [
    {
     "name": "stdout",
     "output_type": "stream",
     "text": [
      "Test ['5', '8']\n",
      "\u001b[43m\u001b[32m The program prints 1 lines as expected.\u001b[0m\n",
      "\n",
      "  Line 0\n",
      "\u001b[43m\u001b[32m  Expected and actual output match: 5 6 7 8\u001b[0m\n",
      "\n",
      "\u001b[43m\u001b[32mTest PASSED!\u001b[0m\n"
     ]
    }
   ],
   "source": [
    "#@title TEST \"'5', '8'\"\n",
    "inputs=['5', '8']\n",
    "expected_outputs=[\"5 6 7 8\"]\n",
    "run_and_test(inputs,expected_outputs,asgn04_07For_Series)"
   ]
  },
  {
   "cell_type": "code",
   "execution_count": 91,
   "metadata": {},
   "outputs": [
    {
     "name": "stdout",
     "output_type": "stream",
     "text": [
      "Test ['1', '10']\n",
      "\u001b[43m\u001b[32m The program prints 1 lines as expected.\u001b[0m\n",
      "\n",
      "  Line 0\n",
      "\u001b[43m\u001b[32m  Expected and actual output match: 1 2 3 4 5 6 7 8 9 10\u001b[0m\n",
      "\n",
      "\u001b[43m\u001b[32mTest PASSED!\u001b[0m\n"
     ]
    }
   ],
   "source": [
    "#@title TEST \"'1', '10'\"\n",
    "inputs=['1', '10']\n",
    "expected_outputs=[\"1 2 3 4 5 6 7 8 9 10\"]\n",
    "run_and_test(inputs,expected_outputs,asgn04_07For_Series)"
   ]
  },
  {
   "cell_type": "code",
   "execution_count": 92,
   "metadata": {},
   "outputs": [
    {
     "name": "stdout",
     "output_type": "stream",
     "text": [
      "Test ['179', '179']\n",
      "\u001b[43m\u001b[32m The program prints 1 lines as expected.\u001b[0m\n",
      "\n",
      "  Line 0\n",
      "\u001b[43m\u001b[32m  Expected and actual output match: 179\u001b[0m\n",
      "\n",
      "\u001b[43m\u001b[32mTest PASSED!\u001b[0m\n"
     ]
    }
   ],
   "source": [
    "#@title TEST \"'179', '179'\"\n",
    "inputs=['179', '179']\n",
    "expected_outputs=[\"179\"]\n",
    "run_and_test(inputs,expected_outputs,asgn04_07For_Series)"
   ]
  },
  {
   "cell_type": "code",
   "execution_count": 93,
   "metadata": {},
   "outputs": [
    {
     "name": "stdout",
     "output_type": "stream",
     "text": [
      "Test ['-14', '7']\n",
      "\u001b[43m\u001b[32m The program prints 1 lines as expected.\u001b[0m\n",
      "\n",
      "  Line 0\n",
      "\u001b[43m\u001b[32m  Expected and actual output match: -14 -13 -12 -11 -10 -9 -8 -7 -6 -5 -4 -3 -2 -1 0 1 2 3 4 5 6 7\u001b[0m\n",
      "\n",
      "\u001b[43m\u001b[32mTest PASSED!\u001b[0m\n"
     ]
    }
   ],
   "source": [
    "#@title TEST \"'-14', '7'\"\n",
    "inputs=['-14', '7']\n",
    "expected_outputs=[\"-14 -13 -12 -11 -10 -9 -8 -7 -6 -5 -4 -3 -2 -1 0 1 2 3 4 5 6 7\"]\n",
    "run_and_test(inputs,expected_outputs,asgn04_07For_Series)"
   ]
  },
  {
   "cell_type": "code",
   "execution_count": 95,
   "metadata": {},
   "outputs": [
    {
     "name": "stdout",
     "output_type": "stream",
     "text": [
      "Test ['12', '-5']\n",
      "\u001b[43m\u001b[32m The program prints 1 lines as expected.\u001b[0m\n",
      "\n",
      "  Line 0\n",
      "\u001b[43m\u001b[32m  Expected and actual output match: 12 11 10 9 8 7 6 5 4 3 2 1 0 -1 -2 -3 -4 -5\u001b[0m\n",
      "\n",
      "\u001b[43m\u001b[32mTest PASSED!\u001b[0m\n"
     ]
    }
   ],
   "source": [
    "#@title TEST \"'12', '-5'\"\n",
    "inputs=['12', '-5']\n",
    "expected_outputs=[\"12 11 10 9 8 7 6 5 4 3 2 1 0 -1 -2 -3 -4 -5\"]\n",
    "run_and_test(inputs,expected_outputs,asgn04_07For_Series)"
   ]
  },
  {
   "cell_type": "markdown",
   "metadata": {
    "id": "CvRjQW_ITQ8T"
   },
   "source": [
    "# Assignment 04.08: For-Sum of cubes\n",
    "## Statement\n",
    "\n",
    "For the given integer `N`, calculate the following sum:\n",
    "\n",
    "$1^3$ + $2^3$ + ... + $N^3$\n",
    "\n",
    "This assignment should be solved using for loops\n",
    "\n",
    "## Example input\n",
    "\n",
    "```\n",
    "3\n",
    "```\n",
    "\n",
    "## Example output\n",
    "\n",
    "```\n",
    "36\n",
    "```\n",
    "\n"
   ]
  },
  {
   "cell_type": "markdown",
   "metadata": {
    "id": "Lr-UYAK6b18z"
   },
   "source": [
    "## Write your solution here\n",
    "\n",
    "\n",
    "*   Do not change the first line (`def ...():`)\n",
    "*   Maintain the given indentation\n",
    "*   You can run some tests by yourself by decommenting the last line\n",
    "\n"
   ]
  },
  {
   "cell_type": "code",
   "execution_count": 97,
   "metadata": {
    "id": "ghJWGiEPUD9v"
   },
   "outputs": [],
   "source": [
    "def asgn04_08For_Sum_of_cubes():\n",
    "#     # This program reads a numbwe and prints it\n",
    "#     a = int(input())\n",
    "#     print(a)\n",
    "\n",
    "#     # Change it according to the assignment description\n",
    "\n",
    "    result = 0\n",
    "    for i in range(1, int(input()) + 1):\n",
    "        result += i ** 3\n",
    "    print(result)\n",
    "\n",
    "#You can test independently your solution by executing the following line\n",
    "#asgn04_08For_Sum_of_cubes()"
   ]
  },
  {
   "cell_type": "markdown",
   "metadata": {
    "id": "XJA5H0ULcVAM"
   },
   "source": [
    "## Run the following cells to perform the provided tests"
   ]
  },
  {
   "cell_type": "code",
   "execution_count": 99,
   "metadata": {},
   "outputs": [
    {
     "name": "stdout",
     "output_type": "stream",
     "text": [
      "Test ['1']\n",
      "\u001b[43m\u001b[32m The program prints 1 lines as expected.\u001b[0m\n",
      "\n",
      "  Line 0\n",
      "\u001b[43m\u001b[32m  Expected and actual output match: 1\u001b[0m\n",
      "\n",
      "\u001b[43m\u001b[32mTest PASSED!\u001b[0m\n"
     ]
    }
   ],
   "source": [
    "#@title TEST 1\n",
    "inputs=['1']\n",
    "expected_outputs=[\"1\"]\n",
    "run_and_test(inputs,expected_outputs,asgn04_08For_Sum_of_cubes)"
   ]
  },
  {
   "cell_type": "code",
   "execution_count": 100,
   "metadata": {},
   "outputs": [
    {
     "name": "stdout",
     "output_type": "stream",
     "text": [
      "Test ['2']\n",
      "\u001b[43m\u001b[32m The program prints 1 lines as expected.\u001b[0m\n",
      "\n",
      "  Line 0\n",
      "\u001b[43m\u001b[32m  Expected and actual output match: 9\u001b[0m\n",
      "\n",
      "\u001b[43m\u001b[32mTest PASSED!\u001b[0m\n"
     ]
    }
   ],
   "source": [
    "#@title TEST 2\n",
    "inputs=['2']\n",
    "expected_outputs=[\"9\"]\n",
    "run_and_test(inputs,expected_outputs,asgn04_08For_Sum_of_cubes)"
   ]
  },
  {
   "cell_type": "code",
   "execution_count": 101,
   "metadata": {},
   "outputs": [
    {
     "name": "stdout",
     "output_type": "stream",
     "text": [
      "Test ['3']\n",
      "\u001b[43m\u001b[32m The program prints 1 lines as expected.\u001b[0m\n",
      "\n",
      "  Line 0\n",
      "\u001b[43m\u001b[32m  Expected and actual output match: 36\u001b[0m\n",
      "\n",
      "\u001b[43m\u001b[32mTest PASSED!\u001b[0m\n"
     ]
    }
   ],
   "source": [
    "#@title TEST 3\n",
    "inputs=['3']\n",
    "expected_outputs=[\"36\"]\n",
    "run_and_test(inputs,expected_outputs,asgn04_08For_Sum_of_cubes)"
   ]
  },
  {
   "cell_type": "code",
   "execution_count": 102,
   "metadata": {},
   "outputs": [
    {
     "name": "stdout",
     "output_type": "stream",
     "text": [
      "Test ['4']\n",
      "\u001b[43m\u001b[32m The program prints 1 lines as expected.\u001b[0m\n",
      "\n",
      "  Line 0\n",
      "\u001b[43m\u001b[32m  Expected and actual output match: 100\u001b[0m\n",
      "\n",
      "\u001b[43m\u001b[32mTest PASSED!\u001b[0m\n"
     ]
    }
   ],
   "source": [
    "#@title TEST 4\n",
    "inputs=['4']\n",
    "expected_outputs=[\"100\"]\n",
    "run_and_test(inputs,expected_outputs,asgn04_08For_Sum_of_cubes)"
   ]
  },
  {
   "cell_type": "code",
   "execution_count": 103,
   "metadata": {},
   "outputs": [
    {
     "name": "stdout",
     "output_type": "stream",
     "text": [
      "Test ['9']\n",
      "\u001b[43m\u001b[32m The program prints 1 lines as expected.\u001b[0m\n",
      "\n",
      "  Line 0\n",
      "\u001b[43m\u001b[32m  Expected and actual output match: 2025\u001b[0m\n",
      "\n",
      "\u001b[43m\u001b[32mTest PASSED!\u001b[0m\n"
     ]
    }
   ],
   "source": [
    "#@title TEST 9\n",
    "inputs=['9']\n",
    "expected_outputs=[\"2025\"]\n",
    "run_and_test(inputs,expected_outputs,asgn04_08For_Sum_of_cubes)"
   ]
  },
  {
   "cell_type": "code",
   "execution_count": 104,
   "metadata": {},
   "outputs": [
    {
     "name": "stdout",
     "output_type": "stream",
     "text": [
      "Test ['20']\n",
      "\u001b[43m\u001b[32m The program prints 1 lines as expected.\u001b[0m\n",
      "\n",
      "  Line 0\n",
      "\u001b[43m\u001b[32m  Expected and actual output match: 44100\u001b[0m\n",
      "\n",
      "\u001b[43m\u001b[32mTest PASSED!\u001b[0m\n"
     ]
    }
   ],
   "source": [
    "#@title TEST 20\n",
    "inputs=['20']\n",
    "expected_outputs=[\"44100\"]\n",
    "run_and_test(inputs,expected_outputs,asgn04_08For_Sum_of_cubes)"
   ]
  },
  {
   "cell_type": "markdown",
   "metadata": {
    "id": "CvRjQW_ITQ8T"
   },
   "source": [
    "# Assignment 04.09: For-Sum of cubes\n",
    "## Statement\n",
    "\n",
    "Write a program that \n",
    "- reads the CSV file **dpc-covid19-ita-andamento-nazionale.csv** provided here \n",
    "  - It contains Italian official COVID'19 data (downloaded from [here](https://github.com/pcm-dpc/COVID-19) on 2020-05-08)\n",
    "- computes some quantities on the data in the CSV file.\n",
    "\n",
    "For this assignment, we are interested only in \n",
    "- the number of currently infected individuals (label totale_positivi), and\n",
    "- how they divide among being 'hospitalized' or in 'home isolation'. \n",
    "\n",
    "In particular, the infected individuals can be either\n",
    "\n",
    "- 'hospitalized' (label totale_ospedalizzati), or\n",
    "- in 'home isolation' (label isolamento_domiciliare)\n",
    "\n",
    "Your program should compute two lists with one entry per row in the CSV file:\n",
    "\n",
    "- `currently_hosp_perc` containing the percentage of infected individuals hospitalized\n",
    "- `currently_home_perc` containing the percentage of infected individuals in home isolation\n",
    "\n",
    "After computing these two lists, you should:\n",
    "\n",
    "- print the minimum value in `currently_hosp_perc`\n",
    "- print the maximum value in `currently_home_perc`\n",
    "- for each day for each we have measurements, print the corresponding entries in `currently_hosp_perc` and `currently_home_perc` in the same line but separated by a space. Each pair of numbers should be printed in a different row\n",
    "\n",
    "In all the cases, **you should print rounding up to the second decimal digit, using 4 digits in total.** \n",
    "\n",
    "We have shown in class that this can be obtained by doing:\n",
    "\n",
    "- `print( \"%4.2f\" % n ).         # old way of doing this`\n",
    "- `print(\"{:4.2f}\".format(n) )   # new way of doing this`\n",
    "\n",
    "where `n` is the float we want to print\n",
    "\n",
    "## Hint\n",
    "\n",
    "What you are required to di is not so different from what we saw in class. \n",
    "\n",
    "We suggest you to first create a list per label of interest mentioned above:\n",
    "\n",
    "- currently_infected\n",
    "- currently_hosp\n",
    "- currently_home\n",
    "\n",
    "After the data has been loaded in the three lists, you should just properly iterate such lists to compute the required quantities, and print the required results.\n",
    "\n",
    "The function zip might help you in iterating the elements of `currently_hosp_perc` and `currently_home_perc` at the same time\n",
    "\n",
    "## Expected output\n",
    "\n",
    "```\n",
    "17.97\n",
    "```\n",
    "\n",
    "```\n",
    "82.03\n",
    "```\n",
    "\n",
    "```\n",
    "57.47 42.53 \n",
    "```\n",
    "\n",
    "```\n",
    "48.08 51.92 \n",
    "```\n",
    "\n",
    "```\n",
    "42.60 57.40 \n",
    "```\n",
    "\n",
    "```\n",
    "51.70 48.30 \n",
    "```\n",
    "\n",
    "```\n",
    "49.82 50.18 \n",
    "```\n",
    "\n",
    "```\n",
    "48.24 51.76 \n",
    "```\n",
    "\n",
    "```\n",
    "49.40 50.60 \n",
    "```\n",
    "\n",
    "```\n",
    "49.48 50.52 \n",
    "```\n",
    "\n",
    "```\n",
    "55.81 44.19 \n",
    "```\n",
    "\n",
    "```\n",
    "60.64 39.36 \n",
    "```\n",
    "\n",
    "```\n",
    "64.96 35.04 \n",
    "```\n",
    "\n",
    "```\n",
    "72.93 27.07 \n",
    "```\n",
    "\n",
    "```\n",
    "63.58 36.42 \n",
    "```\n",
    "\n",
    "```\n",
    "65.87 34.13 \n",
    "```\n",
    "\n",
    "```\n",
    "63.23 36.77 \n",
    "```\n",
    "\n",
    "```\n",
    "69.47 30.53 \n",
    "```\n",
    "\n",
    "```\n",
    "64.83 35.17 \n",
    "```\n",
    "\n",
    "```\n",
    "60.78 39.22 \n",
    "```\n",
    "\n",
    "```\n",
    "58.54 41.46 \n",
    "```\n",
    "\n",
    "```\n",
    "55.72 44.28 \n",
    "```\n",
    "\n",
    "```\n",
    "55.02 44.98 \n",
    "```\n",
    "\n",
    "```\n",
    "55.81 44.19 \n",
    "```\n",
    "\n",
    "```\n",
    "57.38 42.62 \n",
    "```\n",
    "\n",
    "```\n",
    "57.89 42.11 \n",
    "```\n",
    "\n",
    "```\n",
    "55.00 45.00 \n",
    "```\n",
    "\n",
    "```\n",
    "49.33 50.67 \n",
    "```\n",
    "\n",
    "```\n",
    "48.18 51.82 \n",
    "```\n",
    "\n",
    "```\n",
    "49.01 50.99 \n",
    "```\n",
    "\n",
    "```\n",
    "47.40 52.60 \n",
    "```\n",
    "\n",
    "```\n",
    "46.89 53.11 \n",
    "```\n",
    "\n",
    "```\n",
    "46.25 53.75 \n",
    "```\n",
    "\n",
    "```\n",
    "45.74 54.26 \n",
    "```\n",
    "\n",
    "```\n",
    "44.81 55.19 \n",
    "```\n",
    "\n",
    "```\n",
    "43.58 56.42 \n",
    "```\n",
    "\n",
    "```\n",
    "42.36 57.64 \n",
    "```\n",
    "\n",
    "```\n",
    "42.07 57.93 \n",
    "```\n",
    "\n",
    "```\n",
    "41.50 58.50 \n",
    "```\n",
    "\n",
    "```\n",
    "40.26 59.74 \n",
    "```\n",
    "\n",
    "```\n",
    "39.25 60.75 \n",
    "```\n",
    "\n",
    "```\n",
    "38.42 61.58 \n",
    "```\n",
    "\n",
    "```\n",
    "37.39 62.61 \n",
    "```\n",
    "\n",
    "```\n",
    "36.08 63.92 \n",
    "```\n",
    "\n",
    "```\n",
    "35.28 64.72 \n",
    "```\n",
    "\n",
    "```\n",
    "34.56 65.44 \n",
    "```\n",
    "\n",
    "```\n",
    "33.78 66.22 \n",
    "```\n",
    "\n",
    "```\n",
    "33.04 66.96 \n",
    "```\n",
    "\n",
    "```\n",
    "32.30 67.70 \n",
    "```\n",
    "\n",
    "```\n",
    "31.44 68.56 \n",
    "```\n",
    "\n",
    "```\n",
    "30.50 69.50 \n",
    "```\n",
    "\n",
    "```\n",
    "30.19 69.81 \n",
    "```\n",
    "\n",
    "```\n",
    "29.91 70.09 \n",
    "```\n",
    "\n",
    "```\n",
    "29.14 70.86 \n",
    "```\n",
    "\n",
    "```\n",
    "27.98 72.02 \n",
    "```\n",
    "\n",
    "```\n",
    "26.74 73.26 \n",
    "```\n",
    "\n",
    "```\n",
    "25.74 74.26 \n",
    "```\n",
    "\n",
    "```\n",
    "25.56 74.44 \n",
    "```\n",
    "\n",
    "```\n",
    "25.39 74.61 \n",
    "```\n",
    "\n",
    "```\n",
    "24.70 75.30 \n",
    "```\n",
    "\n",
    "```\n",
    "24.32 75.68 \n",
    "```\n",
    "\n",
    "```\n",
    "23.53 76.47 \n",
    "```\n",
    "\n",
    "```\n",
    "22.76 77.24 \n",
    "```\n",
    "\n",
    "```\n",
    "22.33 77.67 \n",
    "```\n",
    "\n",
    "```\n",
    "22.04 77.96 \n",
    "```\n",
    "\n",
    "```\n",
    "21.08 78.92 \n",
    "```\n",
    "\n",
    "```\n",
    "20.52 79.48 \n",
    "```\n",
    "\n",
    "```\n",
    "20.07 79.93 \n",
    "```\n",
    "\n",
    "```\n",
    "19.54 80.46 \n",
    "```\n",
    "\n",
    "```\n",
    "18.97 81.03 \n",
    "```\n",
    "\n",
    "```\n",
    "18.76 81.24 \n",
    "```\n",
    "\n",
    "```\n",
    "18.71 81.29 \n",
    "```\n",
    "\n",
    "```\n",
    "18.31 81.69 \n",
    "```\n",
    "\n",
    "```\n",
    "17.97 82.03 \n",
    "```\n",
    "\n",
    "```\n",
    "18.68 81.32 \n",
    "```\n",
    "\n",
    "```\n",
    "18.39 81.61 \n",
    "```\n",
    "\n",
    "```\n",
    "17.97 82.03 \n",
    "```\n",
    "\n"
   ]
  },
  {
   "cell_type": "markdown",
   "metadata": {
    "id": "Lr-UYAK6b18z"
   },
   "source": [
    "## Write your solution here\n",
    "\n",
    "\n",
    "*   Do not change the first line (`def ...():`)\n",
    "*   Maintain the given indentation\n",
    "*   You can run some tests by yourself by decommenting the last line\n",
    "\n"
   ]
  },
  {
   "cell_type": "code",
   "execution_count": 111,
   "metadata": {
    "id": "ghJWGiEPUD9v"
   },
   "outputs": [],
   "source": [
    "import csv\n",
    "\n",
    "def asgn04_09COVID_19():\n",
    "#     #This program reads the csv file used and\n",
    "#     #  stores its header in the list header,  \n",
    "#     #  then it prints all its rows\n",
    "#     file_name='dpc-covid19-ita-andamento-nazionale.csv'\n",
    "\n",
    "#     with open(file_name, 'r') as csvfile:\n",
    "#         rows = csv.reader(csvfile, delimiter=',')\n",
    "#         header = next(rows,None)\n",
    "#         r=0\n",
    "#         for row in rows :\n",
    "#             print(r)\n",
    "#             print(row)\n",
    "#             r=r+1\n",
    "\n",
    "\n",
    "    file_name='dpc-covid19-ita-andamento-nazionale.csv'\n",
    "\n",
    "    labels_of_interest = ['totale_positivi', 'totale_ospedalizzati', 'isolamento_domiciliare']\n",
    "\n",
    "    with open(file_name, 'r') as csvfile:\n",
    "        rows = csv.reader(csvfile, delimiter=',')\n",
    "\n",
    "        #We load the header of the file in the list `header`\n",
    "        header = next(rows,None)\n",
    "        label_to_column = { label : header.index(label) for label in header if label in labels_of_interest }\n",
    "\n",
    "        #We now iterate over all rows to load the data\n",
    "        currently_infected = []\n",
    "        currently_hosp = []\n",
    "        currently_home = []\n",
    "        loadedData = [currently_infected,currently_hosp,currently_home]\n",
    "\n",
    "        for row in rows :\n",
    "            #print(row)\n",
    "            l=0\n",
    "            for label in labels_of_interest:\n",
    "                column = label_to_column[label]\n",
    "                data = row[column]\n",
    "                loadedData[l].append(int(data))\n",
    "                l+=1\n",
    "\n",
    "        #print(currently_hosp)\n",
    "        #print(currently_home)\n",
    "\n",
    "        #Navigate data to compute new data of interest\n",
    "        currently_hosp_perc = []\n",
    "        currently_home_perc = []\n",
    "\n",
    "        for (infected,hosp,home) in zip(currently_infected,currently_hosp,currently_home) :\n",
    "            currently_hosp_perc.append(hosp*100/infected)\n",
    "            currently_home_perc.append(home*100/infected)\n",
    "\n",
    "        #Print the required data\n",
    "\n",
    "        print(\"%4.2f\" % min(currently_hosp_perc))\n",
    "        print(\"%4.2f\" % max(currently_home_perc)) \n",
    "\n",
    "        for (hosp,home) in zip(currently_hosp_perc,currently_home_perc):\n",
    "            # Old way\n",
    "            print(\"%4.2f %4.2f\" % (hosp,home))\n",
    "            # New way\n",
    "            #print(\"{:4.2f}\".format(hosp),\"{:4.2f}\".format(home))\n",
    "\n",
    "#You can test independently your solution by executing the following line\n",
    "#asgn04_09COVID_19()"
   ]
  },
  {
   "cell_type": "markdown",
   "metadata": {
    "id": "XJA5H0ULcVAM"
   },
   "source": [
    "## Run the following cells to perform the provided tests"
   ]
  },
  {
   "cell_type": "code",
   "execution_count": 113,
   "metadata": {},
   "outputs": [
    {
     "name": "stdout",
     "output_type": "stream",
     "text": [
      "Test []\n",
      "\u001b[43m\u001b[32m The program prints 77 lines as expected.\u001b[0m\n",
      "\n",
      "  Line 0\n",
      "\u001b[43m\u001b[32m  Expected and actual output match: 17.97\u001b[0m\n",
      "\n",
      "  Line 1\n",
      "\u001b[43m\u001b[32m  Expected and actual output match: 82.03\u001b[0m\n",
      "\n",
      "  Line 2\n",
      "\u001b[43m\u001b[32m  Expected and actual output match: 57.47 42.53\u001b[0m\n",
      "\n",
      "  Line 3\n",
      "\u001b[43m\u001b[32m  Expected and actual output match: 48.08 51.92\u001b[0m\n",
      "\n",
      "  Line 4\n",
      "\u001b[43m\u001b[32m  Expected and actual output match: 42.60 57.40\u001b[0m\n",
      "\n",
      "  Line 5\n",
      "\u001b[43m\u001b[32m  Expected and actual output match: 51.70 48.30\u001b[0m\n",
      "\n",
      "  Line 6\n",
      "\u001b[43m\u001b[32m  Expected and actual output match: 49.82 50.18\u001b[0m\n",
      "\n",
      "  Line 7\n",
      "\u001b[43m\u001b[32m  Expected and actual output match: 48.24 51.76\u001b[0m\n",
      "\n",
      "  Line 8\n",
      "\u001b[43m\u001b[32m  Expected and actual output match: 49.40 50.60\u001b[0m\n",
      "\n",
      "  Line 9\n",
      "\u001b[43m\u001b[32m  Expected and actual output match: 49.48 50.52\u001b[0m\n",
      "\n",
      "  Line 10\n",
      "\u001b[43m\u001b[32m  Expected and actual output match: 55.81 44.19\u001b[0m\n",
      "\n",
      "  Line 11\n",
      "\u001b[43m\u001b[32m  Expected and actual output match: 60.64 39.36\u001b[0m\n",
      "\n",
      "  Line 12\n",
      "\u001b[43m\u001b[32m  Expected and actual output match: 64.96 35.04\u001b[0m\n",
      "\n",
      "  Line 13\n",
      "\u001b[43m\u001b[32m  Expected and actual output match: 72.93 27.07\u001b[0m\n",
      "\n",
      "  Line 14\n",
      "\u001b[43m\u001b[32m  Expected and actual output match: 63.58 36.42\u001b[0m\n",
      "\n",
      "  Line 15\n",
      "\u001b[43m\u001b[32m  Expected and actual output match: 65.87 34.13\u001b[0m\n",
      "\n",
      "  Line 16\n",
      "\u001b[43m\u001b[32m  Expected and actual output match: 63.23 36.77\u001b[0m\n",
      "\n",
      "  Line 17\n",
      "\u001b[43m\u001b[32m  Expected and actual output match: 69.47 30.53\u001b[0m\n",
      "\n",
      "  Line 18\n",
      "\u001b[43m\u001b[32m  Expected and actual output match: 64.83 35.17\u001b[0m\n",
      "\n",
      "  Line 19\n",
      "\u001b[43m\u001b[32m  Expected and actual output match: 60.78 39.22\u001b[0m\n",
      "\n",
      "  Line 20\n",
      "\u001b[43m\u001b[32m  Expected and actual output match: 58.54 41.46\u001b[0m\n",
      "\n",
      "  Line 21\n",
      "\u001b[43m\u001b[32m  Expected and actual output match: 55.72 44.28\u001b[0m\n",
      "\n",
      "  Line 22\n",
      "\u001b[43m\u001b[32m  Expected and actual output match: 55.02 44.98\u001b[0m\n",
      "\n",
      "  Line 23\n",
      "\u001b[43m\u001b[32m  Expected and actual output match: 55.81 44.19\u001b[0m\n",
      "\n",
      "  Line 24\n",
      "\u001b[43m\u001b[32m  Expected and actual output match: 57.38 42.62\u001b[0m\n",
      "\n",
      "  Line 25\n",
      "\u001b[43m\u001b[32m  Expected and actual output match: 57.89 42.11\u001b[0m\n",
      "\n",
      "  Line 26\n",
      "\u001b[43m\u001b[32m  Expected and actual output match: 55.00 45.00\u001b[0m\n",
      "\n",
      "  Line 27\n",
      "\u001b[43m\u001b[32m  Expected and actual output match: 49.33 50.67\u001b[0m\n",
      "\n",
      "  Line 28\n",
      "\u001b[43m\u001b[32m  Expected and actual output match: 48.18 51.82\u001b[0m\n",
      "\n",
      "  Line 29\n",
      "\u001b[43m\u001b[32m  Expected and actual output match: 49.01 50.99\u001b[0m\n",
      "\n",
      "  Line 30\n",
      "\u001b[43m\u001b[32m  Expected and actual output match: 47.40 52.60\u001b[0m\n",
      "\n",
      "  Line 31\n",
      "\u001b[43m\u001b[32m  Expected and actual output match: 46.89 53.11\u001b[0m\n",
      "\n",
      "  Line 32\n",
      "\u001b[43m\u001b[32m  Expected and actual output match: 46.25 53.75\u001b[0m\n",
      "\n",
      "  Line 33\n",
      "\u001b[43m\u001b[32m  Expected and actual output match: 45.74 54.26\u001b[0m\n",
      "\n",
      "  Line 34\n",
      "\u001b[43m\u001b[32m  Expected and actual output match: 44.81 55.19\u001b[0m\n",
      "\n",
      "  Line 35\n",
      "\u001b[43m\u001b[32m  Expected and actual output match: 43.58 56.42\u001b[0m\n",
      "\n",
      "  Line 36\n",
      "\u001b[43m\u001b[32m  Expected and actual output match: 42.36 57.64\u001b[0m\n",
      "\n",
      "  Line 37\n",
      "\u001b[43m\u001b[32m  Expected and actual output match: 42.07 57.93\u001b[0m\n",
      "\n",
      "  Line 38\n",
      "\u001b[43m\u001b[32m  Expected and actual output match: 41.50 58.50\u001b[0m\n",
      "\n",
      "  Line 39\n",
      "\u001b[43m\u001b[32m  Expected and actual output match: 40.26 59.74\u001b[0m\n",
      "\n",
      "  Line 40\n",
      "\u001b[43m\u001b[32m  Expected and actual output match: 39.25 60.75\u001b[0m\n",
      "\n",
      "  Line 41\n",
      "\u001b[43m\u001b[32m  Expected and actual output match: 38.42 61.58\u001b[0m\n",
      "\n",
      "  Line 42\n",
      "\u001b[43m\u001b[32m  Expected and actual output match: 37.39 62.61\u001b[0m\n",
      "\n",
      "  Line 43\n",
      "\u001b[43m\u001b[32m  Expected and actual output match: 36.08 63.92\u001b[0m\n",
      "\n",
      "  Line 44\n",
      "\u001b[43m\u001b[32m  Expected and actual output match: 35.28 64.72\u001b[0m\n",
      "\n",
      "  Line 45\n",
      "\u001b[43m\u001b[32m  Expected and actual output match: 34.56 65.44\u001b[0m\n",
      "\n",
      "  Line 46\n",
      "\u001b[43m\u001b[32m  Expected and actual output match: 33.78 66.22\u001b[0m\n",
      "\n",
      "  Line 47\n",
      "\u001b[43m\u001b[32m  Expected and actual output match: 33.04 66.96\u001b[0m\n",
      "\n",
      "  Line 48\n",
      "\u001b[43m\u001b[32m  Expected and actual output match: 32.30 67.70\u001b[0m\n",
      "\n",
      "  Line 49\n",
      "\u001b[43m\u001b[32m  Expected and actual output match: 31.44 68.56\u001b[0m\n",
      "\n",
      "  Line 50\n",
      "\u001b[43m\u001b[32m  Expected and actual output match: 30.50 69.50\u001b[0m\n",
      "\n",
      "  Line 51\n",
      "\u001b[43m\u001b[32m  Expected and actual output match: 30.19 69.81\u001b[0m\n",
      "\n",
      "  Line 52\n",
      "\u001b[43m\u001b[32m  Expected and actual output match: 29.91 70.09\u001b[0m\n",
      "\n",
      "  Line 53\n",
      "\u001b[43m\u001b[32m  Expected and actual output match: 29.14 70.86\u001b[0m\n",
      "\n",
      "  Line 54\n",
      "\u001b[43m\u001b[32m  Expected and actual output match: 27.98 72.02\u001b[0m\n",
      "\n",
      "  Line 55\n",
      "\u001b[43m\u001b[32m  Expected and actual output match: 26.74 73.26\u001b[0m\n",
      "\n",
      "  Line 56\n",
      "\u001b[43m\u001b[32m  Expected and actual output match: 25.74 74.26\u001b[0m\n",
      "\n",
      "  Line 57\n",
      "\u001b[43m\u001b[32m  Expected and actual output match: 25.56 74.44\u001b[0m\n",
      "\n",
      "  Line 58\n",
      "\u001b[43m\u001b[32m  Expected and actual output match: 25.39 74.61\u001b[0m\n",
      "\n",
      "  Line 59\n",
      "\u001b[43m\u001b[32m  Expected and actual output match: 24.70 75.30\u001b[0m\n",
      "\n",
      "  Line 60\n",
      "\u001b[43m\u001b[32m  Expected and actual output match: 24.32 75.68\u001b[0m\n",
      "\n",
      "  Line 61\n",
      "\u001b[43m\u001b[32m  Expected and actual output match: 23.53 76.47\u001b[0m\n",
      "\n",
      "  Line 62\n",
      "\u001b[43m\u001b[32m  Expected and actual output match: 22.76 77.24\u001b[0m\n",
      "\n",
      "  Line 63\n",
      "\u001b[43m\u001b[32m  Expected and actual output match: 22.33 77.67\u001b[0m\n",
      "\n",
      "  Line 64\n",
      "\u001b[43m\u001b[32m  Expected and actual output match: 22.04 77.96\u001b[0m\n",
      "\n",
      "  Line 65\n",
      "\u001b[43m\u001b[32m  Expected and actual output match: 21.08 78.92\u001b[0m\n",
      "\n",
      "  Line 66\n",
      "\u001b[43m\u001b[32m  Expected and actual output match: 20.52 79.48\u001b[0m\n",
      "\n",
      "  Line 67\n",
      "\u001b[43m\u001b[32m  Expected and actual output match: 20.07 79.93\u001b[0m\n",
      "\n",
      "  Line 68\n",
      "\u001b[43m\u001b[32m  Expected and actual output match: 19.54 80.46\u001b[0m\n",
      "\n",
      "  Line 69\n",
      "\u001b[43m\u001b[32m  Expected and actual output match: 18.97 81.03\u001b[0m\n",
      "\n",
      "  Line 70\n",
      "\u001b[43m\u001b[32m  Expected and actual output match: 18.76 81.24\u001b[0m\n",
      "\n",
      "  Line 71\n",
      "\u001b[43m\u001b[32m  Expected and actual output match: 18.71 81.29\u001b[0m\n",
      "\n",
      "  Line 72\n",
      "\u001b[43m\u001b[32m  Expected and actual output match: 18.31 81.69\u001b[0m\n",
      "\n",
      "  Line 73\n",
      "\u001b[43m\u001b[32m  Expected and actual output match: 17.97 82.03\u001b[0m\n",
      "\n",
      "  Line 74\n",
      "\u001b[43m\u001b[32m  Expected and actual output match: 18.68 81.32\u001b[0m\n",
      "\n",
      "  Line 75\n",
      "\u001b[43m\u001b[32m  Expected and actual output match: 18.39 81.61\u001b[0m\n",
      "\n",
      "  Line 76\n",
      "\u001b[43m\u001b[32m  Expected and actual output match: 17.97 82.03\u001b[0m\n",
      "\n",
      "\u001b[43m\u001b[32mTest PASSED!\u001b[0m\n"
     ]
    }
   ],
   "source": [
    "#@title TEST 1\n",
    "inputs=[]\n",
    "expected_outputs=['17.97', '82.03', '57.47 42.53', '48.08 51.92', '42.60 57.40', '51.70 48.30', '49.82 50.18', '48.24 51.76', '49.40 50.60', '49.48 50.52', '55.81 44.19', '60.64 39.36', '64.96 35.04', '72.93 27.07', '63.58 36.42', '65.87 34.13', '63.23 36.77', '69.47 30.53', '64.83 35.17', '60.78 39.22', '58.54 41.46', '55.72 44.28', '55.02 44.98', '55.81 44.19', '57.38 42.62', '57.89 42.11', '55.00 45.00', '49.33 50.67', '48.18 51.82', '49.01 50.99', '47.40 52.60', '46.89 53.11', '46.25 53.75', '45.74 54.26', '44.81 55.19', '43.58 56.42', '42.36 57.64', '42.07 57.93', '41.50 58.50', '40.26 59.74', '39.25 60.75', '38.42 61.58', '37.39 62.61', '36.08 63.92', '35.28 64.72', '34.56 65.44', '33.78 66.22', '33.04 66.96', '32.30 67.70', '31.44 68.56', '30.50 69.50', '30.19 69.81', '29.91 70.09', '29.14 70.86', '27.98 72.02', '26.74 73.26', '25.74 74.26', '25.56 74.44', '25.39 74.61', '24.70 75.30', '24.32 75.68', '23.53 76.47', '22.76 77.24', '22.33 77.67', '22.04 77.96', '21.08 78.92', '20.52 79.48', '20.07 79.93', '19.54 80.46', '18.97 81.03', '18.76 81.24', '18.71 81.29', '18.31 81.69', '17.97 82.03', '18.68 81.32', '18.39 81.61', '17.97 82.03']\n",
    "run_and_test(inputs,expected_outputs,asgn04_09COVID_19)"
   ]
  }
 ],
 "metadata": {
  "colab": {
   "collapsed_sections": [],
   "name": "04ControlAndRepetitionStatements_Assignments",
   "provenance": [],
   "toc_visible": true
  },
  "kernelspec": {
   "display_name": "Python 3",
   "language": "python",
   "name": "python3"
  },
  "language_info": {
   "codemirror_mode": {
    "name": "ipython",
    "version": 3
   },
   "file_extension": ".py",
   "mimetype": "text/x-python",
   "name": "python",
   "nbconvert_exporter": "python",
   "pygments_lexer": "ipython3",
   "version": "3.8.2"
  },
  "toc-autonumbering": true,
  "toc-showcode": false,
  "toc-showmarkdowntxt": false
 },
 "nbformat": 4,
 "nbformat_minor": 4
}
