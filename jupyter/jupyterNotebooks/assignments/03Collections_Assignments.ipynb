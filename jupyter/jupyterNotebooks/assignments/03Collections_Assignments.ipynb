{
 "cells": [
  {
   "cell_type": "markdown",
   "metadata": {
    "id": "h5NGq0EV7k4-"
   },
   "source": [
    "<center><font size=\"+4\">Introduction to Programming and Machine Learning in Python 2020/2021</font></center>\n",
    "<center><font size=\"+2\">Scuola Normale Superiore, Pisa, Italy</font></center>\n",
    "\n",
    "<center><font size=\"+2\">Course responsibles</font></center>\n",
    "<center><font size=\"+2\">Andrea Vandin a.vandin@santannapisa.it</font></center>\n",
    "<center><font size=\"+2\">Daniele Licari d.licari@santannapisa.it</font></center>\n",
    "\n",
    "---"
   ]
  },
  {
   "cell_type": "markdown",
   "metadata": {
    "id": "PzTk_3lR7k5D"
   },
   "source": [
    "<center><font size=\"+4\">Assignments for</font></center>\n",
    "<center><font size=\"+4\">Lecture 3:  Collections</font></center>\n",
    "\n",
    "---"
   ]
  },
  {
   "cell_type": "code",
   "execution_count": 52,
   "metadata": {
    "cellView": "form",
    "colab": {
     "base_uri": "https://localhost:8080/"
    },
    "id": "p666zbf89eCD",
    "outputId": "8f53eefb-4edb-47aa-c0ff-8d26f2e593d4"
   },
   "outputs": [],
   "source": [
    "#@title RUN, BUT DO NOT MODIFY\n",
    "!curl -O  https://raw.githubusercontent.com/EMbeDS-education/SNS-IProML2021/main/jupyter/jupyterNotebooks/assignments/auto_testing.py\n",
    "%reload_ext autoreload\n",
    "%autoreload 2\n",
    "from auto_testing import *"
   ]
  },
  {
   "cell_type": "markdown",
   "metadata": {
    "id": "Om177ojl7k5J"
   },
   "source": [
    "# Assignment 03.01: Play with lists\n",
    "## Statement\n",
    "\n",
    "Write a program that \n",
    "\n",
    "- Reads two integers `a` and `b`\n",
    "  -  prints `a` and `b`\n",
    "- Creates a list (`lst1`) of 10 elements containing value 0 in each entry\n",
    "  -   sets to value `a` the entries in position 1 and 3\n",
    "  -   sets to value `b` the entries in position 2 and 4 \n",
    "  -   prints this list\n",
    "- Creates a list (`lst2`) of 10 elements containing values from 0 to 9 included\n",
    "  -   prints this list\n",
    "- Prints `True` if the `lst1` is smaller than `lst2`, and `False` otherwise\n",
    "- Concatenates the two lists in list `lst3`\n",
    "  -   prints `lst3`\n",
    "\n",
    "## Example input 1\n",
    "\n",
    "```\n",
    "1\n",
    "```\n",
    "\n",
    "```\n",
    "2\n",
    "```\n",
    "\n",
    "## Example output 1\n",
    "\n",
    "```\n",
    "1\n",
    "2\n",
    "[0, 1, 2, 1, 2, 0, 0, 0, 0, 0]\n",
    "[0, 1, 2, 3, 4, 5, 6, 7, 8, 9]\n",
    "True\n",
    "[0, 1, 2, 1, 2, 0, 0, 0, 0, 0, 0, 1, 2, 3, 4, 5, 6, 7, 8, 9]\n",
    "```\n",
    "\n",
    "## Example input 2\n",
    "\n",
    "```\n",
    "2\n",
    "```\n",
    "\n",
    "```\n",
    "1\n",
    "```\n",
    "\n",
    "## Example output 2\n",
    "\n",
    "```\n",
    "2\n",
    "1\n",
    "[0, 2, 1, 2, 1, 0, 0, 0, 0, 0]\n",
    "[0, 1, 2, 3, 4, 5, 6, 7, 8, 9]\n",
    "False\n",
    "[0, 2, 1, 2, 1, 0, 0, 0, 0, 0, 0, 1, 2, 3, 4, 5, 6, 7, 8, 9]\n",
    "```"
   ]
  },
  {
   "cell_type": "markdown",
   "metadata": {
    "id": "FMZE1vmMbRLz"
   },
   "source": [
    "## Write your solution here\n",
    "\n",
    "\n",
    "*   Do not change the first line (`def ...():`)\n",
    "*   Maintain the given indentation\n",
    "*   You can run some tests by yourself by decommenting the last line\n",
    "\n"
   ]
  },
  {
   "cell_type": "code",
   "execution_count": 26,
   "metadata": {
    "colab": {
     "base_uri": "https://localhost:8080/"
    },
    "id": "Yg4jeBnA7k5K",
    "outputId": "d1804f69-374a-4f18-f8ad-1ffd98892eaa"
   },
   "outputs": [],
   "source": [
    "def asgn03_01Play_with_lists():\n",
    "#     # This program reads a number and prints it\n",
    "#     a = int(input())\n",
    "#     print(a)\n",
    "\n",
    "#     # Change it according to the assignment description\n",
    "\n",
    "\n",
    "    a = int(input())\n",
    "    b = int(input())\n",
    "\n",
    "    print(a)\n",
    "    print(b)\n",
    "\n",
    "    lst1 = [0]*10\n",
    "    lst1[1]=a\n",
    "    lst1[3]=a\n",
    "    lst1[2]=b\n",
    "    lst1[4]=b\n",
    "    print(lst1)\n",
    "\n",
    "    lst2=list(range(10))\n",
    "    print(lst2)\n",
    "\n",
    "    print(lst1<lst2)\n",
    "\n",
    "    lst3=lst1+lst2\n",
    "    print(lst3)\n",
    "    \n",
    "    \n",
    "#You can test independently your solution by executing the following line\n",
    "#asgn03_01Play_with_lists()"
   ]
  },
  {
   "cell_type": "markdown",
   "metadata": {
    "id": "_lqTangP8R46"
   },
   "source": [
    "## Run the following cells to perform the provided tests"
   ]
  },
  {
   "cell_type": "code",
   "execution_count": 27,
   "metadata": {
    "colab": {
     "base_uri": "https://localhost:8080/"
    },
    "id": "fwX9u8aW7k5L",
    "outputId": "a12aefe2-be6d-4b28-f876-acc6ce57e9ae"
   },
   "outputs": [
    {
     "name": "stdout",
     "output_type": "stream",
     "text": [
      "Test [0, 0]\n",
      "\u001b[43m\u001b[32m The program prints 6 lines as expected.\u001b[0m\n",
      "\n",
      "  Line 0\n",
      "\u001b[43m\u001b[32m  Expected and actual output match: 0\u001b[0m\n",
      "\n",
      "  Line 1\n",
      "\u001b[43m\u001b[32m  Expected and actual output match: 0\u001b[0m\n",
      "\n",
      "  Line 2\n",
      "\u001b[43m\u001b[32m  Expected and actual output match: [0, 0, 0, 0, 0, 0, 0, 0, 0, 0]\u001b[0m\n",
      "\n",
      "  Line 3\n",
      "\u001b[43m\u001b[32m  Expected and actual output match: [0, 1, 2, 3, 4, 5, 6, 7, 8, 9]\u001b[0m\n",
      "\n",
      "  Line 4\n",
      "\u001b[43m\u001b[32m  Expected and actual output match: True\u001b[0m\n",
      "\n",
      "  Line 5\n",
      "\u001b[43m\u001b[32m  Expected and actual output match: [0, 0, 0, 0, 0, 0, 0, 0, 0, 0, 0, 1, 2, 3, 4, 5, 6, 7, 8, 9]\u001b[0m\n",
      "\n",
      "\u001b[43m\u001b[32mTest PASSED!\u001b[0m\n"
     ]
    }
   ],
   "source": [
    "#@title TEST 0 0\n",
    "inputs=[0,0]\n",
    "expected_outputs=[\"0\",\"0\",\"[0, 0, 0, 0, 0, 0, 0, 0, 0, 0]\",\"[0, 1, 2, 3, 4, 5, 6, 7, 8, 9]\",\"True\",\"[0, 0, 0, 0, 0, 0, 0, 0, 0, 0, 0, 1, 2, 3, 4, 5, 6, 7, 8, 9]\"]\n",
    "run_and_test(inputs,expected_outputs,asgn03_01Play_with_lists)"
   ]
  },
  {
   "cell_type": "code",
   "execution_count": 29,
   "metadata": {},
   "outputs": [
    {
     "name": "stdout",
     "output_type": "stream",
     "text": [
      "Test [1, 2]\n",
      "\u001b[43m\u001b[32m The program prints 6 lines as expected.\u001b[0m\n",
      "\n",
      "  Line 0\n",
      "\u001b[43m\u001b[32m  Expected and actual output match: 1\u001b[0m\n",
      "\n",
      "  Line 1\n",
      "\u001b[43m\u001b[32m  Expected and actual output match: 2\u001b[0m\n",
      "\n",
      "  Line 2\n",
      "\u001b[43m\u001b[32m  Expected and actual output match: [0, 1, 2, 1, 2, 0, 0, 0, 0, 0]\u001b[0m\n",
      "\n",
      "  Line 3\n",
      "\u001b[43m\u001b[32m  Expected and actual output match: [0, 1, 2, 3, 4, 5, 6, 7, 8, 9]\u001b[0m\n",
      "\n",
      "  Line 4\n",
      "\u001b[43m\u001b[32m  Expected and actual output match: True\u001b[0m\n",
      "\n",
      "  Line 5\n",
      "\u001b[43m\u001b[32m  Expected and actual output match: [0, 1, 2, 1, 2, 0, 0, 0, 0, 0, 0, 1, 2, 3, 4, 5, 6, 7, 8, 9]\u001b[0m\n",
      "\n",
      "\u001b[43m\u001b[32mTest PASSED!\u001b[0m\n"
     ]
    }
   ],
   "source": [
    "#@title TEST 1 2\n",
    "inputs=[1,2]\n",
    "expected_outputs=[\"1\",\"2\",\"[0, 1, 2, 1, 2, 0, 0, 0, 0, 0]\",\"[0, 1, 2, 3, 4, 5, 6, 7, 8, 9]\",\"True\",\"[0, 1, 2, 1, 2, 0, 0, 0, 0, 0, 0, 1, 2, 3, 4, 5, 6, 7, 8, 9]\"]\n",
    "run_and_test(inputs,expected_outputs,asgn03_01Play_with_lists)"
   ]
  },
  {
   "cell_type": "code",
   "execution_count": 30,
   "metadata": {},
   "outputs": [
    {
     "name": "stdout",
     "output_type": "stream",
     "text": [
      "Test [2, 1]\n",
      "\u001b[43m\u001b[32m The program prints 6 lines as expected.\u001b[0m\n",
      "\n",
      "  Line 0\n",
      "\u001b[43m\u001b[32m  Expected and actual output match: 2\u001b[0m\n",
      "\n",
      "  Line 1\n",
      "\u001b[43m\u001b[32m  Expected and actual output match: 1\u001b[0m\n",
      "\n",
      "  Line 2\n",
      "\u001b[43m\u001b[32m  Expected and actual output match: [0, 2, 1, 2, 1, 0, 0, 0, 0, 0]\u001b[0m\n",
      "\n",
      "  Line 3\n",
      "\u001b[43m\u001b[32m  Expected and actual output match: [0, 1, 2, 3, 4, 5, 6, 7, 8, 9]\u001b[0m\n",
      "\n",
      "  Line 4\n",
      "\u001b[43m\u001b[32m  Expected and actual output match: False\u001b[0m\n",
      "\n",
      "  Line 5\n",
      "\u001b[43m\u001b[32m  Expected and actual output match: [0, 2, 1, 2, 1, 0, 0, 0, 0, 0, 0, 1, 2, 3, 4, 5, 6, 7, 8, 9]\u001b[0m\n",
      "\n",
      "\u001b[43m\u001b[32mTest PASSED!\u001b[0m\n"
     ]
    }
   ],
   "source": [
    "#@title TEST 2 1\n",
    "inputs=[2,1]\n",
    "expected_outputs=[\"2\",\"1\",\"[0, 2, 1, 2, 1, 0, 0, 0, 0, 0]\",\"[0, 1, 2, 3, 4, 5, 6, 7, 8, 9]\",\"False\",\"[0, 2, 1, 2, 1, 0, 0, 0, 0, 0, 0, 1, 2, 3, 4, 5, 6, 7, 8, 9]\"]\n",
    "run_and_test(inputs,expected_outputs,asgn03_01Play_with_lists)"
   ]
  },
  {
   "cell_type": "markdown",
   "metadata": {
    "id": "Om177ojl7k5J"
   },
   "source": [
    "# Assignment 03.02: Play with lists and sets\n",
    "## Statement\n",
    "\n",
    "Write a program that \n",
    "\n",
    "- Reads a string `s` \n",
    "- Creates a list `lst` containing as elements the characters in `s` in the same order in which they appear in `s`\n",
    "  -  sets the string `'1'` as the value of the first entry of `lst`\n",
    "  -  prints `lst`\n",
    "- Creates a set `st` containing the characters in the list\n",
    "  -  prints the length of `st`\n",
    "  -  prints the minimum element in `st`\n",
    "  -  prints the maximum element in `st`\n",
    "- Creates a list `lst2` containing the elements in `st` \n",
    "  -  prints the length of `lst2`\n",
    "  -  prints the minimum element in `lst2`\n",
    "  -  prints the maximum element in `lst2`\n",
    "  -  sorts `lst2` \n",
    "  - appends string `'!'` at the end of `lst2`\n",
    "  - prints `lst2`\n",
    "\n",
    "## Example input 1\n",
    "\n",
    "```\n",
    "abba\n",
    "```\n",
    "\n",
    "## Example output 1\n",
    "\n",
    "```\n",
    "['1', 'b', 'b', 'a']\n",
    "3\n",
    "1\n",
    "b\n",
    "3\n",
    "1\n",
    "b\n",
    "['1', 'a', 'b', '!']\n",
    "```\n",
    "\n",
    "## Example input 2\n",
    "\n",
    "```\n",
    "ciaomondo\n",
    "```\n",
    "\n",
    "## Example output 2\n",
    "\n",
    "```\n",
    "['1', 'i', 'a', 'o', 'm', 'o', 'n', 'd', 'o']\n",
    "7\n",
    "1\n",
    "o\n",
    "7\n",
    "1\n",
    "o\n",
    "['1', 'a', 'd', 'i', 'm', 'n', 'o', '!']\n",
    "```"
   ]
  },
  {
   "cell_type": "markdown",
   "metadata": {
    "id": "FMZE1vmMbRLz"
   },
   "source": [
    "## Write your solution here\n",
    "\n",
    "\n",
    "*   Do not change the first line (`def ...():`)\n",
    "*   Maintain the given indentation\n",
    "*   You can run some tests by yourself by decommenting the last line\n",
    "\n"
   ]
  },
  {
   "cell_type": "code",
   "execution_count": 32,
   "metadata": {
    "colab": {
     "base_uri": "https://localhost:8080/"
    },
    "id": "Yg4jeBnA7k5K",
    "outputId": "d1804f69-374a-4f18-f8ad-1ffd98892eaa"
   },
   "outputs": [],
   "source": [
    "def asgn03_02Play_with_lists_and_sets():\n",
    "#     # This program reads a number and prints it\n",
    "#     a = int(input())\n",
    "#     print(a)\n",
    "\n",
    "#     # Change it according to the assignment description\n",
    "\n",
    "\n",
    "    s=input()\n",
    "    lst=list(s)\n",
    "    lst[0]='1'\n",
    "    print(lst)\n",
    "\n",
    "    st = set(lst)\n",
    "    print(len(st))\n",
    "    print(min(st))\n",
    "    print(max(st))\n",
    "\n",
    "    lst2 = list(st)\n",
    "    print(len(lst2))\n",
    "    print(min(lst2))\n",
    "    print(max(lst2))\n",
    "\n",
    "    lst2.sort()\n",
    "    lst2.append('!')\n",
    "    print(lst2)\n",
    "    \n",
    "    \n",
    "#You can test independently your solution by executing the following line\n",
    "#asgn03_02Play_with_lists_and_sets()"
   ]
  },
  {
   "cell_type": "markdown",
   "metadata": {
    "id": "_lqTangP8R46"
   },
   "source": [
    "## Run the following cells to perform the provided tests"
   ]
  },
  {
   "cell_type": "code",
   "execution_count": 33,
   "metadata": {
    "colab": {
     "base_uri": "https://localhost:8080/"
    },
    "id": "fwX9u8aW7k5L",
    "outputId": "a12aefe2-be6d-4b28-f876-acc6ce57e9ae"
   },
   "outputs": [
    {
     "name": "stdout",
     "output_type": "stream",
     "text": [
      "Test ['abba']\n",
      "\u001b[43m\u001b[32m The program prints 8 lines as expected.\u001b[0m\n",
      "\n",
      "  Line 0\n",
      "\u001b[43m\u001b[32m  Expected and actual output match: ['1', 'b', 'b', 'a']\u001b[0m\n",
      "\n",
      "  Line 1\n",
      "\u001b[43m\u001b[32m  Expected and actual output match: 3\u001b[0m\n",
      "\n",
      "  Line 2\n",
      "\u001b[43m\u001b[32m  Expected and actual output match: 1\u001b[0m\n",
      "\n",
      "  Line 3\n",
      "\u001b[43m\u001b[32m  Expected and actual output match: b\u001b[0m\n",
      "\n",
      "  Line 4\n",
      "\u001b[43m\u001b[32m  Expected and actual output match: 3\u001b[0m\n",
      "\n",
      "  Line 5\n",
      "\u001b[43m\u001b[32m  Expected and actual output match: 1\u001b[0m\n",
      "\n",
      "  Line 6\n",
      "\u001b[43m\u001b[32m  Expected and actual output match: b\u001b[0m\n",
      "\n",
      "  Line 7\n",
      "\u001b[43m\u001b[32m  Expected and actual output match: ['1', 'a', 'b', '!']\u001b[0m\n",
      "\n",
      "\u001b[43m\u001b[32mTest PASSED!\u001b[0m\n"
     ]
    }
   ],
   "source": [
    "#@title TEST abba\n",
    "inputs=['abba']\n",
    "expected_outputs=[\"['1', 'b', 'b', 'a']\",\"3\",\"1\",\"b\",\"3\",\"1\",\"b\",\"['1', 'a', 'b', '!']\"]\n",
    "run_and_test(inputs,expected_outputs,asgn03_02Play_with_lists_and_sets)"
   ]
  },
  {
   "cell_type": "code",
   "execution_count": 34,
   "metadata": {},
   "outputs": [
    {
     "name": "stdout",
     "output_type": "stream",
     "text": [
      "Test ['ciaomondo']\n",
      "\u001b[43m\u001b[32m The program prints 8 lines as expected.\u001b[0m\n",
      "\n",
      "  Line 0\n",
      "\u001b[43m\u001b[32m  Expected and actual output match: ['1', 'i', 'a', 'o', 'm', 'o', 'n', 'd', 'o']\u001b[0m\n",
      "\n",
      "  Line 1\n",
      "\u001b[43m\u001b[32m  Expected and actual output match: 7\u001b[0m\n",
      "\n",
      "  Line 2\n",
      "\u001b[43m\u001b[32m  Expected and actual output match: 1\u001b[0m\n",
      "\n",
      "  Line 3\n",
      "\u001b[43m\u001b[32m  Expected and actual output match: o\u001b[0m\n",
      "\n",
      "  Line 4\n",
      "\u001b[43m\u001b[32m  Expected and actual output match: 7\u001b[0m\n",
      "\n",
      "  Line 5\n",
      "\u001b[43m\u001b[32m  Expected and actual output match: 1\u001b[0m\n",
      "\n",
      "  Line 6\n",
      "\u001b[43m\u001b[32m  Expected and actual output match: o\u001b[0m\n",
      "\n",
      "  Line 7\n",
      "\u001b[43m\u001b[32m  Expected and actual output match: ['1', 'a', 'd', 'i', 'm', 'n', 'o', '!']\u001b[0m\n",
      "\n",
      "\u001b[43m\u001b[32mTest PASSED!\u001b[0m\n"
     ]
    }
   ],
   "source": [
    "#@title TEST ciaomondo\n",
    "inputs=['ciaomondo']\n",
    "expected_outputs=[\"['1', 'i', 'a', 'o', 'm', 'o', 'n', 'd', 'o']\",\"7\",\"1\",\"o\",\"7\",\"1\",\"o\",\"['1', 'a', 'd', 'i', 'm', 'n', 'o', '!']\"]\n",
    "run_and_test(inputs,expected_outputs,asgn03_02Play_with_lists_and_sets)"
   ]
  },
  {
   "cell_type": "markdown",
   "metadata": {
    "id": "Om177ojl7k5J"
   },
   "source": [
    "# Assignment 03.03: Play with matrices\n",
    "## Statement\n",
    "\n",
    "Write a program that reads a string of digits `s`, and creates a 2-dimensional list (a matrix of size 2 times the length of s) containing\n",
    "\n",
    "- in the first row: the digits in `s`\n",
    "- in the second row: twice the value of each digit in `s` \n",
    "\n",
    "Finally, your program should print the list\n",
    "\n",
    "## Example input 1\n",
    "\n",
    "```\n",
    "123\n",
    "```\n",
    "\n",
    "## Example output 1\n",
    "\n",
    "```\n",
    "[[1, 2, 3], [2, 4, 6]]\n",
    "```\n",
    "\n",
    "## Example input 2\n",
    "\n",
    "```\n",
    "12345\n",
    "```\n",
    "\n",
    "## Example output 2\n",
    "\n",
    "```\n",
    "[[1, 2, 3, 4, 5], [2, 4, 6, 8, 10]]\n",
    "```"
   ]
  },
  {
   "cell_type": "markdown",
   "metadata": {
    "id": "FMZE1vmMbRLz"
   },
   "source": [
    "## Write your solution here\n",
    "\n",
    "\n",
    "*   Do not change the first line (`def ...():`)\n",
    "*   Maintain the given indentation\n",
    "*   You can run some tests by yourself by decommenting the last line\n",
    "\n"
   ]
  },
  {
   "cell_type": "code",
   "execution_count": 35,
   "metadata": {
    "colab": {
     "base_uri": "https://localhost:8080/"
    },
    "id": "Yg4jeBnA7k5K",
    "outputId": "d1804f69-374a-4f18-f8ad-1ffd98892eaa"
   },
   "outputs": [],
   "source": [
    "def asgn03_03Play_with_matrices():\n",
    "#     # This program reads a number and prints it\n",
    "#     s = input()\n",
    "\n",
    "#     # Change it according to the assignment description\n",
    "\n",
    "    s=input()\n",
    "\n",
    "    lst1 = [int(i) for i in s]\n",
    "\n",
    "    lst2 = [i*2 for i in lst1]\n",
    "\n",
    "    m = [lst1 , lst2]\n",
    "\n",
    "    print(m)\n",
    "    \n",
    "    \n",
    "#You can test independently your solution by executing the following line\n",
    "#asgn03_03Play_with_matrices()"
   ]
  },
  {
   "cell_type": "markdown",
   "metadata": {
    "id": "_lqTangP8R46"
   },
   "source": [
    "## Run the following cells to perform the provided tests"
   ]
  },
  {
   "cell_type": "code",
   "execution_count": 36,
   "metadata": {
    "colab": {
     "base_uri": "https://localhost:8080/"
    },
    "id": "fwX9u8aW7k5L",
    "outputId": "a12aefe2-be6d-4b28-f876-acc6ce57e9ae"
   },
   "outputs": [
    {
     "name": "stdout",
     "output_type": "stream",
     "text": [
      "Test ['123']\n",
      "\u001b[43m\u001b[32m The program prints 1 lines as expected.\u001b[0m\n",
      "\n",
      "  Line 0\n",
      "\u001b[43m\u001b[32m  Expected and actual output match: [[1, 2, 3], [2, 4, 6]]\u001b[0m\n",
      "\n",
      "\u001b[43m\u001b[32mTest PASSED!\u001b[0m\n"
     ]
    }
   ],
   "source": [
    "#@title TEST 123\n",
    "inputs=['123']\n",
    "expected_outputs=[\"[[1, 2, 3], [2, 4, 6]]\"]\n",
    "run_and_test(inputs,expected_outputs,asgn03_03Play_with_matrices)"
   ]
  },
  {
   "cell_type": "code",
   "execution_count": 37,
   "metadata": {},
   "outputs": [
    {
     "name": "stdout",
     "output_type": "stream",
     "text": [
      "Test ['12345']\n",
      "\u001b[43m\u001b[32m The program prints 1 lines as expected.\u001b[0m\n",
      "\n",
      "  Line 0\n",
      "\u001b[43m\u001b[32m  Expected and actual output match: [[1, 2, 3, 4, 5], [2, 4, 6, 8, 10]]\u001b[0m\n",
      "\n",
      "\u001b[43m\u001b[32mTest PASSED!\u001b[0m\n"
     ]
    }
   ],
   "source": [
    "#@title TEST 12345\n",
    "inputs=['12345']\n",
    "expected_outputs=[\"[[1, 2, 3, 4, 5], [2, 4, 6, 8, 10]]\"]\n",
    "run_and_test(inputs,expected_outputs,asgn03_03Play_with_matrices)"
   ]
  },
  {
   "cell_type": "code",
   "execution_count": 39,
   "metadata": {},
   "outputs": [
    {
     "name": "stdout",
     "output_type": "stream",
     "text": [
      "Test ['56734']\n",
      "\u001b[43m\u001b[32m The program prints 1 lines as expected.\u001b[0m\n",
      "\n",
      "  Line 0\n",
      "\u001b[43m\u001b[32m  Expected and actual output match: [[5, 6, 7, 3, 4], [10, 12, 14, 6, 8]]\u001b[0m\n",
      "\n",
      "\u001b[43m\u001b[32mTest PASSED!\u001b[0m\n"
     ]
    }
   ],
   "source": [
    "#@title TEST 56734\n",
    "inputs=['56734']\n",
    "expected_outputs=[\"[[5, 6, 7, 3, 4], [10, 12, 14, 6, 8]]\"]\n",
    "run_and_test(inputs,expected_outputs,asgn03_03Play_with_matrices)"
   ]
  },
  {
   "cell_type": "markdown",
   "metadata": {
    "id": "Om177ojl7k5J"
   },
   "source": [
    "# Assignment 03.04: Play with dictionaries\n",
    "## Statement\n",
    "\n",
    "Write a program that \n",
    "\n",
    "- Reads three strings `st1`, `st2`, and `st3` given in 3 lines\n",
    "- Creates a dictionary (`d1`) mapping each string to its upper-case version\n",
    "- Prints such dictionary `d1`\n",
    "\n",
    "## Example input 1\n",
    "\n",
    "```\n",
    "Andrea\n",
    "```\n",
    "\n",
    "```\n",
    "Daniele\n",
    "```\n",
    "\n",
    "```\n",
    "Giulio\n",
    "```\n",
    "\n",
    "## Example output 1\n",
    "\n",
    "```\n",
    "{'Andrea': 'ANDREA', 'Daniele': 'DANIELE', 'Giulio': 'GIULIO'}\n",
    "```\n",
    "\n",
    "## Example input 2\n",
    "\n",
    "```\n",
    "Andrea\n",
    "```\n",
    "\n",
    "```\n",
    "Daniele\n",
    "```\n",
    "\n",
    "```\n",
    "Andrea\n",
    "```\n",
    "\n",
    "## Example output 2\n",
    "\n",
    "```\n",
    "{'Andrea': 'ANDREA', 'Daniele': 'DANIELE'}\n",
    "```"
   ]
  },
  {
   "cell_type": "markdown",
   "metadata": {
    "id": "FMZE1vmMbRLz"
   },
   "source": [
    "## Write your solution here\n",
    "\n",
    "\n",
    "*   Do not change the first line (`def ...():`)\n",
    "*   Maintain the given indentation\n",
    "*   You can run some tests by yourself by decommenting the last line\n",
    "\n"
   ]
  },
  {
   "cell_type": "code",
   "execution_count": 40,
   "metadata": {
    "colab": {
     "base_uri": "https://localhost:8080/"
    },
    "id": "Yg4jeBnA7k5K",
    "outputId": "d1804f69-374a-4f18-f8ad-1ffd98892eaa"
   },
   "outputs": [],
   "source": [
    "def asgn03_04Play_with_dictionaries():\n",
    "#     # This program reads a string and prints it\n",
    "#     s = input()\n",
    "#     print(s)\n",
    "\n",
    "#     # Change it according to the assignment description\n",
    "\n",
    "    st1 = input()\n",
    "    st2 = input()\n",
    "    st3 = input()\n",
    "\n",
    "    d1 = {st1 : st1.upper(), st2 : st2.upper(), st3 : st3.upper()}\n",
    "\n",
    "    print(d1)    \n",
    "    \n",
    "#You can test independently your solution by executing the following line\n",
    "#asgn03_04Play_with_dictionaries()"
   ]
  },
  {
   "cell_type": "markdown",
   "metadata": {
    "id": "_lqTangP8R46"
   },
   "source": [
    "## Run the following cells to perform the provided tests"
   ]
  },
  {
   "cell_type": "code",
   "execution_count": 41,
   "metadata": {
    "colab": {
     "base_uri": "https://localhost:8080/"
    },
    "id": "fwX9u8aW7k5L",
    "outputId": "a12aefe2-be6d-4b28-f876-acc6ce57e9ae"
   },
   "outputs": [
    {
     "name": "stdout",
     "output_type": "stream",
     "text": [
      "Test ['Andrea', 'Daniele', 'Andrea']\n",
      "\u001b[43m\u001b[32m The program prints 1 lines as expected.\u001b[0m\n",
      "\n",
      "  Line 0\n",
      "\u001b[43m\u001b[32m  Expected and actual output match: {'Andrea': 'ANDREA', 'Daniele': 'DANIELE'}\u001b[0m\n",
      "\n",
      "\u001b[43m\u001b[32mTest PASSED!\u001b[0m\n"
     ]
    }
   ],
   "source": [
    "#@title TEST ADA\n",
    "inputs=['Andrea','Daniele','Andrea']\n",
    "expected_outputs=[\"{'Andrea': 'ANDREA', 'Daniele': 'DANIELE'}\"]\n",
    "run_and_test(inputs,expected_outputs,asgn03_04Play_with_dictionaries)"
   ]
  },
  {
   "cell_type": "code",
   "execution_count": 42,
   "metadata": {},
   "outputs": [
    {
     "name": "stdout",
     "output_type": "stream",
     "text": [
      "Test ['Andrea', 'Daniele', 'Giulio']\n",
      "\u001b[43m\u001b[32m The program prints 1 lines as expected.\u001b[0m\n",
      "\n",
      "  Line 0\n",
      "\u001b[43m\u001b[32m  Expected and actual output match: {'Andrea': 'ANDREA', 'Daniele': 'DANIELE', 'Giulio': 'GIULIO'}\u001b[0m\n",
      "\n",
      "\u001b[43m\u001b[32mTest PASSED!\u001b[0m\n"
     ]
    }
   ],
   "source": [
    "#@title TEST ADG\n",
    "inputs=['Andrea','Daniele','Giulio']\n",
    "expected_outputs=[\"{'Andrea': 'ANDREA', 'Daniele': 'DANIELE', 'Giulio': 'GIULIO'}\"]\n",
    "run_and_test(inputs,expected_outputs,asgn03_04Play_with_dictionaries)"
   ]
  },
  {
   "cell_type": "code",
   "execution_count": 43,
   "metadata": {},
   "outputs": [
    {
     "name": "stdout",
     "output_type": "stream",
     "text": [
      "Test ['ANDREA', 'DANIELE', 'GIULIO']\n",
      "\u001b[43m\u001b[32m The program prints 1 lines as expected.\u001b[0m\n",
      "\n",
      "  Line 0\n",
      "\u001b[43m\u001b[32m  Expected and actual output match: {'ANDREA': 'ANDREA', 'DANIELE': 'DANIELE', 'GIULIO': 'GIULIO'}\u001b[0m\n",
      "\n",
      "\u001b[43m\u001b[32mTest PASSED!\u001b[0m\n"
     ]
    }
   ],
   "source": [
    "#@title TEST ADG2\n",
    "inputs=['ANDREA','DANIELE','GIULIO']\n",
    "expected_outputs=[\"{'ANDREA': 'ANDREA', 'DANIELE': 'DANIELE', 'GIULIO': 'GIULIO'}\"]\n",
    "run_and_test(inputs,expected_outputs,asgn03_04Play_with_dictionaries)"
   ]
  },
  {
   "cell_type": "markdown",
   "metadata": {
    "id": "Om177ojl7k5J"
   },
   "source": [
    "# Assignment 03.05: Dictionaries and numbers\n",
    "## Statement\n",
    "\n",
    "Write a program that \n",
    "\n",
    "- Reads a string containing only digits\n",
    "- Creates a dictionary (`d1`) casting each character in a string (a string representation of a digit) to its `int` counterpart\n",
    "- Prints this dictionary `d1`\n",
    "\n",
    "**Note**\n",
    "\n",
    "- The length of the input string is not known a prior. Your implementation should work with strings of any length.\n",
    "\n",
    "## Example input 1\n",
    "\n",
    "```\n",
    "12345\n",
    "```\n",
    "\n",
    "## Example output 1\n",
    "\n",
    "```\n",
    "{'1': 1, '2': 2, '3': 3, '4': 4, '5': 5}\n",
    "```\n",
    "\n",
    "## Hint\n",
    "\n",
    "In class we have seen how to create dictionaries using list comprehension. With that in mind, solving this exercise requires just a few lines of code"
   ]
  },
  {
   "cell_type": "markdown",
   "metadata": {
    "id": "FMZE1vmMbRLz"
   },
   "source": [
    "## Write your solution here\n",
    "\n",
    "\n",
    "*   Do not change the first line (`def ...():`)\n",
    "*   Maintain the given indentation\n",
    "*   You can run some tests by yourself by decommenting the last line\n",
    "\n"
   ]
  },
  {
   "cell_type": "code",
   "execution_count": 57,
   "metadata": {
    "colab": {
     "base_uri": "https://localhost:8080/"
    },
    "id": "Yg4jeBnA7k5K",
    "outputId": "d1804f69-374a-4f18-f8ad-1ffd98892eaa"
   },
   "outputs": [],
   "source": [
    "def asgn03_05Dictionaries_and_numbers():\n",
    "#     # This program reads a string and prints it\n",
    "#     s = input()\n",
    "#     print(s)\n",
    "\n",
    "#     # Change it according to the assignment description\n",
    "\n",
    "    i1=input()\n",
    "    l1=list(i1)\n",
    "\n",
    "    d1={i:int(i) for i in l1}\n",
    "\n",
    "    print(d1)\n",
    "    \n",
    "#You can test independently your solution by executing the following line\n",
    "#asgn03_05Dictionaries_and_numbers()"
   ]
  },
  {
   "cell_type": "markdown",
   "metadata": {
    "id": "_lqTangP8R46"
   },
   "source": [
    "## Run the following cells to perform the provided tests"
   ]
  },
  {
   "cell_type": "code",
   "execution_count": 58,
   "metadata": {
    "colab": {
     "base_uri": "https://localhost:8080/"
    },
    "id": "fwX9u8aW7k5L",
    "outputId": "a12aefe2-be6d-4b28-f876-acc6ce57e9ae"
   },
   "outputs": [
    {
     "name": "stdout",
     "output_type": "stream",
     "text": [
      "Test ['123']\n",
      "\u001b[43m\u001b[32m The program prints 1 lines as expected.\u001b[0m\n",
      "\n",
      "  Line 0\n",
      "\u001b[43m\u001b[32m  Expected and actual output match: {'1': 1, '2': 2, '3': 3}\u001b[0m\n",
      "\n",
      "\u001b[43m\u001b[32mTest PASSED!\u001b[0m\n"
     ]
    }
   ],
   "source": [
    "#@title TEST 123\n",
    "inputs=['123']\n",
    "expected_outputs=[\"{'1': 1, '2': 2, '3': 3}\"]\n",
    "run_and_test(inputs,expected_outputs,asgn03_05Dictionaries_and_numbers)"
   ]
  },
  {
   "cell_type": "code",
   "execution_count": 59,
   "metadata": {},
   "outputs": [
    {
     "name": "stdout",
     "output_type": "stream",
     "text": [
      "Test ['12345']\n",
      "\u001b[43m\u001b[32m The program prints 1 lines as expected.\u001b[0m\n",
      "\n",
      "  Line 0\n",
      "\u001b[43m\u001b[32m  Expected and actual output match: {'1': 1, '2': 2, '3': 3, '4': 4, '5': 5}\u001b[0m\n",
      "\n",
      "\u001b[43m\u001b[32mTest PASSED!\u001b[0m\n"
     ]
    }
   ],
   "source": [
    "#@title TEST 12345\n",
    "inputs=['12345']\n",
    "expected_outputs=[\"{'1': 1, '2': 2, '3': 3, '4': 4, '5': 5}\"]\n",
    "run_and_test(inputs,expected_outputs,asgn03_05Dictionaries_and_numbers)"
   ]
  },
  {
   "cell_type": "code",
   "execution_count": 60,
   "metadata": {},
   "outputs": [
    {
     "name": "stdout",
     "output_type": "stream",
     "text": [
      "Test ['123456789']\n",
      "\u001b[43m\u001b[32m The program prints 1 lines as expected.\u001b[0m\n",
      "\n",
      "  Line 0\n",
      "\u001b[43m\u001b[32m  Expected and actual output match: {'1': 1, '2': 2, '3': 3, '4': 4, '5': 5, '6': 6, '7': 7, '8': 8, '9': 9}\u001b[0m\n",
      "\n",
      "\u001b[43m\u001b[32mTest PASSED!\u001b[0m\n"
     ]
    }
   ],
   "source": [
    "#@title TEST 123456789\n",
    "inputs=['123456789']\n",
    "expected_outputs=[\"{'1': 1, '2': 2, '3': 3, '4': 4, '5': 5, '6': 6, '7': 7, '8': 8, '9': 9}\"]\n",
    "run_and_test(inputs,expected_outputs,asgn03_05Dictionaries_and_numbers)"
   ]
  },
  {
   "cell_type": "markdown",
   "metadata": {
    "id": "Om177ojl7k5J"
   },
   "source": [
    "# Assignment 03.06: Play with class 3\n",
    "## Statement\n",
    "\n",
    "Write a program that \n",
    "\n",
    "- Reads three integers:\n",
    "    -   `start`\n",
    "    -  `stop`\n",
    "    -  `step`\n",
    "- Creates a range `r` using these three parameters\n",
    "- Creates a list `x` containing the elements in `r`\n",
    "- Creates a list `y` containing the square of each element in `r`\n",
    "- Creates a dictionary `d` that maps each element in `x` with the corresponding one in `y`\n",
    "- Prints `d`\n",
    "\n",
    "## Example input 1\n",
    "\n",
    "```\n",
    "0\n",
    "```\n",
    "\n",
    "```\n",
    "6\n",
    "```\n",
    "\n",
    "```\n",
    "1\n",
    "```\n",
    "\n",
    "## Example output 1\n",
    "\n",
    "```\n",
    "{0: 0, 1: 1, 2: 4, 3: 9, 4: 16, 5: 25}\n",
    "```\n",
    "\n",
    "## Example input 2\n",
    "\n",
    "```\n",
    "0\n",
    "```\n",
    "\n",
    "```\n",
    "100\n",
    "```\n",
    "\n",
    "```\n",
    "10\n",
    "```\n",
    "\n",
    "## Example output 2\n",
    "\n",
    "```\n",
    "{0: 0, 10: 100, 20: 400, 30: 900, 40: 1600, 50: 2500, 60: 3600, 70: 4900, 80: 6400, 90: 8100}\n",
    "```\n",
    "\n"
   ]
  },
  {
   "cell_type": "markdown",
   "metadata": {
    "id": "FMZE1vmMbRLz"
   },
   "source": [
    "## Write your solution here\n",
    "\n",
    "\n",
    "*   Do not change the first line (`def ...():`)\n",
    "*   Maintain the given indentation\n",
    "*   You can run some tests by yourself by decommenting the last line\n",
    "\n"
   ]
  },
  {
   "cell_type": "code",
   "execution_count": 68,
   "metadata": {
    "colab": {
     "base_uri": "https://localhost:8080/"
    },
    "id": "Yg4jeBnA7k5K",
    "outputId": "d1804f69-374a-4f18-f8ad-1ffd98892eaa"
   },
   "outputs": [
    {
     "name": "stdin",
     "output_type": "stream",
     "text": [
      " 3\n",
      " 3\n",
      " 3\n"
     ]
    },
    {
     "name": "stdout",
     "output_type": "stream",
     "text": [
      "{}\n"
     ]
    }
   ],
   "source": [
    "def asgn03_06Play_with_class_3():\n",
    "#     # This program reads a string and prints it\n",
    "#     s = input()\n",
    "#     print(s)\n",
    "\n",
    "#     # Change it according to the assignment description\n",
    "\n",
    "    start = int(input())\n",
    "    stop = int(input())\n",
    "    step = int(input())\n",
    "\n",
    "    r = range(start,stop,step)\n",
    "    x=list(r)\n",
    "    y=[i**2 for i in r]\n",
    "    d=dict(zip(x,y))\n",
    "    print(d)\n",
    "\n",
    "#You can test independently your solution by executing the following line\n",
    "asgn03_06Play_with_class_3()"
   ]
  },
  {
   "cell_type": "markdown",
   "metadata": {
    "id": "_lqTangP8R46"
   },
   "source": [
    "## Run the following cells to perform the provided tests"
   ]
  },
  {
   "cell_type": "code",
   "execution_count": 69,
   "metadata": {
    "colab": {
     "base_uri": "https://localhost:8080/"
    },
    "id": "fwX9u8aW7k5L",
    "outputId": "a12aefe2-be6d-4b28-f876-acc6ce57e9ae"
   },
   "outputs": [
    {
     "name": "stdout",
     "output_type": "stream",
     "text": [
      "Test [0, 6, 1]\n",
      "\u001b[43m\u001b[32m The program prints 1 lines as expected.\u001b[0m\n",
      "\n",
      "  Line 0\n",
      "\u001b[43m\u001b[32m  Expected and actual output match: {0: 0, 1: 1, 2: 4, 3: 9, 4: 16, 5: 25}\u001b[0m\n",
      "\n",
      "\u001b[43m\u001b[32mTest PASSED!\u001b[0m\n"
     ]
    }
   ],
   "source": [
    "#@title TEST 0 6 1\n",
    "inputs=[0,6,1]\n",
    "expected_outputs=[\"{0: 0, 1: 1, 2: 4, 3: 9, 4: 16, 5: 25}\"]\n",
    "run_and_test(inputs,expected_outputs,asgn03_06Play_with_class_3)"
   ]
  },
  {
   "cell_type": "code",
   "execution_count": 70,
   "metadata": {},
   "outputs": [
    {
     "name": "stdout",
     "output_type": "stream",
     "text": [
      "Test [0, 30, 2]\n",
      "\u001b[43m\u001b[32m The program prints 1 lines as expected.\u001b[0m\n",
      "\n",
      "  Line 0\n",
      "\u001b[43m\u001b[32m  Expected and actual output match: {0: 0, 2: 4, 4: 16, 6: 36, 8: 64, 10: 100, 12: 144, 14: 196, 16: 256, 18: 324, 20: 400, 22: 484, 24: 576, 26: 676, 28: 784}\u001b[0m\n",
      "\n",
      "\u001b[43m\u001b[32mTest PASSED!\u001b[0m\n"
     ]
    }
   ],
   "source": [
    "#@title TEST 0 30 2\n",
    "inputs=[0,30,2]\n",
    "expected_outputs=[\"{0: 0, 2: 4, 4: 16, 6: 36, 8: 64, 10: 100, 12: 144, 14: 196, 16: 256, 18: 324, 20: 400, 22: 484, 24: 576, 26: 676, 28: 784}\"]\n",
    "run_and_test(inputs,expected_outputs,asgn03_06Play_with_class_3)"
   ]
  },
  {
   "cell_type": "code",
   "execution_count": 72,
   "metadata": {},
   "outputs": [
    {
     "name": "stdout",
     "output_type": "stream",
     "text": [
      "Test [0, 100, 10]\n",
      "\u001b[43m\u001b[32m The program prints 1 lines as expected.\u001b[0m\n",
      "\n",
      "  Line 0\n",
      "\u001b[43m\u001b[32m  Expected and actual output match: {0: 0, 10: 100, 20: 400, 30: 900, 40: 1600, 50: 2500, 60: 3600, 70: 4900, 80: 6400, 90: 8100}\u001b[0m\n",
      "\n",
      "\u001b[43m\u001b[32mTest PASSED!\u001b[0m\n"
     ]
    }
   ],
   "source": [
    "#@title TEST 0 100 10\n",
    "inputs=[0,100,10]\n",
    "expected_outputs=[\"{0: 0, 10: 100, 20: 400, 30: 900, 40: 1600, 50: 2500, 60: 3600, 70: 4900, 80: 6400, 90: 8100}\"]\n",
    "run_and_test(inputs,expected_outputs,asgn03_06Play_with_class_3)"
   ]
  }
 ],
 "metadata": {
  "colab": {
   "collapsed_sections": [],
   "name": "02DataTypesAndOperations_Assignments",
   "provenance": [],
   "toc_visible": true
  },
  "kernelspec": {
   "display_name": "Python 3",
   "language": "python",
   "name": "python3"
  },
  "language_info": {
   "codemirror_mode": {
    "name": "ipython",
    "version": 3
   },
   "file_extension": ".py",
   "mimetype": "text/x-python",
   "name": "python",
   "nbconvert_exporter": "python",
   "pygments_lexer": "ipython3",
   "version": "3.8.2"
  },
  "toc-autonumbering": true,
  "toc-showcode": false,
  "toc-showmarkdowntxt": false
 },
 "nbformat": 4,
 "nbformat_minor": 4
}
