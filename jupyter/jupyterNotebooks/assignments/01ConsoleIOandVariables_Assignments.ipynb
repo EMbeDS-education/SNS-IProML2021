{
 "cells": [
  {
   "cell_type": "markdown",
   "metadata": {
    "id": "h5NGq0EV7k4-"
   },
   "source": [
    "<center><font size=\"+4\">Introduction to Programming and Machine Learning in Python 2020/2021</font></center>\n",
    "<center><font size=\"+2\">Scuola Normale Superiore, Pisa, Italy</font></center>\n",
    "\n",
    "<center><font size=\"+2\">Course responsibles</font></center>\n",
    "<center><font size=\"+2\">Andrea Vandin a.vandin@santannapisa.it</font></center>\n",
    "<center><font size=\"+2\">Daniele Licari d.licari@santannapisa.it</font></center>\n",
    "\n",
    "---"
   ]
  },
  {
   "cell_type": "markdown",
   "metadata": {
    "id": "PzTk_3lR7k5D"
   },
   "source": [
    "<center><font size=\"+4\">Assignments for</font></center>\n",
    "<center><font size=\"+4\">Lecture 1:  Course Introduction</font></center>\n",
    "\n",
    "---"
   ]
  },
  {
   "cell_type": "code",
   "execution_count": 1,
   "metadata": {
    "cellView": "form",
    "colab": {
     "base_uri": "https://localhost:8080/"
    },
    "id": "p666zbf89eCD",
    "outputId": "8f53eefb-4edb-47aa-c0ff-8d26f2e593d4"
   },
   "outputs": [
    {
     "name": "stdout",
     "output_type": "stream",
     "text": [
      "  % Total    % Received % Xferd  Average Speed   Time    Time     Time  Current\n",
      "                                 Dload  Upload   Total   Spent    Left  Speed\n",
      "100  3226  100  3226    0     0   8648      0 --:--:-- --:--:-- --:--:--  8648\n"
     ]
    }
   ],
   "source": [
    "#@title RUN, BUT DO NOT MODIFY\n",
    "!curl -O  https://raw.githubusercontent.com/EMbeDS-education/SNS-IProML2021/main/jupyter/jupyterNotebooks/assignments/auto_testing.py\n",
    "%load_ext autoreload\n",
    "%autoreload 2\n",
    "from auto_testing import *"
   ]
  },
  {
   "cell_type": "markdown",
   "metadata": {
    "id": "Om177ojl7k5J"
   },
   "source": [
    "# Assignment 01.01: Sum of three numbers\n",
    "## Statement\n",
    "\n",
    "Write a program that prints the Italian translation of 'Hello, world!'. \n",
    "\n",
    "That is: 'Ciao, mondo!'\n",
    "\n",
    "## Example input\n",
    "\n",
    "```\n",
    " \n",
    "```\n",
    "\n",
    "## Example output\n",
    "\n",
    "```\n",
    "Ciao, mondo!\n",
    "```\n",
    "\n",
    "## Theory\n",
    "\n",
    "Well, there is not much theory to use here. \n",
    "\n",
    "In the example, you can see how to print 'Hello, world!'."
   ]
  },
  {
   "cell_type": "markdown",
   "metadata": {
    "id": "FMZE1vmMbRLz"
   },
   "source": [
    "## Write your solution here\n",
    "\n",
    "\n",
    "*   Do not change the first line (`def ...():`)\n",
    "*   Maintain the given indentation\n",
    "*   You can run some tests by yourself by decommenting the last line\n",
    "\n"
   ]
  },
  {
   "cell_type": "code",
   "execution_count": 2,
   "metadata": {
    "colab": {
     "base_uri": "https://localhost:8080/"
    },
    "id": "Yg4jeBnA7k5K",
    "outputId": "d1804f69-374a-4f18-f8ad-1ffd98892eaa"
   },
   "outputs": [],
   "source": [
    "def asgn01_01Hello_world():\n",
    "    # This program prints 'Hello, world!':\n",
    "    #print('Hello, world!')\n",
    "\n",
    "    # Can you change it so that it prints the same, \n",
    "    #but in Italian?\n",
    "\n",
    "\n",
    "    print('Ciao, mondo!')\n",
    "    \n",
    "#You can test independently your solution by executing the following line\n",
    "#asgn01_01Hello_world()"
   ]
  },
  {
   "cell_type": "markdown",
   "metadata": {
    "id": "_lqTangP8R46"
   },
   "source": [
    "## Run the following cells to perform the provided tests"
   ]
  },
  {
   "cell_type": "code",
   "execution_count": 3,
   "metadata": {
    "colab": {
     "base_uri": "https://localhost:8080/"
    },
    "id": "fwX9u8aW7k5L",
    "outputId": "a12aefe2-be6d-4b28-f876-acc6ce57e9ae"
   },
   "outputs": [
    {
     "name": "stdout",
     "output_type": "stream",
     "text": [
      "Test []\n",
      "  The program prints 1 lines as expected.\n",
      " Line 0\n",
      "  Expected and actual output match: Ciao, mondo!\n",
      "\n",
      "Test PASSED!\n"
     ]
    }
   ],
   "source": [
    "#@title TEST 1 \n",
    "inputs=[]\n",
    "expected_outputs=[\"Ciao, mondo!\"]\n",
    "run_and_test(inputs,expected_outputs,asgn01_01Hello_world)"
   ]
  },
  {
   "cell_type": "markdown",
   "metadata": {
    "id": "1JMDln-vIKRB"
   },
   "source": [
    "# Assignment 01.02: Hello, name1 name2\n",
    "## Statement\n",
    "\n",
    "Write a program that reads two names (one per line), and prints \n",
    "\n",
    "`'Hello, name1 and name2'`, where `name1` and `name2` are the two read names.\n",
    "\n",
    "\n",
    "## Example input\n",
    "\n",
    "```\n",
    "Andrea\n",
    "```\n",
    "\n",
    "```\n",
    "Daniele\n",
    "```\n",
    "\n",
    "## Example output\n",
    "\n",
    "```\n",
    "Hello, Andrea Daniele\n",
    "```\n",
    "\n",
    "## Theory\n",
    "\n",
    "In the notebook shown in class, we have seen \n",
    "\n",
    "- how to read a name from console and print `Hello, name`\n",
    "- how to print more parts/sentences using a single `print()` \n",
    "\n",
    "You have to combine these two features."
   ]
  },
  {
   "cell_type": "markdown",
   "metadata": {
    "id": "IROCYUDQb0t7"
   },
   "source": [
    "## Write your solution here\n",
    "\n",
    "\n",
    "*   Do not change the first line (`def ...():`)\n",
    "*   Maintain the given indentation\n",
    "*   You can run some tests by yourself by decommenting the last line\n",
    "\n"
   ]
  },
  {
   "cell_type": "code",
   "execution_count": 4,
   "metadata": {
    "id": "QtPMkR0aJRYv"
   },
   "outputs": [],
   "source": [
    "def asgn01_02Hello_name1_name2():\n",
    "    # This program reads one name, name1, and then prints \n",
    "    # 'Hello, name1':\n",
    "    #name1=input()\n",
    "    #print('Hello,', name1)\n",
    "\n",
    "    # Can you change it so that it reads two names, \n",
    "    # name1 and name2, and then prints prints \n",
    "    # 'Hello, name1 name2'?\n",
    "    \n",
    "    name1=input()\n",
    "    name2=input()\n",
    "    print('Hello,', name1,name2)\n",
    "\n",
    "    \n",
    "#You can test independently your solution by executing the following line\n",
    "#asgn01_02Hello_name1_name2()"
   ]
  },
  {
   "cell_type": "markdown",
   "metadata": {
    "id": "HcoyoBpScQ7f"
   },
   "source": [
    "## Run the following cells to perform the provided tests"
   ]
  },
  {
   "cell_type": "code",
   "execution_count": 5,
   "metadata": {
    "colab": {
     "base_uri": "https://localhost:8080/"
    },
    "id": "eSTVUwPMJiEZ",
    "outputId": "8d3b1217-2345-4e7b-b9b7-28002118956a"
   },
   "outputs": [
    {
     "name": "stdout",
     "output_type": "stream",
     "text": [
      "Test ['Renzo', 'Lucia']\n",
      "  The program prints 1 lines as expected.\n",
      " Line 0\n",
      "  Expected and actual output match: Hello, Renzo Lucia\n",
      "\n",
      "Test PASSED!\n"
     ]
    }
   ],
   "source": [
    "#@title TEST Renzo Lucia\n",
    "inputs=['Renzo','Lucia']\n",
    "expected_outputs=[\"Hello, Renzo Lucia\"]\n",
    "run_and_test(inputs,expected_outputs,asgn01_02Hello_name1_name2)"
   ]
  },
  {
   "cell_type": "code",
   "execution_count": 6,
   "metadata": {
    "colab": {
     "base_uri": "https://localhost:8080/"
    },
    "id": "ME2o6MJrKMLG",
    "outputId": "d475121f-4296-437c-afb6-ae742aab8492"
   },
   "outputs": [
    {
     "name": "stdout",
     "output_type": "stream",
     "text": [
      "Test ['Andrea', 'Daniele']\n",
      "  The program prints 1 lines as expected.\n",
      " Line 0\n",
      "  Expected and actual output match: Hello, Andrea Daniele\n",
      "\n",
      "Test PASSED!\n"
     ]
    }
   ],
   "source": [
    "#@title TEST Andrea Daniele\n",
    "inputs=['Andrea','Daniele']\n",
    "expected_outputs=[\"Hello, Andrea Daniele\"]\n",
    "run_and_test(inputs,expected_outputs,asgn01_02Hello_name1_name2)"
   ]
  },
  {
   "cell_type": "code",
   "execution_count": 7,
   "metadata": {
    "colab": {
     "base_uri": "https://localhost:8080/"
    },
    "id": "qZ1uJ3emKhWp",
    "outputId": "4c032a6a-2d15-4488-9381-2e989749dc5a"
   },
   "outputs": [
    {
     "name": "stdout",
     "output_type": "stream",
     "text": [
      "Test ['Daniele', 'Andrea']\n",
      "  The program prints 1 lines as expected.\n",
      " Line 0\n",
      "  Expected and actual output match: Hello, Daniele Andrea\n",
      "\n",
      "Test PASSED!\n"
     ]
    }
   ],
   "source": [
    "#@title TEST Daniele Andrea\n",
    "inputs=['Daniele','Andrea']\n",
    "expected_outputs=[\"Hello, Daniele Andrea\"]\n",
    "run_and_test(inputs,expected_outputs,asgn01_02Hello_name1_name2)"
   ]
  },
  {
   "cell_type": "markdown",
   "metadata": {
    "id": "CvRjQW_ITQ8T"
   },
   "source": [
    "# Assignment 01.03: Hello, name1 and name2\n",
    "## Statement\n",
    "\n",
    "Write a program that reads two names (one per line), and prints \n",
    "\n",
    "`'Hello, name1 and name2'`, where `name1` and `name2` are the two read names.\n",
    "\n",
    "\n",
    "## Example input\n",
    "\n",
    "```\n",
    "Andrea\n",
    "```\n",
    "\n",
    "```\n",
    "Daniele\n",
    "```\n",
    "\n",
    "## Example output\n",
    "\n",
    "```\n",
    "Hello, Andrea and Daniele\n",
    "```\n",
    "\n",
    "## Theory\n",
    "\n",
    "In the notebook shown in class, we have seen \n",
    "\n",
    "- how to read one name from console and print `Hello, name`\n",
    "- how to print more parts/sentences using a single `print()` \n",
    "\n",
    "You have to combine these two features.\n",
    "\n",
    "Note that with respect to assignment 01.02 you have to add an 'and' between the two names."
   ]
  },
  {
   "cell_type": "markdown",
   "metadata": {
    "id": "Lr-UYAK6b18z"
   },
   "source": [
    "## Write your solution here\n",
    "\n",
    "\n",
    "*   Do not change the first line (`def ...():`)\n",
    "*   Maintain the given indentation\n",
    "*   You can run some tests by yourself by decommenting the last line\n",
    "\n"
   ]
  },
  {
   "cell_type": "code",
   "execution_count": 8,
   "metadata": {
    "id": "ghJWGiEPUD9v"
   },
   "outputs": [],
   "source": [
    "def asgn01_03Hello_name1_and_name2():\n",
    "    # This program reads one name, name1, and then prints 'Hello, name1':\n",
    "    #name1=input()\n",
    "    #print('Hello,', name1)\n",
    "\n",
    "    # Can you change it so that it reads two names, \n",
    "    # name1 and name2, and then prints prints \n",
    "    # 'Hello, name1 and name2'?\n",
    "\n",
    "\n",
    "\n",
    "\n",
    "    name1=input()\n",
    "    name2=input()\n",
    "    print('Hello,', name1,'and',name2)\n",
    "    \n",
    "#You can test independently your solution by executing the following line\n",
    "#asgn01_03Hello_name1_and_name2()"
   ]
  },
  {
   "cell_type": "markdown",
   "metadata": {
    "id": "XJA5H0ULcVAM"
   },
   "source": [
    "## Run the following cells to perform the provided tests"
   ]
  },
  {
   "cell_type": "code",
   "execution_count": 9,
   "metadata": {
    "colab": {
     "base_uri": "https://localhost:8080/"
    },
    "id": "eSTVUwPMJiEZ",
    "outputId": "8d3b1217-2345-4e7b-b9b7-28002118956a"
   },
   "outputs": [
    {
     "name": "stdout",
     "output_type": "stream",
     "text": [
      "Test ['Renzo', 'Lucia']\n",
      "  The program prints 1 lines as expected.\n",
      " Line 0\n",
      "  Expected and actual output match: Hello, Renzo and Lucia\n",
      "\n",
      "Test PASSED!\n"
     ]
    }
   ],
   "source": [
    "#@title TEST Renzo Lucia\n",
    "inputs=['Renzo','Lucia']\n",
    "expected_outputs=[\"Hello, Renzo and Lucia\"]\n",
    "run_and_test(inputs,expected_outputs,asgn01_03Hello_name1_and_name2)"
   ]
  },
  {
   "cell_type": "code",
   "execution_count": 10,
   "metadata": {
    "colab": {
     "base_uri": "https://localhost:8080/"
    },
    "id": "ME2o6MJrKMLG",
    "outputId": "d475121f-4296-437c-afb6-ae742aab8492"
   },
   "outputs": [
    {
     "name": "stdout",
     "output_type": "stream",
     "text": [
      "Test ['Andrea', 'Daniele']\n",
      "  The program prints 1 lines as expected.\n",
      " Line 0\n",
      "  Expected and actual output match: Hello, Andrea and Daniele\n",
      "\n",
      "Test PASSED!\n"
     ]
    }
   ],
   "source": [
    "#@title TEST Andrea Daniele\n",
    "inputs=['Andrea','Daniele']\n",
    "expected_outputs=[\"Hello, Andrea and Daniele\"]\n",
    "run_and_test(inputs,expected_outputs,asgn01_03Hello_name1_and_name2)"
   ]
  },
  {
   "cell_type": "code",
   "execution_count": 11,
   "metadata": {
    "colab": {
     "base_uri": "https://localhost:8080/"
    },
    "id": "qZ1uJ3emKhWp",
    "outputId": "4c032a6a-2d15-4488-9381-2e989749dc5a"
   },
   "outputs": [
    {
     "name": "stdout",
     "output_type": "stream",
     "text": [
      "Test ['Daniele', 'Andrea']\n",
      "  The program prints 1 lines as expected.\n",
      " Line 0\n",
      "  Expected and actual output match: Hello, Daniele and Andrea\n",
      "\n",
      "Test PASSED!\n"
     ]
    }
   ],
   "source": [
    "#@title TEST Daniele Andrea\n",
    "inputs=['Daniele','Andrea']\n",
    "expected_outputs=[\"Hello, Daniele and Andrea\"]\n",
    "run_and_test(inputs,expected_outputs,asgn01_03Hello_name1_and_name2)"
   ]
  }
 ],
 "metadata": {
  "colab": {
   "collapsed_sections": [],
   "name": "02DataTypesAndOperations_Assignments",
   "provenance": [],
   "toc_visible": true
  },
  "kernelspec": {
   "display_name": "Python 3",
   "language": "python",
   "name": "python3"
  },
  "language_info": {
   "codemirror_mode": {
    "name": "ipython",
    "version": 3
   },
   "file_extension": ".py",
   "mimetype": "text/x-python",
   "name": "python",
   "nbconvert_exporter": "python",
   "pygments_lexer": "ipython3",
   "version": "3.8.2"
  },
  "toc-autonumbering": true,
  "toc-showcode": false,
  "toc-showmarkdowntxt": false
 },
 "nbformat": 4,
 "nbformat_minor": 4
}
