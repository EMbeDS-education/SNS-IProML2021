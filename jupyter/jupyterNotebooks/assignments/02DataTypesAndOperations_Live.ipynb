{
 "cells": [
  {
   "cell_type": "markdown",
   "metadata": {
    "id": "h5NGq0EV7k4-"
   },
   "source": [
    "<center><font size=\"+4\">Introduction to Programming and Machine Learning in Python 2020/2021</font></center>\n",
    "<center><font size=\"+2\">Scuola Normale Superiore, Pisa, Italy</font></center>\n",
    "\n",
    "<center><font size=\"+2\">Course responsibles</font></center>\n",
    "<center><font size=\"+2\">Andrea Vandin a.vandin@santannapisa.it</font></center>\n",
    "<center><font size=\"+2\">Daniele Licari d.licari@santannapisa.it</font></center>\n",
    "\n",
    "---"
   ]
  },
  {
   "cell_type": "markdown",
   "metadata": {
    "id": "PzTk_3lR7k5D"
   },
   "source": [
    "<center><font size=\"+4\">Live Examples for</font></center>\n",
    "<center><font size=\"+4\">Lecture 2: Data Types and Operations</font></center>\n",
    "\n",
    "---"
   ]
  },
  {
   "cell_type": "code",
   "execution_count": 11,
   "metadata": {
    "cellView": "form",
    "colab": {
     "base_uri": "https://localhost:8080/"
    },
    "id": "p666zbf89eCD",
    "outputId": "e7218505-d7d7-49a5-afb5-0134bc46baec"
   },
   "outputs": [
    {
     "name": "stdout",
     "output_type": "stream",
     "text": [
      "  % Total    % Received % Xferd  Average Speed   Time    Time     Time  Current\n",
      "                                 Dload  Upload   Total   Spent    Left  Speed\n",
      "100  3480  100  3480    0     0  56129      0 --:--:-- --:--:-- --:--:-- 56129\n"
     ]
    }
   ],
   "source": [
    "#@title RUN, BUT DO NOT MODIFY\n",
    "!curl -O  https://raw.githubusercontent.com/EMbeDS-education/SNS-IProML2021/main/jupyter/jupyterNotebooks/assignments/auto_testing.py\n",
    "%reload_ext autoreload\n",
    "%autoreload 2\n",
    "from auto_testing import *"
   ]
  },
  {
   "cell_type": "markdown",
   "metadata": {
    "id": "Om177ojl7k5J"
   },
   "source": [
    "# Live 02.01: Two digits\n",
    "## Statement\n",
    "\n",
    "Given a two-digit integer, print its left digit (a tens digit) and then its right digit (a ones digit). Use the operator of integer division for obtaining the tens digit and the operator of taking remainder for obtaining the ones digit. \n",
    "\n",
    "## Example input\n",
    "\n",
    "```\n",
    "79\n",
    "```\n",
    "\n",
    "## Example output\n",
    "\n",
    "```\n",
    "7 9\n",
    "```\n",
    "\n",
    "## Hint\n",
    "\n",
    "The hint is already given in the statement. \n",
    "\n",
    "Sometimes, trying out a different approach might lead to easier solutions..."
   ]
  },
  {
   "cell_type": "markdown",
   "metadata": {
    "id": "5_84W_h-cJRx"
   },
   "source": [
    "## Write your solution here\n",
    "\n",
    "\n",
    "*   Do not change the first line (`def ...():`)\n",
    "*   Maintain the given indentation\n",
    "*   You can run some tests by yourself by decommenting the last line\n",
    "\n"
   ]
  },
  {
   "cell_type": "code",
   "execution_count": 2,
   "metadata": {
    "id": "Yg4jeBnA7k5K"
   },
   "outputs": [],
   "source": [
    "def live02_01Two_digits():\n",
    "    # This program reads and prints\n",
    "    # a = input()\n",
    "    # print(a)\n",
    "\n",
    "\n",
    "    #Solution 1\n",
    "    #num = int(input())\n",
    "    #print(num // 10, num % 10)\n",
    "\n",
    "    #Smart solution\n",
    "    num_str = input()\n",
    "    print(num_str[0],num_str[1])\n",
    "\n",
    "  \n",
    "    \n",
    "#You can test independently your solution by executing the following line\n",
    "#live02_01Two_digits()"
   ]
  },
  {
   "cell_type": "markdown",
   "metadata": {
    "id": "_lqTangP8R46"
   },
   "source": [
    "## Run the following cells to perform the provided tests"
   ]
  },
  {
   "cell_type": "code",
   "execution_count": 3,
   "metadata": {
    "colab": {
     "base_uri": "https://localhost:8080/"
    },
    "id": "fwX9u8aW7k5L",
    "outputId": "fc4be9be-ad7b-4f10-c872-96da745f4d0a"
   },
   "outputs": [
    {
     "name": "stdout",
     "output_type": "stream",
     "text": [
      "Test ['79']\n",
      "  The program prints 1 lines as expected.\n",
      " Line 0\n",
      "  Expected and actual output match: 7 9\n",
      "\n",
      "Test PASSED!\n"
     ]
    }
   ],
   "source": [
    "#@title TEST 79\n",
    "inputs=[\"79\"]\n",
    "expected_outputs=[\"7 9\"]\n",
    "run_and_test(inputs,expected_outputs,live02_01Two_digits)"
   ]
  },
  {
   "cell_type": "code",
   "execution_count": 4,
   "metadata": {
    "colab": {
     "base_uri": "https://localhost:8080/"
    },
    "id": "mcVyJB_ViJib",
    "outputId": "77b0161d-36b2-4df6-f006-e16ccc607e4a"
   },
   "outputs": [
    {
     "name": "stdout",
     "output_type": "stream",
     "text": [
      "Test ['40']\n",
      "  The program prints 1 lines as expected.\n",
      " Line 0\n",
      "  Expected and actual output match: 4 0\n",
      "\n",
      "Test PASSED!\n"
     ]
    }
   ],
   "source": [
    "#@title TEST 40\n",
    "inputs=[\"40\"]\n",
    "expected_outputs=[\"4 0\"]\n",
    "run_and_test(inputs,expected_outputs,live02_01Two_digits)"
   ]
  },
  {
   "cell_type": "code",
   "execution_count": 5,
   "metadata": {
    "colab": {
     "base_uri": "https://localhost:8080/"
    },
    "id": "h5-NQC5uiPq7",
    "outputId": "38df0647-920e-4a7b-fa39-b57220fd73d2"
   },
   "outputs": [
    {
     "name": "stdout",
     "output_type": "stream",
     "text": [
      "Test ['11']\n",
      "  The program prints 1 lines as expected.\n",
      " Line 0\n",
      "  Expected and actual output match: 1 1\n",
      "\n",
      "Test PASSED!\n"
     ]
    }
   ],
   "source": [
    "#@title TEST 11\n",
    "inputs=[\"11\"]\n",
    "expected_outputs=[\"1 1\"]\n",
    "run_and_test(inputs,expected_outputs,live02_01Two_digits)"
   ]
  },
  {
   "cell_type": "code",
   "execution_count": 6,
   "metadata": {
    "colab": {
     "base_uri": "https://localhost:8080/"
    },
    "id": "J2hEXQe-iWrM",
    "outputId": "97da7043-a584-46c1-e10a-8291700fa8c9"
   },
   "outputs": [
    {
     "name": "stdout",
     "output_type": "stream",
     "text": [
      "Test ['74']\n",
      "  The program prints 1 lines as expected.\n",
      " Line 0\n",
      "  Expected and actual output match: 7 4\n",
      "\n",
      "Test PASSED!\n"
     ]
    }
   ],
   "source": [
    "#@title TEST 74\n",
    "inputs=[\"74\"]\n",
    "expected_outputs=[\"7 4\"]\n",
    "run_and_test(inputs,expected_outputs,live02_01Two_digits)"
   ]
  },
  {
   "cell_type": "markdown",
   "metadata": {
    "id": "r5sSbmQqib8H"
   },
   "source": [
    "# Live 02.02: Swap digits\n",
    "## Statement\n",
    "\n",
    "Given a two-digit integer, swap its digits and print the result. \n",
    "\n",
    "## Example input\n",
    "\n",
    "```\n",
    "79\n",
    "```\n",
    "\n",
    "## Example output\n",
    "\n",
    "```\n",
    "97\n",
    "```\n",
    "\n",
    "## Theory\n",
    "\n",
    "What would be the arithmetic expressions to filter the first and second digit? \n",
    "\n",
    "Sometimes, thinking out of the box helps ..."
   ]
  },
  {
   "cell_type": "markdown",
   "metadata": {
    "id": "wNBQNDS_cngZ"
   },
   "source": [
    "## Write your solution here\n",
    "\n",
    "\n",
    "*   Do not change the first line (`def ...():`)\n",
    "*   Maintain the given indentation\n",
    "*   You can run some tests by yourself by decommenting the last line\n",
    "\n"
   ]
  },
  {
   "cell_type": "code",
   "execution_count": 7,
   "metadata": {
    "id": "zsxb6HQMimsg"
   },
   "outputs": [],
   "source": [
    "def live02_02Swap_digits():\n",
    "    # This program reads and prints\n",
    "    # a = input()\n",
    "    # print(a)\n",
    "\n",
    "\n",
    "    #A solution using arithmetic expressions\n",
    "    #a = int(input())\n",
    "    #print(a % 10 * 10 + a // 10)\n",
    "\n",
    "    #A much simpler solution\n",
    "    a = input()\n",
    "    print(a[1]+a[0])\n",
    "\n",
    "  \n",
    "    \n",
    "#You can test independently your solution by executing the following line\n",
    "#live02_02Swap_digits()"
   ]
  },
  {
   "cell_type": "markdown",
   "metadata": {
    "id": "UxRguYDHcqec"
   },
   "source": [
    "## Run the following cells to perform the provided tests"
   ]
  },
  {
   "cell_type": "code",
   "execution_count": 8,
   "metadata": {
    "colab": {
     "base_uri": "https://localhost:8080/"
    },
    "id": "80UodZCGcqed",
    "outputId": "6fc9224a-f065-4e1b-938c-6079f41bfba4"
   },
   "outputs": [
    {
     "name": "stdout",
     "output_type": "stream",
     "text": [
      "Test ['79']\n",
      "  The program prints 1 lines as expected.\n",
      " Line 0\n",
      "  Expected and actual output match: 97\n",
      "\n",
      "Test PASSED!\n"
     ]
    }
   ],
   "source": [
    "#@title TEST 79\n",
    "inputs=[\"79\"]\n",
    "expected_outputs=[\"97\"]\n",
    "run_and_test(inputs,expected_outputs,live02_02Swap_digits)"
   ]
  },
  {
   "cell_type": "code",
   "execution_count": 9,
   "metadata": {
    "colab": {
     "base_uri": "https://localhost:8080/"
    },
    "id": "YyLcqZzXdUYW",
    "outputId": "6fc9224a-f065-4e1b-938c-6079f41bfba4"
   },
   "outputs": [
    {
     "name": "stdout",
     "output_type": "stream",
     "text": [
      "Test ['48']\n",
      "  The program prints 1 lines as expected.\n",
      " Line 0\n",
      "  Expected and actual output match: 84\n",
      "\n",
      "Test PASSED!\n"
     ]
    }
   ],
   "source": [
    "#@title TEST 48\n",
    "inputs=[\"48\"]\n",
    "expected_outputs=[\"84\"]\n",
    "run_and_test(inputs,expected_outputs,live02_02Swap_digits)"
   ]
  },
  {
   "cell_type": "code",
   "execution_count": 10,
   "metadata": {
    "colab": {
     "base_uri": "https://localhost:8080/"
    },
    "id": "xfcR50I8dXyR",
    "outputId": "6fc9224a-f065-4e1b-938c-6079f41bfba4"
   },
   "outputs": [
    {
     "name": "stdout",
     "output_type": "stream",
     "text": [
      "Test ['22']\n",
      "  The program prints 1 lines as expected.\n",
      " Line 0\n",
      "  Expected and actual output match: 22\n",
      "\n",
      "Test PASSED!\n"
     ]
    }
   ],
   "source": [
    "#@title TEST 22\n",
    "inputs=[\"22\"]\n",
    "expected_outputs=[\"22\"]\n",
    "run_and_test(inputs,expected_outputs,live02_02Swap_digits)"
   ]
  }
 ],
 "metadata": {
  "colab": {
   "collapsed_sections": [],
   "name": "02DataTypesAndOperations_Live",
   "provenance": [],
   "toc_visible": true
  },
  "kernelspec": {
   "display_name": "Python 3",
   "language": "python",
   "name": "python3"
  },
  "language_info": {
   "codemirror_mode": {
    "name": "ipython",
    "version": 3
   },
   "file_extension": ".py",
   "mimetype": "text/x-python",
   "name": "python",
   "nbconvert_exporter": "python",
   "pygments_lexer": "ipython3",
   "version": "3.8.2"
  },
  "toc-autonumbering": true,
  "toc-showcode": false,
  "toc-showmarkdowntxt": false
 },
 "nbformat": 4,
 "nbformat_minor": 4
}
