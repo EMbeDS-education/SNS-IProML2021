{
 "cells": [
  {
   "cell_type": "markdown",
   "metadata": {},
   "source": [
    "<center><font size=\"+4\">Introduction to Programming and Machine Learning in Python 2020/2021</font></center>\n",
    "<center><font size=\"+2\">Scuola Normale Superiore, Pisa, Italy</font></center>\n",
    "\n",
    "<center><font size=\"+2\">Course responsibles</font></center>\n",
    "<center><font size=\"+2\">Andrea Vandin a.vandin@santannapisa.it</font></center>\n",
    "<center><font size=\"+2\">Daniele Licari d.licari@santannapisa.it</font></center>\n",
    "\n",
    "---"
   ]
  },
  {
   "cell_type": "markdown",
   "metadata": {},
   "source": [
    "<center><font size=\"+4\">Assignments for</font></center>\n",
    "<center><font size=\"+4\">Lecture 2: Data Types and Operations</font></center>\n",
    "\n",
    "---"
   ]
  },
  {
   "cell_type": "code",
   "execution_count": 118,
   "metadata": {},
   "outputs": [],
   "source": [
    "#These two functions replace 'input()'\n",
    "def my_read_list(lst_param):\n",
    "    for i in lst_param:\n",
    "        yield i\n",
    "\n",
    "def my_input(*args, **kwargs):\n",
    "    return next(_inputs_provider)\n",
    "\n",
    "\n",
    "#Store the original function for 'input()'\n",
    "from ipykernel.ipkernel import IPythonKernel\n",
    "ipython_input = IPythonKernel._input_request\n",
    "\n",
    "\n",
    "#Store the original function for 'print()'\n",
    "import sys\n",
    "ipython_output = sys.stdout\n",
    "\n",
    "\n",
    "#Library to print information on exceptions\n",
    "import traceback\n",
    "\n",
    "\n",
    "#Test each line from expected/actual output\n",
    "def test_outputs(file_out,expected_output):\n",
    "    with open(file_out) as f:\n",
    "        actual_output = f.readlines()\n",
    "    lines_to_compare=min(len(actual_output),len(expected_output))\n",
    "    if len(actual_output)!=len(expected_output):\n",
    "        print(' Test FAILED!')\n",
    "        print('  The program should print',len(expected_output),'lines while there are',len(actual_output))\n",
    "        print('  Nevetheless, we compare the first',lines_to_compare,'lines')\n",
    "        print()\n",
    "    else:\n",
    "        print('  The program prints',len(expected_output),'lines as expected.')\n",
    "    for i in range(lines_to_compare):\n",
    "        print(' Line',i)\n",
    "        assert_equals(actual_output[i],expected_output[i])\n",
    "\n",
    "def assert_equals(actual,expected,failure_message=\"\"):\n",
    "    if actual != None and type(actual)==str:\n",
    "        actual=actual.strip()\n",
    "    if expected != None and type(expected)==str:        \n",
    "        expected=expected.strip()\n",
    "    if(expected==actual):\n",
    "        #print('Test passed')\n",
    "        print('  Expected and actual output match:',expected)\n",
    "    else:\n",
    "        print('  Test FAILED')\n",
    "        print('    Expected:',expected)\n",
    "        print('    Actual:',actual)\n",
    "        if(failure_message!=\"\"):\n",
    "            print(failure_message)\n",
    "    print()  \n",
    "    \n",
    "    \n",
    "#Run the assignment of the student, and test its output\n",
    "def run_and_test(inputs,expected_outputs,asgn,title=\"\",file_out=\"stdout.txt\"):\n",
    "    global _inputs_provider\n",
    "    exception_generated=False\n",
    "    if len(title)==0:\n",
    "        title=str(inputs)\n",
    "    try:\n",
    "        try:\n",
    "            #Replace input() with my_input()\n",
    "            IPythonKernel._input_request = my_input\n",
    "            _inputs_provider=my_read_list(inputs)\n",
    "\n",
    "            #Write in a file rather than in the terminal\n",
    "            sys.stdout = open(file_out, 'w')\n",
    "\n",
    "            #Run the code of the student\n",
    "            asgn()\n",
    "\n",
    "        finally:\n",
    "            #Restore the correct input() and print()\n",
    "            IPythonKernel._input_request = ipython_input\n",
    "            sys.stdout = ipython_output\n",
    "            print('Test',title)\n",
    "    except StopIteration as err:\n",
    "            exception_generated=True\n",
    "            print(' You are making too many `input()`. Please check your code.')\n",
    "            print(' The problem arised executing the following command:')\n",
    "            #raise err\n",
    "            traceback.print_exc(limit=2)\n",
    "\n",
    "    if not(exception_generated):\n",
    "        #assert_equals(\"abc\",\"abc\")\n",
    "        #assert_equals(\"abc\",\"abcd\")\n",
    "        test_outputs(file_out,expected_outputs)"
   ]
  },
  {
   "cell_type": "markdown",
   "metadata": {},
   "source": [
    "# Assignment 02.01: Sum of three numbers\n",
    "## Statement\n",
    "\n",
    "Write a program that takes three numbers and prints their sum. \n",
    "\n",
    "Every number is given on a separate line.\n",
    "\n",
    "## Example input\n",
    "\n",
    "```\n",
    "2\n",
    "3\n",
    "6\n",
    "```\n",
    "    \n",
    "## Example output\n",
    "\n",
    "```\n",
    "11\n",
    "```\n",
    "\n",
    "## Hint\n",
    "\n",
    "The program already shows you how to read and sum two integers.\n",
    "\n",
    "You have to extend it allowing for a third input."
   ]
  },
  {
   "cell_type": "code",
   "execution_count": 124,
   "metadata": {},
   "outputs": [],
   "source": [
    "def asgn02_01Sum_of_three_numbers():\n",
    "    # This program reads two numbers and prints their sum:\n",
    "    a = int(input())\n",
    "    b = int(input())\n",
    "    print(a + b)\n",
    "    # Can you change it so it can read and sum three numbers?\n",
    "    \n",
    "#You can test independently your solution by decommenting the following line\n",
    "#asgn02_01Sum_of_three_numbers()"
   ]
  },
  {
   "cell_type": "markdown",
   "metadata": {},
   "source": [
    "Run the following cells to perform the provided tests"
   ]
  },
  {
   "cell_type": "code",
   "execution_count": 125,
   "metadata": {},
   "outputs": [
    {
     "name": "stdout",
     "output_type": "stream",
     "text": [
      "Test [1, 2, 3]\n",
      "  The program prints  1 lines as expected.\n",
      " Line 0\n",
      "  Test FAILED\n",
      "    Expected: 6\n",
      "    Actual: 3\n",
      "\n"
     ]
    }
   ],
   "source": [
    "inputs=[1,2,3]\n",
    "title=\"\"\n",
    "expected_outputs=[\"6\"]\n",
    "asgn=asgn02_01Sum_of_three_numbers\n",
    "run_and_test(inputs,expected_outputs,asgn)"
   ]
  },
  {
   "cell_type": "code",
   "execution_count": 126,
   "metadata": {},
   "outputs": [
    {
     "name": "stdout",
     "output_type": "stream",
     "text": [
      "Test [1, 1, 1]\n",
      "  The program prints  1 lines as expected.\n",
      " Line 0\n",
      "  Test FAILED\n",
      "    Expected: 3\n",
      "    Actual: 2\n",
      "\n"
     ]
    }
   ],
   "source": [
    "inputs=[1,1,1]\n",
    "expected_outputs=[\"3\"]\n",
    "asgn=asgn02_01Sum_of_three_numbers\n",
    "run_and_test(inputs,expected_outputs,asgn)"
   ]
  },
  {
   "cell_type": "code",
   "execution_count": null,
   "metadata": {},
   "outputs": [],
   "source": []
  },
  {
   "cell_type": "code",
   "execution_count": null,
   "metadata": {},
   "outputs": [],
   "source": []
  },
  {
   "cell_type": "code",
   "execution_count": 61,
   "metadata": {},
   "outputs": [
    {
     "name": "stdout",
     "output_type": "stream",
     "text": [
      "Line 0\n",
      "Expected and actual output match: -1\n",
      "\n",
      "Line 1\n",
      "Expected and actual output match: -2\n",
      "\n",
      "Line 2\n",
      "Expected and actual output match: 10\n",
      "\n"
     ]
    }
   ],
   "source": [
    "_inputs_provider=my_read_list([-1,-2,10])\n",
    "\n",
    "exception_generated=False\n",
    "try:\n",
    "    try:\n",
    "        #Replace input() with my_input()\n",
    "        IPythonKernel._input_request = my_input\n",
    "\n",
    "        #Write output in file\n",
    "        sys.stdout = open('stdout.txt', 'w')\n",
    "\n",
    "        # Now I use my_input()\n",
    "        a=int(input())\n",
    "        print(a)\n",
    "        b=int(input())\n",
    "        print(b)\n",
    "        c=int(input())\n",
    "        print(c)\n",
    "        \n",
    "        #From now on I'm printing too much\n",
    "        #print('d')\n",
    "\n",
    "        #From now on I'm reading too much\n",
    "        #a=input()\n",
    "        #print(a)\n",
    "#         b=input()\n",
    "#         print(b)\n",
    "#         c=input()\n",
    "#         print(c)\n",
    "\n",
    "    finally:\n",
    "        #Restore the correct input() and print()\n",
    "        IPythonKernel._input_request = ipython_input\n",
    "        sys.stdout = ipython_output\n",
    "except StopIteration as err:\n",
    "        exception_generated=True\n",
    "        print('You are making too many `input()`. Please check your code.')\n",
    "        print('The problem arised executing the following command:')\n",
    "        #raise err\n",
    "        traceback.print_exc(limit=1)\n",
    "        \n",
    "if not(exception_generated):\n",
    "    #assert_equals(\"abc\",\"abc\")\n",
    "    #assert_equals(\"abc\",\"abcd\")\n",
    "    test_outputs('stdout.txt',[\"-1\",\"-2\",\"10\"])    "
   ]
  },
  {
   "cell_type": "code",
   "execution_count": null,
   "metadata": {},
   "outputs": [],
   "source": []
  },
  {
   "cell_type": "code",
   "execution_count": null,
   "metadata": {},
   "outputs": [],
   "source": []
  },
  {
   "cell_type": "code",
   "execution_count": null,
   "metadata": {},
   "outputs": [],
   "source": []
  }
 ],
 "metadata": {
  "kernelspec": {
   "display_name": "env_iproml_2021",
   "language": "python",
   "name": "env_iproml_2021"
  },
  "language_info": {
   "codemirror_mode": {
    "name": "ipython",
    "version": 3
   },
   "file_extension": ".py",
   "mimetype": "text/x-python",
   "name": "python",
   "nbconvert_exporter": "python",
   "pygments_lexer": "ipython3",
   "version": "3.8.2"
  },
  "toc-autonumbering": true,
  "toc-showcode": false,
  "toc-showmarkdowntxt": false
 },
 "nbformat": 4,
 "nbformat_minor": 4
}
