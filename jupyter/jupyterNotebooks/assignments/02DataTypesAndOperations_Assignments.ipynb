{
 "cells": [
  {
   "cell_type": "markdown",
   "metadata": {
    "id": "h5NGq0EV7k4-"
   },
   "source": [
    "<center><font size=\"+4\">Introduction to Programming and Machine Learning in Python 2020/2021</font></center>\n",
    "<center><font size=\"+2\">Scuola Normale Superiore, Pisa, Italy</font></center>\n",
    "\n",
    "<center><font size=\"+2\">Course responsibles</font></center>\n",
    "<center><font size=\"+2\">Andrea Vandin a.vandin@santannapisa.it</font></center>\n",
    "<center><font size=\"+2\">Daniele Licari d.licari@santannapisa.it</font></center>\n",
    "\n",
    "---"
   ]
  },
  {
   "cell_type": "markdown",
   "metadata": {
    "id": "PzTk_3lR7k5D"
   },
   "source": [
    "<center><font size=\"+4\">Assignments for</font></center>\n",
    "<center><font size=\"+4\">Lecture 2: Data Types and Operations</font></center>\n",
    "\n",
    "---"
   ]
  },
  {
   "cell_type": "code",
   "execution_count": 1,
   "metadata": {
    "cellView": "form",
    "colab": {
     "base_uri": "https://localhost:8080/"
    },
    "id": "p666zbf89eCD",
    "outputId": "8f53eefb-4edb-47aa-c0ff-8d26f2e593d4"
   },
   "outputs": [
    {
     "name": "stdout",
     "output_type": "stream",
     "text": [
      "  % Total    % Received % Xferd  Average Speed   Time    Time     Time  Current\n",
      "                                 Dload  Upload   Total   Spent    Left  Speed\n",
      "100  3226  100  3226    0     0  53766      0 --:--:-- --:--:-- --:--:-- 53766\n"
     ]
    }
   ],
   "source": [
    "#@title RUN, BUT DO NOT MODIFY\n",
    "!curl -O  https://raw.githubusercontent.com/EMbeDS-education/SNS-IProML2021/main/jupyter/jupyterNotebooks/assignments/auto_testing.py\n",
    "%load_ext autoreload\n",
    "%autoreload 2\n",
    "from auto_testing import *\n"
   ]
  },
  {
   "cell_type": "markdown",
   "metadata": {
    "id": "Om177ojl7k5J"
   },
   "source": [
    "# Assignment 02.01: Sum of three numbers\n",
    "## Statement\n",
    "\n",
    "Write a program that takes three numbers and prints their sum. \n",
    "\n",
    "Every number is given on a separate line.\n",
    "\n",
    "## Example input\n",
    "\n",
    "```\n",
    "2\n",
    "3\n",
    "6\n",
    "```\n",
    "    \n",
    "## Example output\n",
    "\n",
    "```\n",
    "11\n",
    "```\n",
    "\n",
    "## Hint\n",
    "\n",
    "The program already shows you how to read and sum two integers.\n",
    "\n",
    "You have to extend it allowing for a third input."
   ]
  },
  {
   "cell_type": "markdown",
   "metadata": {
    "id": "FMZE1vmMbRLz"
   },
   "source": [
    "## Write your solution here\n",
    "\n",
    "\n",
    "*   Do not change the first line (`def ...():`)\n",
    "*   Maintain the given indentation\n",
    "*   You can run some tests by yourself by decommenting the last line\n",
    "\n"
   ]
  },
  {
   "cell_type": "code",
   "execution_count": 2,
   "metadata": {
    "colab": {
     "base_uri": "https://localhost:8080/"
    },
    "id": "Yg4jeBnA7k5K",
    "outputId": "d1804f69-374a-4f18-f8ad-1ffd98892eaa"
   },
   "outputs": [],
   "source": [
    "def asgn02_01Sum_of_three_numbers():\n",
    "#     # This program reads two numbers and prints their sum:\n",
    "#     a = int(input())\n",
    "#     b = int(input())\n",
    "#     print(a + b)\n",
    "#     # Can you change it so it can read and3 sum three numbers?\n",
    "\n",
    "\n",
    "    a = int(input())\n",
    "    b = int(input())\n",
    "    c = int(input())\n",
    "    print(a + b + c)\n",
    "    \n",
    "#You can test independently your solution by executing the following line\n",
    "#asgn02_01Sum_of_three_numbers()"
   ]
  },
  {
   "cell_type": "markdown",
   "metadata": {
    "id": "_lqTangP8R46"
   },
   "source": [
    "## Run the following cells to perform the provided tests"
   ]
  },
  {
   "cell_type": "code",
   "execution_count": 3,
   "metadata": {
    "colab": {
     "base_uri": "https://localhost:8080/"
    },
    "id": "fwX9u8aW7k5L",
    "outputId": "a12aefe2-be6d-4b28-f876-acc6ce57e9ae"
   },
   "outputs": [
    {
     "name": "stdout",
     "output_type": "stream",
     "text": [
      "Test [1, 2, 3]\n",
      "  The program prints 1 lines as expected.\n",
      " Line 0\n",
      "  Expected and actual output match: 6\n",
      "\n",
      "Test PASSED!\n"
     ]
    }
   ],
   "source": [
    "#@title TEST 1+2+3 = 6\n",
    "inputs=[1,2,3]\n",
    "expected_outputs=[\"6\"]\n",
    "run_and_test(inputs,expected_outputs,asgn02_01Sum_of_three_numbers)"
   ]
  },
  {
   "cell_type": "code",
   "execution_count": 4,
   "metadata": {
    "colab": {
     "base_uri": "https://localhost:8080/"
    },
    "id": "inRXA4McG3I3",
    "outputId": "4701f1ff-d53e-4b20-d2db-ddf6c5dc1c96"
   },
   "outputs": [
    {
     "name": "stdout",
     "output_type": "stream",
     "text": [
      "Test [-1, -2, 10]\n",
      "  The program prints 1 lines as expected.\n",
      " Line 0\n",
      "  Expected and actual output match: 7\n",
      "\n",
      "Test PASSED!\n"
     ]
    }
   ],
   "source": [
    "#@title TEST -1+-2+10 = 7\n",
    "inputs=[-1,-2,10]\n",
    "expected_outputs=[\"7\"]\n",
    "run_and_test(inputs,expected_outputs,asgn02_01Sum_of_three_numbers)"
   ]
  },
  {
   "cell_type": "code",
   "execution_count": 5,
   "metadata": {
    "colab": {
     "base_uri": "https://localhost:8080/"
    },
    "id": "Fi9-36fMHY9e",
    "outputId": "210864b4-ff5f-4693-efe6-06e18c6e7da0"
   },
   "outputs": [
    {
     "name": "stdout",
     "output_type": "stream",
     "text": [
      "Test [2, 3, 6]\n",
      "  The program prints 1 lines as expected.\n",
      " Line 0\n",
      "  Expected and actual output match: 11\n",
      "\n",
      "Test PASSED!\n"
     ]
    }
   ],
   "source": [
    "#@title TEST 2+3+6 = 11\n",
    "inputs=[2,3,6]\n",
    "expected_outputs=[\"11\"]\n",
    "run_and_test(inputs,expected_outputs,asgn02_01Sum_of_three_numbers)"
   ]
  },
  {
   "cell_type": "code",
   "execution_count": 6,
   "metadata": {
    "colab": {
     "base_uri": "https://localhost:8080/"
    },
    "id": "02HR_6LG7k5L",
    "outputId": "1fa8bd86-19e0-4d3e-f2b2-5f27a2f1cffc"
   },
   "outputs": [
    {
     "name": "stdout",
     "output_type": "stream",
     "text": [
      "Test [0, 300, 20]\n",
      "  The program prints 1 lines as expected.\n",
      " Line 0\n",
      "  Expected and actual output match: 320\n",
      "\n",
      "Test PASSED!\n"
     ]
    }
   ],
   "source": [
    "#@title TEST 0+300+20 = 320\n",
    "inputs=[0,300,20]\n",
    "expected_outputs=[\"320\"]\n",
    "run_and_test(inputs,expected_outputs,asgn02_01Sum_of_three_numbers)"
   ]
  },
  {
   "cell_type": "markdown",
   "metadata": {
    "id": "1JMDln-vIKRB"
   },
   "source": [
    "# Assignment 02.02: Area of right triangle\n",
    "## Statement\n",
    "\n",
    "Write a program that reads the length of the base and the height of a right-angled triangle and prints the area. Every number is given on a separate line.\n",
    "\n",
    " \n",
    "\n",
    "## Example input\n",
    "\n",
    "```\n",
    "3\n",
    "5\n",
    "```\n",
    "\n",
    "## Example output\n",
    "\n",
    "```\n",
    "7.5\n",
    "```\n",
    "\n",
    "## Hints\n",
    "\n",
    "In class we have seen how to read numbers and how to compute arithmetic expressions. \n",
    "\n",
    "Just provide the code to read the necessary input and to compute the required expression."
   ]
  },
  {
   "cell_type": "markdown",
   "metadata": {
    "id": "IROCYUDQb0t7"
   },
   "source": [
    "## Write your solution here\n",
    "\n",
    "\n",
    "*   Do not change the first line (`def ...():`)\n",
    "*   Maintain the given indentation\n",
    "*   You can run some tests by yourself by decommenting the last line\n",
    "\n"
   ]
  },
  {
   "cell_type": "code",
   "execution_count": 7,
   "metadata": {
    "id": "QtPMkR0aJRYv"
   },
   "outputs": [],
   "source": [
    "def asgn02_02Area_of_right_triangle():\n",
    "#     # Read the numbers b and h like this:\n",
    "#     b = int(input())\n",
    "\n",
    "#     # Print the result with print()\n",
    "#     print('ciao')\n",
    "\n",
    "\n",
    "    b = int(input())\n",
    "    h = int(input())\n",
    "    print(b*h/2)\n",
    "    \n",
    "#You can test independently your solution by executing the following line\n",
    "#asgn02_02Area_of_right_triangle()"
   ]
  },
  {
   "cell_type": "markdown",
   "metadata": {
    "id": "HcoyoBpScQ7f"
   },
   "source": [
    "## Run the following cells to perform the provided tests"
   ]
  },
  {
   "cell_type": "code",
   "execution_count": 8,
   "metadata": {
    "colab": {
     "base_uri": "https://localhost:8080/"
    },
    "id": "eSTVUwPMJiEZ",
    "outputId": "8d3b1217-2345-4e7b-b9b7-28002118956a"
   },
   "outputs": [
    {
     "name": "stdout",
     "output_type": "stream",
     "text": [
      "Test [0, 0]\n",
      "  The program prints 1 lines as expected.\n",
      " Line 0\n",
      "  Expected and actual output match: 0.0\n",
      "\n",
      "Test PASSED!\n"
     ]
    }
   ],
   "source": [
    "#@title TEST 0,0 = 0\n",
    "inputs=[0,0]\n",
    "expected_outputs=[\"0.0\"]\n",
    "run_and_test(inputs,expected_outputs,asgn02_02Area_of_right_triangle)"
   ]
  },
  {
   "cell_type": "code",
   "execution_count": 9,
   "metadata": {
    "colab": {
     "base_uri": "https://localhost:8080/"
    },
    "id": "ME2o6MJrKMLG",
    "outputId": "d475121f-4296-437c-afb6-ae742aab8492"
   },
   "outputs": [
    {
     "name": "stdout",
     "output_type": "stream",
     "text": [
      "Test [3, 5]\n",
      "  The program prints 1 lines as expected.\n",
      " Line 0\n",
      "  Expected and actual output match: 7.5\n",
      "\n",
      "Test PASSED!\n"
     ]
    }
   ],
   "source": [
    "#@title TEST 3,5 = 7.5\n",
    "inputs=[3,5]\n",
    "expected_outputs=[\"7.5\"]\n",
    "run_and_test(inputs,expected_outputs,asgn02_02Area_of_right_triangle)"
   ]
  },
  {
   "cell_type": "code",
   "execution_count": 10,
   "metadata": {
    "colab": {
     "base_uri": "https://localhost:8080/"
    },
    "id": "qZ1uJ3emKhWp",
    "outputId": "4c032a6a-2d15-4488-9381-2e989749dc5a"
   },
   "outputs": [
    {
     "name": "stdout",
     "output_type": "stream",
     "text": [
      "Test [10, 2]\n",
      "  The program prints 1 lines as expected.\n",
      " Line 0\n",
      "  Expected and actual output match: 10.0\n",
      "\n",
      "Test PASSED!\n"
     ]
    }
   ],
   "source": [
    "#@title TEST 10,2 = 10.0\n",
    "inputs=[10,2]\n",
    "expected_outputs=[\"10.0\"]\n",
    "run_and_test(inputs,expected_outputs,asgn02_02Area_of_right_triangle)"
   ]
  },
  {
   "cell_type": "code",
   "execution_count": 11,
   "metadata": {
    "colab": {
     "base_uri": "https://localhost:8080/"
    },
    "id": "S8R4dZGOKteq",
    "outputId": "5f073b69-4235-4b26-f1b0-656a33156b71"
   },
   "outputs": [
    {
     "name": "stdout",
     "output_type": "stream",
     "text": [
      "Test [10, 2]\n",
      "  The program prints 1 lines as expected.\n",
      " Line 0\n",
      "  Expected and actual output match: 10.0\n",
      "\n",
      "Test PASSED!\n"
     ]
    }
   ],
   "source": [
    "#@title TEST 179,1534 = 137293.0\n",
    "inputs=[10,2]\n",
    "expected_outputs=[\"10.0\"]\n",
    "run_and_test(inputs,expected_outputs,asgn02_02Area_of_right_triangle)"
   ]
  },
  {
   "cell_type": "code",
   "execution_count": 12,
   "metadata": {
    "colab": {
     "base_uri": "https://localhost:8080/"
    },
    "id": "ic7DAgMoKz6E",
    "outputId": "24ff9eee-d524-4fdd-854e-3e05b5915e91"
   },
   "outputs": [
    {
     "name": "stdout",
     "output_type": "stream",
     "text": [
      "Test [1543, 57]\n",
      "  The program prints 1 lines as expected.\n",
      " Line 0\n",
      "  Expected and actual output match: 43975.5\n",
      "\n",
      "Test PASSED!\n"
     ]
    }
   ],
   "source": [
    "#@title TEST 1543,57 = 43975.5\n",
    "inputs=[1543,57]\n",
    "expected_outputs=[\"43975.5\"]\n",
    "run_and_test(inputs,expected_outputs,asgn02_02Area_of_right_triangle)"
   ]
  },
  {
   "cell_type": "markdown",
   "metadata": {
    "id": "CvRjQW_ITQ8T"
   },
   "source": [
    "# Assignment 02.03: Apple Sharing\n",
    "## Statement\n",
    "\n",
    "`Ns` students take `Na` apples and distribute them among each other evenly. \n",
    "\n",
    "The students do not have knives, therefore only whole apples can be distributed. The remaining (the indivisible) part remains in the basket. \n",
    "\n",
    "- How many apples will every student get? \n",
    "- How many apples will remain in the basket?\n",
    "\n",
    "Write a program that reads the numbers `Ns` and `Na` given in two lines. \n",
    "\n",
    "The program should print the answers to the questions above in two lines.\n",
    "\n",
    "\n",
    "## Example input\n",
    "\n",
    "```\n",
    "6\n",
    "50\n",
    "```\n",
    "\n",
    "## Example output\n",
    "\n",
    "```\n",
    "8\n",
    "2\n",
    "```\n",
    "\n",
    "This is because 50 over 6 is 8 with the remainder of 2.\n",
    "\n"
   ]
  },
  {
   "cell_type": "markdown",
   "metadata": {
    "id": "Lr-UYAK6b18z"
   },
   "source": [
    "## Write your solution here\n",
    "\n",
    "\n",
    "*   Do not change the first line (`def ...():`)\n",
    "*   Maintain the given indentation\n",
    "*   You can run some tests by yourself by decommenting the last line\n",
    "\n"
   ]
  },
  {
   "cell_type": "code",
   "execution_count": 13,
   "metadata": {
    "id": "ghJWGiEPUD9v"
   },
   "outputs": [],
   "source": [
    "def asgn02_03Apple_sharing():\n",
    "#     # Read the numbers like this:\n",
    "#     Ns = int(input())\n",
    "\n",
    "#     # Print the result with print()\n",
    "#     print(63 * 5)\n",
    "\n",
    "\n",
    "\n",
    "    Ns = int(input())\n",
    "    Na = int(input())\n",
    "    print(Na // Ns)\n",
    "    print(Na % Ns)\n",
    "    \n",
    "#You can test independently your solution by executing the following line\n",
    "#asgn02_03Apple_sharing()"
   ]
  },
  {
   "cell_type": "markdown",
   "metadata": {
    "id": "XJA5H0ULcVAM"
   },
   "source": [
    "## Run the following cells to perform the provided tests"
   ]
  },
  {
   "cell_type": "code",
   "execution_count": 14,
   "metadata": {
    "colab": {
     "base_uri": "https://localhost:8080/"
    },
    "id": "Gzq6fN8PUD9w",
    "outputId": "37690422-18d4-45b2-ae17-41f1bd734892"
   },
   "outputs": [
    {
     "name": "stdout",
     "output_type": "stream",
     "text": [
      "Test [6, 50]\n",
      "  The program prints 2 lines as expected.\n",
      " Line 0\n",
      "  Expected and actual output match: 8\n",
      "\n",
      " Line 1\n",
      "  Expected and actual output match: 2\n",
      "\n",
      "Test PASSED!\n"
     ]
    }
   ],
   "source": [
    "#@title TEST 6,50 = 8,2\n",
    "inputs=[6,50]\n",
    "expected_outputs=[\"8\",\"2\"]\n",
    "run_and_test(inputs,expected_outputs,asgn02_03Apple_sharing)"
   ]
  },
  {
   "cell_type": "code",
   "execution_count": 15,
   "metadata": {
    "colab": {
     "base_uri": "https://localhost:8080/"
    },
    "id": "ZCq6WA6rVe4A",
    "outputId": "3947196b-52bf-4414-deeb-0721e2c35060"
   },
   "outputs": [
    {
     "name": "stdout",
     "output_type": "stream",
     "text": [
      "Test [1, 10]\n",
      "  The program prints 2 lines as expected.\n",
      " Line 0\n",
      "  Expected and actual output match: 10\n",
      "\n",
      " Line 1\n",
      "  Expected and actual output match: 0\n",
      "\n",
      "Test PASSED!\n"
     ]
    }
   ],
   "source": [
    "#@title TEST 1,10 = 10,0\n",
    "inputs=[1,10]\n",
    "expected_outputs=[\"10\",\"0\"]\n",
    "run_and_test(inputs,expected_outputs,asgn02_03Apple_sharing)"
   ]
  },
  {
   "cell_type": "code",
   "execution_count": 16,
   "metadata": {
    "colab": {
     "base_uri": "https://localhost:8080/"
    },
    "id": "pe9OnWXDVqVW",
    "outputId": "da0f408d-bdf5-4cb2-903f-aa8ea2767716"
   },
   "outputs": [
    {
     "name": "stdout",
     "output_type": "stream",
     "text": [
      "Test [5, 25]\n",
      "  The program prints 2 lines as expected.\n",
      " Line 0\n",
      "  Expected and actual output match: 5\n",
      "\n",
      " Line 1\n",
      "  Expected and actual output match: 0\n",
      "\n",
      "Test PASSED!\n"
     ]
    }
   ],
   "source": [
    "#@title TEST 5,25 = 5,0\n",
    "inputs=[5,25]\n",
    "expected_outputs=[\"5\",\"0\"]\n",
    "run_and_test(inputs,expected_outputs,asgn02_03Apple_sharing)"
   ]
  },
  {
   "cell_type": "code",
   "execution_count": 17,
   "metadata": {
    "colab": {
     "base_uri": "https://localhost:8080/"
    },
    "id": "FgUMiQtQV4tI",
    "outputId": "6485577e-b6ea-4c53-de17-0db25d51ef6d"
   },
   "outputs": [
    {
     "name": "stdout",
     "output_type": "stream",
     "text": [
      "Test [4, 2]\n",
      "  The program prints 2 lines as expected.\n",
      " Line 0\n",
      "  Expected and actual output match: 0\n",
      "\n",
      " Line 1\n",
      "  Expected and actual output match: 2\n",
      "\n",
      "Test PASSED!\n"
     ]
    }
   ],
   "source": [
    "#@title TEST 4,2 = 0,2\n",
    "inputs=[4,2]\n",
    "expected_outputs=[\"0\",\"2\"]\n",
    "run_and_test(inputs,expected_outputs,asgn02_03Apple_sharing)"
   ]
  },
  {
   "cell_type": "code",
   "execution_count": 18,
   "metadata": {
    "colab": {
     "base_uri": "https://localhost:8080/"
    },
    "id": "D5fzJ9eQWA4X",
    "outputId": "e05aae62-248c-4379-82ca-22eca76b720c"
   },
   "outputs": [
    {
     "name": "stdout",
     "output_type": "stream",
     "text": [
      "Test [4, 17]\n",
      "  The program prints 2 lines as expected.\n",
      " Line 0\n",
      "  Expected and actual output match: 4\n",
      "\n",
      " Line 1\n",
      "  Expected and actual output match: 1\n",
      "\n",
      "Test PASSED!\n"
     ]
    }
   ],
   "source": [
    "#@title TEST 4,17 = 4,1\n",
    "inputs=[4,17]\n",
    "expected_outputs=[\"4\",\"1\"]\n",
    "run_and_test(inputs,expected_outputs,asgn02_03Apple_sharing)"
   ]
  },
  {
   "cell_type": "markdown",
   "metadata": {
    "id": "vp1gh0-oW_Uz"
   },
   "source": [
    "# Assignment 02.04: Two Timestamps\n",
    "## Statement\n",
    "\n",
    "A timestamp consists of 3 integer numbers: \n",
    "\n",
    " hours\n",
    "\n",
    " minutes\n",
    "\n",
    " seconds\n",
    "\n",
    "Given two timestamps, we are interested in computing how much time passed between the two.\n",
    "\n",
    "Write a program that reads two timestamps, written in 3 lines each, and computes how many seconds passed between them. The computed elapsed seconds should be print on console.\n",
    "\n",
    "## Example input #1\n",
    "\n",
    "```\n",
    "1\n",
    "```\n",
    "\n",
    "```\n",
    "1\n",
    "```\n",
    "\n",
    "```\n",
    "1\n",
    "```\n",
    "\n",
    "```\n",
    "1\n",
    "```\n",
    "\n",
    "```\n",
    "1\n",
    "```\n",
    "\n",
    "```\n",
    "2\n",
    "```\n",
    "\n",
    "## Example output #1\n",
    "\n",
    "```\n",
    "1\n",
    "```\n",
    "\n",
    "In fact, the first timestamp reads '1 hour, 1 minute, 1 second', while the second reads '1 hour, 1 minute, 2 seconds'\n",
    "\n",
    "## Example input #2\n",
    "\n",
    "```\n",
    "1\n",
    "```\n",
    "\n",
    "```\n",
    "1\n",
    "```\n",
    "\n",
    "```\n",
    "1\n",
    "```\n",
    "\n",
    "```\n",
    "1\n",
    "```\n",
    "\n",
    "```\n",
    "2\n",
    "```\n",
    "\n",
    "```\n",
    "1\n",
    "```\n",
    "\n",
    "## Example output #2\n",
    "\n",
    "```\n",
    "60\n",
    "```\n",
    "\n",
    "In fact, the first timestamp reads '1 hour, 1 minute, 1 second', while the second reads '1 hour, 2 minutes, 1 seconds'. Therefore 1 minute passed\n",
    "\n",
    "## Example input #3\n",
    "\n",
    "```\n",
    "1\n",
    "```\n",
    "\n",
    "```\n",
    "1\n",
    "```\n",
    "\n",
    "```\n",
    "1\n",
    "```\n",
    "\n",
    "```\n",
    "2\n",
    "```\n",
    "\n",
    "```\n",
    "2\n",
    "```\n",
    "\n",
    "```\n",
    "2\n",
    "```\n",
    "\n",
    "## Example output #3\n",
    "\n",
    "```\n",
    "3661\n",
    "```\n",
    "\n",
    "## Example input #4\n",
    "\n",
    "```\n",
    "1\n",
    "```\n",
    "\n",
    "```\n",
    "2\n",
    "```\n",
    "\n",
    "```\n",
    "30\n",
    "```\n",
    "\n",
    "```\n",
    "1\n",
    "```\n",
    "\n",
    "```\n",
    "3\n",
    "```\n",
    "\n",
    "```\n",
    "20\n",
    "```\n",
    "\n",
    "## Example output #4\n",
    "\n",
    "```\n",
    "50\n",
    "```\n",
    "\n",
    "## Hints\n",
    "\n",
    "This assignment is about reading 2 timestamps (therefore 6 integers), converting each timestamp in seconds, and printing their difference. \n",
    "\n"
   ]
  },
  {
   "cell_type": "markdown",
   "metadata": {
    "id": "yxSBbjLHb3oD"
   },
   "source": [
    "## Write your solution here\n",
    "\n",
    "\n",
    "*   Do not change the first line (`def ...():`)\n",
    "*   Maintain the given indentation\n",
    "*   You can run some tests by yourself by decommenting the last line\n",
    "\n"
   ]
  },
  {
   "cell_type": "code",
   "execution_count": 19,
   "metadata": {
    "id": "JJGLyJRHXpUj"
   },
   "outputs": [],
   "source": [
    "def asgn02_04Two_timestamps():\n",
    "    # Read an integer:\n",
    "    # a = int(input())\n",
    "    # Print a value:\n",
    "    # print(a)\n",
    "\n",
    "\n",
    "    hours_1 = int(input())\n",
    "    minutes_1 = int(input())\n",
    "    seconds_1 = int(input())\n",
    "\n",
    "    hours_2 = int(input())\n",
    "    minutes_2 = int(input())\n",
    "    seconds_2 = int(input())\n",
    "\n",
    "    print((hours_2 - hours_1) * 3600 +\n",
    "         (minutes_2 - minutes_1) * 60 +\n",
    "         seconds_2 - seconds_1)\n",
    "    \n",
    "#You can test independently your solution by executing the following line\n",
    "#asgn02_04Two_timestamps()"
   ]
  },
  {
   "cell_type": "markdown",
   "metadata": {
    "id": "1h-DDMvJcZLw"
   },
   "source": [
    "## Run the following cells to perform the provided tests"
   ]
  },
  {
   "cell_type": "code",
   "execution_count": 20,
   "metadata": {
    "colab": {
     "base_uri": "https://localhost:8080/"
    },
    "id": "vAel6Dc_Xhoq",
    "outputId": "47cabeba-abcc-4d9c-f3da-ffcd6dc4eec6"
   },
   "outputs": [
    {
     "name": "stdout",
     "output_type": "stream",
     "text": [
      "Test [1, 1, 1, 1, 1, 2]\n",
      "  The program prints 1 lines as expected.\n",
      " Line 0\n",
      "  Expected and actual output match: 1\n",
      "\n",
      "Test PASSED!\n"
     ]
    }
   ],
   "source": [
    "#@title TEST 0\n",
    "inputs=[1,1,1,1,1,2]\n",
    "expected_outputs=[\"1\"]\n",
    "run_and_test(inputs,expected_outputs,asgn02_04Two_timestamps)"
   ]
  },
  {
   "cell_type": "code",
   "execution_count": 21,
   "metadata": {
    "colab": {
     "base_uri": "https://localhost:8080/"
    },
    "id": "k2bqAAu0YxdI",
    "outputId": "3afdff3e-b077-499f-8124-b55dac6a2688"
   },
   "outputs": [
    {
     "name": "stdout",
     "output_type": "stream",
     "text": [
      "Test [1, 1, 1, 2, 2, 2]\n",
      "  The program prints 1 lines as expected.\n",
      " Line 0\n",
      "  Expected and actual output match: 3661\n",
      "\n",
      "Test PASSED!\n"
     ]
    }
   ],
   "source": [
    "#@title TEST 1\n",
    "inputs=[1,1,1,2,2,2]\n",
    "expected_outputs=[\"3661\"]\n",
    "run_and_test(inputs,expected_outputs,asgn02_04Two_timestamps)"
   ]
  },
  {
   "cell_type": "code",
   "execution_count": 22,
   "metadata": {
    "colab": {
     "base_uri": "https://localhost:8080/"
    },
    "id": "igHF80ceYx0P",
    "outputId": "e5f8273c-3423-4cc3-9f01-a9eb87e4c193"
   },
   "outputs": [
    {
     "name": "stdout",
     "output_type": "stream",
     "text": [
      "Test [1, 2, 30, 1, 3, 20]\n",
      "  The program prints 1 lines as expected.\n",
      " Line 0\n",
      "  Expected and actual output match: 50\n",
      "\n",
      "Test PASSED!\n"
     ]
    }
   ],
   "source": [
    "#@title TEST 2\n",
    "inputs=[1,2,30,1,3,20]\n",
    "expected_outputs=[\"50\"]\n",
    "run_and_test(inputs,expected_outputs,asgn02_04Two_timestamps)"
   ]
  },
  {
   "cell_type": "code",
   "execution_count": 23,
   "metadata": {
    "colab": {
     "base_uri": "https://localhost:8080/"
    },
    "id": "YsH0kUY4Yx86",
    "outputId": "a835c061-fe75-4b41-b2e4-7b9c4f992e1f"
   },
   "outputs": [
    {
     "name": "stdout",
     "output_type": "stream",
     "text": [
      "Test [6, 54, 4, 14, 18, 42]\n",
      "  The program prints 1 lines as expected.\n",
      " Line 0\n",
      "  Expected and actual output match: 26678\n",
      "\n",
      "Test PASSED!\n"
     ]
    }
   ],
   "source": [
    "#@title TEST 3\n",
    "inputs=[6,54,4,14,18,42]\n",
    "expected_outputs=[\"26678\"]\n",
    "run_and_test(inputs,expected_outputs,asgn02_04Two_timestamps)"
   ]
  },
  {
   "cell_type": "code",
   "execution_count": 24,
   "metadata": {
    "colab": {
     "base_uri": "https://localhost:8080/"
    },
    "id": "YE9hLL4eYyE_",
    "outputId": "30d6303a-393b-4476-a49a-bedc5a2084ef"
   },
   "outputs": [
    {
     "name": "stdout",
     "output_type": "stream",
     "text": [
      "Test [1, 49, 28, 14, 7, 55]\n",
      "  The program prints 1 lines as expected.\n",
      " Line 0\n",
      "  Expected and actual output match: 44307\n",
      "\n",
      "Test PASSED!\n"
     ]
    }
   ],
   "source": [
    "#@title TEST 4\n",
    "inputs=[1,49,28,14,7,55]\n",
    "expected_outputs=[\"44307\"]\n",
    "run_and_test(inputs,expected_outputs,asgn02_04Two_timestamps)"
   ]
  },
  {
   "cell_type": "code",
   "execution_count": 25,
   "metadata": {
    "colab": {
     "base_uri": "https://localhost:8080/"
    },
    "id": "eBqa7zeMY2pF",
    "outputId": "7c8b3c32-4700-4d46-b92b-441c39be4ab4"
   },
   "outputs": [
    {
     "name": "stdout",
     "output_type": "stream",
     "text": [
      "Test [4, 16, 9, 12, 6, 7]\n",
      "  The program prints 1 lines as expected.\n",
      " Line 0\n",
      "  Expected and actual output match: 28198\n",
      "\n",
      "Test PASSED!\n"
     ]
    }
   ],
   "source": [
    "#@title TEST 5\n",
    "inputs=[4,16,9,12,6,7]\n",
    "expected_outputs=[\"28198\"]\n",
    "run_and_test(inputs,expected_outputs,asgn02_04Two_timestamps)"
   ]
  },
  {
   "cell_type": "code",
   "execution_count": 26,
   "metadata": {
    "colab": {
     "base_uri": "https://localhost:8080/"
    },
    "id": "A3_Oj_LEY24e",
    "outputId": "23597bff-c140-4391-8437-469305ac9f0f"
   },
   "outputs": [
    {
     "name": "stdout",
     "output_type": "stream",
     "text": [
      "Test [5, 13, 38, 5, 13, 38]\n",
      "  The program prints 1 lines as expected.\n",
      " Line 0\n",
      "  Expected and actual output match: 0\n",
      "\n",
      "Test PASSED!\n"
     ]
    }
   ],
   "source": [
    "#@title TEST 6\n",
    "inputs=[5,13,38,5,13,38]\n",
    "expected_outputs=[\"0\"]\n",
    "run_and_test(inputs,expected_outputs,asgn02_04Two_timestamps)"
   ]
  },
  {
   "cell_type": "markdown",
   "metadata": {
    "id": "OnrjmucdZwi7"
   },
   "source": [
    "# Assignment 02.05: Playing with strings\n",
    "## Statement\n",
    "\n",
    "You are given a string containing at least 5 characters.\n",
    "\n",
    "1. In the first line, print the third character of this string.\n",
    "2. In the second line, print the second to last character of this string (the second-last).\n",
    "3. In the third line, print the first five characters of this string.\n",
    "4. In the fourth line, print all but the last two characters of this string.\n",
    "5. In the fifth line, print the word with all characters in upper-case\n",
    "6. In the sixth line, print the word with all characters in lower-case\n",
    "7. In the eigth line, print the length of the given string.\n",
    "\n",
    "## Example input\n",
    "\n",
    "```\n",
    "Abrakadabra\n",
    "```\n",
    "\n",
    "## Example output\n",
    "\n",
    "```\n",
    "r\n",
    "r\n",
    "Abrak\n",
    "Abrakadab\n",
    "```\n",
    "\n",
    "```\n",
    "ABRAKADABRA\n",
    "```\n",
    "\n",
    "```\n",
    "abrakadabra\n",
    "11\n",
    "```\n",
    "\n",
    "## Hints\n",
    "\n",
    "In class we have seen how to perform all the required tasks. Review the used jupyter file. \n",
    "\n",
    "Remember: we start counting characters from 0 to len-1, where len is the length of the string."
   ]
  },
  {
   "cell_type": "markdown",
   "metadata": {
    "id": "BvlV5RRBcH1P"
   },
   "source": [
    "## Write your solution here\n",
    "\n",
    "\n",
    "*   Do not change the first line (`def ...():`)\n",
    "*   Maintain the given indentation\n",
    "*   You can run some tests by yourself by decommenting the last line\n",
    "\n"
   ]
  },
  {
   "cell_type": "code",
   "execution_count": 27,
   "metadata": {
    "id": "xAc9tpVkaEi7"
   },
   "outputs": [],
   "source": [
    "def asgn02_05Playing_with_strings():\n",
    "    # Read a string:\n",
    "    # s = input()\n",
    "    # Print a string:\n",
    "    # print(s)\n",
    "\n",
    "    s = input()\n",
    "    print(s[2])\n",
    "    print(s[-2])\n",
    "    print(s[:5])\n",
    "    print(s[:-2])\n",
    "    print(s.upper())\n",
    "    print(s.lower())\n",
    "    print(len(s))\n",
    "\n",
    "    \n",
    "#You can test independently your solution by executing the following line\n",
    "#asgn02_05Playing_with_strings()"
   ]
  },
  {
   "cell_type": "markdown",
   "metadata": {
    "id": "6woM9-0Rcbn-"
   },
   "source": [
    "## Run the following cells to perform the provided tests"
   ]
  },
  {
   "cell_type": "code",
   "execution_count": 28,
   "metadata": {
    "colab": {
     "base_uri": "https://localhost:8080/"
    },
    "id": "YYuh9o1HaYjz",
    "outputId": "bc8c8722-5a07-4ca2-90b9-6b6d78c7600a"
   },
   "outputs": [
    {
     "name": "stdout",
     "output_type": "stream",
     "text": [
      "Test ['Abrakadabra']\n",
      "  The program prints 7 lines as expected.\n",
      " Line 0\n",
      "  Expected and actual output match: r\n",
      "\n",
      " Line 1\n",
      "  Expected and actual output match: r\n",
      "\n",
      " Line 2\n",
      "  Expected and actual output match: Abrak\n",
      "\n",
      " Line 3\n",
      "  Expected and actual output match: Abrakadab\n",
      "\n",
      " Line 4\n",
      "  Expected and actual output match: ABRAKADABRA\n",
      "\n",
      " Line 5\n",
      "  Expected and actual output match: abrakadabra\n",
      "\n",
      " Line 6\n",
      "  Expected and actual output match: 11\n",
      "\n",
      "Test PASSED!\n"
     ]
    }
   ],
   "source": [
    "#@title TEST Abrakadabra\n",
    "inputs=[\"Abrakadabra\"]\n",
    "expected_outputs=[\"r\",\"r\",\"Abrak\",\"Abrakadab\",\"ABRAKADABRA\",\"abrakadabra\",\"11\"]\n",
    "run_and_test(inputs,expected_outputs,asgn02_05Playing_with_strings)"
   ]
  },
  {
   "cell_type": "code",
   "execution_count": 29,
   "metadata": {
    "colab": {
     "base_uri": "https://localhost:8080/"
    },
    "id": "BvimtzlLcK3m",
    "outputId": "1c012f4e-d0db-4ae9-f015-ab546865f612"
   },
   "outputs": [
    {
     "name": "stdout",
     "output_type": "stream",
     "text": [
      "Test ['Hello']\n",
      "  The program prints 7 lines as expected.\n",
      " Line 0\n",
      "  Expected and actual output match: l\n",
      "\n",
      " Line 1\n",
      "  Expected and actual output match: l\n",
      "\n",
      " Line 2\n",
      "  Expected and actual output match: Hello\n",
      "\n",
      " Line 3\n",
      "  Expected and actual output match: Hel\n",
      "\n",
      " Line 4\n",
      "  Expected and actual output match: HELLO\n",
      "\n",
      " Line 5\n",
      "  Expected and actual output match: hello\n",
      "\n",
      " Line 6\n",
      "  Expected and actual output match: 5\n",
      "\n",
      "Test PASSED!\n"
     ]
    }
   ],
   "source": [
    "#@title TEST Hello\n",
    "inputs=[\"Hello\"]\n",
    "expected_outputs=[\"l\",\"l\",\"Hello\",\"Hel\",\"HELLO\",\"hello\",\"5\"]\n",
    "run_and_test(inputs,expected_outputs,asgn02_05Playing_with_strings)"
   ]
  },
  {
   "cell_type": "code",
   "execution_count": 30,
   "metadata": {
    "colab": {
     "base_uri": "https://localhost:8080/"
    },
    "id": "PC3pS25ecWFA",
    "outputId": "67fae7fb-a056-48b0-dec8-69ccaa36b4c8"
   },
   "outputs": [
    {
     "name": "stdout",
     "output_type": "stream",
     "text": [
      "Test ['qwertyuiop']\n",
      "  The program prints 7 lines as expected.\n",
      " Line 0\n",
      "  Expected and actual output match: e\n",
      "\n",
      " Line 1\n",
      "  Expected and actual output match: o\n",
      "\n",
      " Line 2\n",
      "  Expected and actual output match: qwert\n",
      "\n",
      " Line 3\n",
      "  Expected and actual output match: qwertyui\n",
      "\n",
      " Line 4\n",
      "  Expected and actual output match: QWERTYUIOP\n",
      "\n",
      " Line 5\n",
      "  Expected and actual output match: qwertyuiop\n",
      "\n",
      " Line 6\n",
      "  Expected and actual output match: 10\n",
      "\n",
      "Test PASSED!\n"
     ]
    }
   ],
   "source": [
    "#@title TEST qwertyuiop\n",
    "inputs=[\"qwertyuiop\"]\n",
    "expected_outputs=[\"e\",\"o\",\"qwert\",\"qwertyui\",\"QWERTYUIOP\",\"qwertyuiop\",\"10\"]\n",
    "run_and_test(inputs,expected_outputs,asgn02_05Playing_with_strings)"
   ]
  },
  {
   "cell_type": "code",
   "execution_count": 31,
   "metadata": {
    "colab": {
     "base_uri": "https://localhost:8080/"
    },
    "id": "ZiPEVhLScj5n",
    "outputId": "9d173ce0-1ffa-4193-cf21-b1ee159663a5"
   },
   "outputs": [
    {
     "name": "stdout",
     "output_type": "stream",
     "text": [
      "Test ['asdfghjklzxcv']\n",
      "  The program prints 7 lines as expected.\n",
      " Line 0\n",
      "  Expected and actual output match: d\n",
      "\n",
      " Line 1\n",
      "  Expected and actual output match: c\n",
      "\n",
      " Line 2\n",
      "  Expected and actual output match: asdfg\n",
      "\n",
      " Line 3\n",
      "  Expected and actual output match: asdfghjklzx\n",
      "\n",
      " Line 4\n",
      "  Expected and actual output match: ASDFGHJKLZXCV\n",
      "\n",
      " Line 5\n",
      "  Expected and actual output match: asdfghjklzxcv\n",
      "\n",
      " Line 6\n",
      "  Expected and actual output match: 13\n",
      "\n",
      "Test PASSED!\n"
     ]
    }
   ],
   "source": [
    "#@title TEST qwertyuiop\n",
    "inputs=[\"asdfghjklzxcv\"]\n",
    "expected_outputs=[\"d\",\"c\",\"asdfg\",\"asdfghjklzx\",\"ASDFGHJKLZXCV\",\"asdfghjklzxcv\",\"13\"]\n",
    "run_and_test(inputs,expected_outputs,asgn02_05Playing_with_strings)"
   ]
  },
  {
   "cell_type": "markdown",
   "metadata": {
    "id": "0pSB8beac4Xm"
   },
   "source": [
    "# Assignment 02.06: Playing with strings\n",
    "## Statement\n",
    "\n",
    "Write a program that takes three characters, one per line. \n",
    "\n",
    "If the character is `'T'`, it is interpreted as True, otherwise, it is interpreted as `'False'`. \n",
    "\n",
    "The program should print the number of `True` values taken in input. \n",
    "\n",
    "## Example input\n",
    "\n",
    "```\n",
    "T\n",
    "F\n",
    "T\n",
    "```\n",
    "\n",
    "## Example output\n",
    "\n",
    "```\n",
    "2\n",
    "```\n",
    "\n",
    "## Hint\n",
    "\n",
    "Divide the problem into sub-tasks:\n",
    "\n",
    "- Read the three characters in input and store them in three variables\n",
    "- For each input, create a variable that takes Boolean value `True` if that input is `'T'`, or `False` otherwise. In class, we have seen how to compare strings\n",
    "- A Boolean value can be cast to an integer. In particular, `True` is cast to 1, while `False` to 0.\n",
    "- Counting the number of `'T'` in input, therefore, can be computed by summing the so-computed integer values.\n"
   ]
  },
  {
   "cell_type": "markdown",
   "metadata": {
    "id": "5_84W_h-cJRx"
   },
   "source": [
    "## Write your solution here\n",
    "\n",
    "\n",
    "*   Do not change the first line (`def ...():`)\n",
    "*   Maintain the given indentation\n",
    "*   You can run some tests by yourself by decommenting the last line\n",
    "\n"
   ]
  },
  {
   "cell_type": "code",
   "execution_count": 32,
   "metadata": {
    "id": "LIkE17KFc4Xn"
   },
   "outputs": [],
   "source": [
    "def asgn02_06String_bool_int():\n",
    "    # #Read a character\n",
    "    # char1 = input()\n",
    "    # #\n",
    "    # bool1 = char1 == 'T'\n",
    "\n",
    "    #Read the characters\n",
    "    char1 = input()\n",
    "    char2 = input()\n",
    "    char3 = input()\n",
    "\n",
    "    #Compute the 3 Booleans\n",
    "    bool1 = char1=='T'\n",
    "    bool2 = char2=='T'\n",
    "    bool3 = char3=='T'\n",
    "\n",
    "    #print(bool1+bool2+bool3)\n",
    "\n",
    "    #Cast them to integers\n",
    "    int1 = int(bool1)\n",
    "    int2 = int(bool2)\n",
    "    int3 = int(bool3)\n",
    "\n",
    "    #Print like this\n",
    "    print(int1+int2+int3)\n",
    "\n",
    "    \n",
    "#You can test independently your solution by executing the following line\n",
    "#asgn02_06String_bool_int()"
   ]
  },
  {
   "cell_type": "markdown",
   "metadata": {
    "id": "qnv06zUncecI"
   },
   "source": [
    "## Run the following cells to perform the provided tests"
   ]
  },
  {
   "cell_type": "code",
   "execution_count": 33,
   "metadata": {
    "colab": {
     "base_uri": "https://localhost:8080/"
    },
    "id": "i1OwCQmNdzum",
    "outputId": "1fbe1c74-bae8-462a-fdae-f34a136279cc"
   },
   "outputs": [
    {
     "name": "stdout",
     "output_type": "stream",
     "text": [
      "Test ['F', 'F', 'F']\n",
      "  The program prints 1 lines as expected.\n",
      " Line 0\n",
      "  Expected and actual output match: 0\n",
      "\n",
      "Test PASSED!\n"
     ]
    }
   ],
   "source": [
    "#@title TEST FFF\n",
    "inputs=[\"F\",\"F\",\"F\"]\n",
    "expected_outputs=[\"0\"]\n",
    "run_and_test(inputs,expected_outputs,asgn02_06String_bool_int)"
   ]
  },
  {
   "cell_type": "code",
   "execution_count": 34,
   "metadata": {
    "colab": {
     "base_uri": "https://localhost:8080/"
    },
    "id": "H5YbLHwseuB-",
    "outputId": "c2ca0eaf-ff17-4fef-de0d-35553cd7ed9b"
   },
   "outputs": [
    {
     "name": "stdout",
     "output_type": "stream",
     "text": [
      "Test ['T', 'F', 'F']\n",
      "  The program prints 1 lines as expected.\n",
      " Line 0\n",
      "  Expected and actual output match: 1\n",
      "\n",
      "Test PASSED!\n"
     ]
    }
   ],
   "source": [
    "#@title TEST TFF\n",
    "inputs=[\"T\",\"F\",\"F\"]\n",
    "expected_outputs=[\"1\"]\n",
    "run_and_test(inputs,expected_outputs,asgn02_06String_bool_int)"
   ]
  },
  {
   "cell_type": "code",
   "execution_count": 35,
   "metadata": {
    "colab": {
     "base_uri": "https://localhost:8080/"
    },
    "id": "tk1R_EF1e_g2",
    "outputId": "974ef25e-c41d-482e-a273-be9fe566e128"
   },
   "outputs": [
    {
     "name": "stdout",
     "output_type": "stream",
     "text": [
      "Test ['T', 'T', 'F']\n",
      "  The program prints 1 lines as expected.\n",
      " Line 0\n",
      "  Expected and actual output match: 2\n",
      "\n",
      "Test PASSED!\n"
     ]
    }
   ],
   "source": [
    "#@title TEST TTF\n",
    "inputs=[\"T\",\"T\",\"F\"]\n",
    "expected_outputs=[\"2\"]\n",
    "run_and_test(inputs,expected_outputs,asgn02_06String_bool_int)"
   ]
  },
  {
   "cell_type": "code",
   "execution_count": 36,
   "metadata": {
    "colab": {
     "base_uri": "https://localhost:8080/"
    },
    "id": "IS-0ovZKfDKw",
    "outputId": "706c6340-6e82-4039-ff3a-ca1f00086e58"
   },
   "outputs": [
    {
     "name": "stdout",
     "output_type": "stream",
     "text": [
      "Test ['T', 'T', 'T']\n",
      "  The program prints 1 lines as expected.\n",
      " Line 0\n",
      "  Expected and actual output match: 3\n",
      "\n",
      "Test PASSED!\n"
     ]
    }
   ],
   "source": [
    "#@title TEST TTT\n",
    "inputs=[\"T\",\"T\",\"T\"]\n",
    "expected_outputs=[\"3\"]\n",
    "run_and_test(inputs,expected_outputs,asgn02_06String_bool_int)"
   ]
  }
 ],
 "metadata": {
  "colab": {
   "collapsed_sections": [],
   "name": "02DataTypesAndOperations_Assignments",
   "provenance": [],
   "toc_visible": true
  },
  "kernelspec": {
   "display_name": "Python 3",
   "language": "python",
   "name": "python3"
  },
  "language_info": {
   "codemirror_mode": {
    "name": "ipython",
    "version": 3
   },
   "file_extension": ".py",
   "mimetype": "text/x-python",
   "name": "python",
   "nbconvert_exporter": "python",
   "pygments_lexer": "ipython3",
   "version": "3.8.2"
  },
  "toc-autonumbering": true,
  "toc-showcode": false,
  "toc-showmarkdowntxt": false
 },
 "nbformat": 4,
 "nbformat_minor": 4
}
