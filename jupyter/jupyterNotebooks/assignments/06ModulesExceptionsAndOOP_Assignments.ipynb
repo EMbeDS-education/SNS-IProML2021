{
 "cells": [
  {
   "cell_type": "markdown",
   "metadata": {
    "id": "h5NGq0EV7k4-"
   },
   "source": [
    "<center><font size=\"+4\">Introduction to Programming and Machine Learning in Python 2020/2021</font></center>\n",
    "<center><font size=\"+2\">Scuola Normale Superiore, Pisa, Italy</font></center>\n",
    "\n",
    "<center><font size=\"+2\">Course responsibles</font></center>\n",
    "<center><font size=\"+2\">Andrea Vandin a.vandin@santannapisa.it</font></center>\n",
    "<center><font size=\"+2\">Daniele Licari d.licari@santannapisa.it</font></center>\n",
    "\n",
    "---"
   ]
  },
  {
   "cell_type": "markdown",
   "metadata": {
    "id": "PzTk_3lR7k5D"
   },
   "source": [
    "<center><font size=\"+4\">Assignments for</font></center>\n",
    "<center><font size=\"+4\">Lecture 6: Modules,</font></center>\n",
    "<center><font size=\"+4\"> Exceptions & OO Programming</font></center>\n",
    "\n",
    "---"
   ]
  },
  {
   "cell_type": "code",
   "execution_count": 49,
   "metadata": {
    "cellView": "form",
    "colab": {
     "base_uri": "https://localhost:8080/"
    },
    "id": "p666zbf89eCD",
    "outputId": "8f53eefb-4edb-47aa-c0ff-8d26f2e593d4"
   },
   "outputs": [],
   "source": [
    "#@title RUN, BUT DO NOT MODIFY\n",
    "!curl -O  https://raw.githubusercontent.com/EMbeDS-education/SNS-IProML2021/main/jupyter/jupyterNotebooks/assignments/auto_testing.py\n",
    "!curl -O  https://raw.githubusercontent.com/EMbeDS-education/SNS-IProML2021/main/jupyter/jupyterNotebooks/assignments/factorial.py\n",
    "!curl -O  https://raw.githubusercontent.com/EMbeDS-education/SNS-IProML2021/main/jupyter/jupyterNotebooks/assignments/factorial_exc.py\n",
    "!curl -O  https://raw.githubusercontent.com/EMbeDS-education/SNS-IProML2021/main/jupyter/jupyterNotebooks/assignments/file.txt\n",
    "%reload_ext autoreload\n",
    "%autoreload 2\n",
    "from auto_testing import *"
   ]
  },
  {
   "cell_type": "markdown",
   "metadata": {
    "id": "Om177ojl7k5J"
   },
   "source": [
    "# Assignment 06.01: Load module\n",
    "## Statement\n",
    "\n",
    "Write a program that \n",
    "\n",
    "- loads the module 'factorial'\n",
    "- reads an integer `n` from the console\n",
    "- invokes the function `compute_factorial` from module factorial using `n` as argument\n",
    "- prints the result \n",
    "\n",
    "## Example input\n",
    "\n",
    "```\n",
    "3\n",
    "```\n",
    "\n",
    "## Example output\n",
    "\n",
    "```\n",
    "6\n",
    "```\n",
    "\n",
    "## Note\n",
    "\n",
    "This exercise is about **importing modules**, not about implementing a function for computing the factorial of a number\n",
    "\n",
    "Therefore, **DO NOT reimplement** the function in the main file. Just import the module\n",
    "\n"
   ]
  },
  {
   "cell_type": "markdown",
   "metadata": {
    "id": "FMZE1vmMbRLz"
   },
   "source": [
    "## Write your solution here\n",
    "\n",
    "*   Do not change the first line (`def ...():`)\n",
    "*   Maintain the given indentation\n",
    "*   You can run some tests by yourself by decommenting the last line\n"
   ]
  },
  {
   "cell_type": "code",
   "execution_count": 10,
   "metadata": {
    "colab": {
     "base_uri": "https://localhost:8080/"
    },
    "id": "Yg4jeBnA7k5K",
    "outputId": "d1804f69-374a-4f18-f8ad-1ffd98892eaa"
   },
   "outputs": [],
   "source": [
    "def asgn06_01Load_module():\n",
    "    #import the module\n",
    "\n",
    "    #read an int\n",
    "\n",
    "    #invoke the required method from the imported module\n",
    "\n",
    "    #print the result\n",
    "\n",
    "\n",
    "    import factorial\n",
    "\n",
    "    n=int(input())\n",
    "    f = factorial.compute_factorial(n)\n",
    "    print(f)\n",
    "    \n",
    "#You can test independently your solution by executing the following line\n",
    "#asgn06_01Load_module()"
   ]
  },
  {
   "cell_type": "markdown",
   "metadata": {
    "id": "_lqTangP8R46"
   },
   "source": [
    "## Run the following cells to perform the provided tests"
   ]
  },
  {
   "cell_type": "code",
   "execution_count": 11,
   "metadata": {
    "colab": {
     "base_uri": "https://localhost:8080/"
    },
    "id": "fwX9u8aW7k5L",
    "outputId": "a12aefe2-be6d-4b28-f876-acc6ce57e9ae"
   },
   "outputs": [
    {
     "name": "stdout",
     "output_type": "stream",
     "text": [
      "Test [-2]\n",
      "\u001b[43m\u001b[32m The program prints 2 lines as expected.\u001b[0m\n",
      "\n",
      "  Line 0\n",
      "\u001b[43m\u001b[32m  Expected and actual output match: Please, provide a natural number\u001b[0m\n",
      "\n",
      "  Line 1\n",
      "\u001b[43m\u001b[32m  Expected and actual output match: -1\u001b[0m\n",
      "\n",
      "\u001b[43m\u001b[32mTest PASSED!\u001b[0m\n"
     ]
    }
   ],
   "source": [
    "#@title TEST -2\n",
    "inputs=[-2]\n",
    "expected_outputs=[\"Please, provide a natural number\",\"-1\"]\n",
    "run_and_test(inputs,expected_outputs,asgn06_01Load_module)"
   ]
  },
  {
   "cell_type": "code",
   "execution_count": 12,
   "metadata": {},
   "outputs": [
    {
     "name": "stdout",
     "output_type": "stream",
     "text": [
      "Test [1]\n",
      "\u001b[43m\u001b[32m The program prints 1 lines as expected.\u001b[0m\n",
      "\n",
      "  Line 0\n",
      "\u001b[43m\u001b[32m  Expected and actual output match: 1\u001b[0m\n",
      "\n",
      "\u001b[43m\u001b[32mTest PASSED!\u001b[0m\n"
     ]
    }
   ],
   "source": [
    "#@title TEST 1\n",
    "inputs=[1]\n",
    "expected_outputs=[\"1\"]\n",
    "run_and_test(inputs,expected_outputs,asgn06_01Load_module)"
   ]
  },
  {
   "cell_type": "code",
   "execution_count": 15,
   "metadata": {},
   "outputs": [
    {
     "name": "stdout",
     "output_type": "stream",
     "text": [
      "Test [2]\n",
      "\u001b[43m\u001b[32m The program prints 1 lines as expected.\u001b[0m\n",
      "\n",
      "  Line 0\n",
      "\u001b[43m\u001b[32m  Expected and actual output match: 2\u001b[0m\n",
      "\n",
      "\u001b[43m\u001b[32mTest PASSED!\u001b[0m\n"
     ]
    }
   ],
   "source": [
    "#@title TEST 2\n",
    "inputs=[2]\n",
    "expected_outputs=[\"2\"]\n",
    "run_and_test(inputs,expected_outputs,asgn06_01Load_module)"
   ]
  },
  {
   "cell_type": "code",
   "execution_count": 17,
   "metadata": {},
   "outputs": [
    {
     "name": "stdout",
     "output_type": "stream",
     "text": [
      "Test [3]\n",
      "\u001b[43m\u001b[32m The program prints 1 lines as expected.\u001b[0m\n",
      "\n",
      "  Line 0\n",
      "\u001b[43m\u001b[32m  Expected and actual output match: 6\u001b[0m\n",
      "\n",
      "\u001b[43m\u001b[32mTest PASSED!\u001b[0m\n"
     ]
    }
   ],
   "source": [
    "#@title TEST 3\n",
    "inputs=[3]\n",
    "expected_outputs=[\"6\"]\n",
    "run_and_test(inputs,expected_outputs,asgn06_01Load_module)"
   ]
  },
  {
   "cell_type": "code",
   "execution_count": 19,
   "metadata": {},
   "outputs": [
    {
     "name": "stdout",
     "output_type": "stream",
     "text": [
      "Test [10]\n",
      "\u001b[43m\u001b[32m The program prints 1 lines as expected.\u001b[0m\n",
      "\n",
      "  Line 0\n",
      "\u001b[43m\u001b[32m  Expected and actual output match: 3628800\u001b[0m\n",
      "\n",
      "\u001b[43m\u001b[32mTest PASSED!\u001b[0m\n"
     ]
    }
   ],
   "source": [
    "#@title TEST 10\n",
    "inputs=[10]\n",
    "expected_outputs=[\"3628800\"]\n",
    "run_and_test(inputs,expected_outputs,asgn06_01Load_module)"
   ]
  },
  {
   "cell_type": "markdown",
   "metadata": {
    "id": "Om177ojl7k5J"
   },
   "source": [
    "# Assignment 06.02: Load module with exceptions\n",
    "## Statement\n",
    "\n",
    "Write a program that \n",
    "\n",
    "- loads the module 'factorial_exc'\n",
    "- reads an integer `n` from the console\n",
    "- invokes the function `compute_factorial` from module factorial using `n` as argument\n",
    "- prints the result\n",
    "\n",
    "**Note**\n",
    "\n",
    "In this assignment, `compute_factorial` throws an exception of type `ValueError` if `n` is negative.\n",
    "\n",
    "- Your code should be able to catch this exception and print `'We got a ValueError'` in case  it is catched\n",
    "  - You should not raise a new exception. Just catch the ones generated by `compute_factorial`\n",
    "- The results of the function should be printed only if no exception has been caught\n",
    "\n",
    "## Example input\n",
    "\n",
    "```\n",
    "3\n",
    "```\n",
    "\n",
    "## Example output\n",
    "\n",
    "```\n",
    "6\n",
    "```\n",
    "\n",
    "## Example input\n",
    "\n",
    "```\n",
    "-2\n",
    "```\n",
    "\n",
    "## Example output\n",
    "\n",
    "```\n",
    "`We got a ValueError`\n",
    "```\n",
    "\n",
    "## Note\n",
    "\n",
    "This exercise is about importing modules, not about implementing a function for computing the factorial of a number\n",
    "\n",
    "Therefore, DO NOT reimplement the function in the main file. Just import the module"
   ]
  },
  {
   "cell_type": "markdown",
   "metadata": {
    "id": "FMZE1vmMbRLz"
   },
   "source": [
    "## Write your solution here\n",
    "\n",
    "*   Do not change the first line (`def ...():`)\n",
    "*   Maintain the given indentation\n",
    "*   You can run some tests by yourself by decommenting the last line\n"
   ]
  },
  {
   "cell_type": "code",
   "execution_count": 28,
   "metadata": {
    "colab": {
     "base_uri": "https://localhost:8080/"
    },
    "id": "Yg4jeBnA7k5K",
    "outputId": "d1804f69-374a-4f18-f8ad-1ffd98892eaa"
   },
   "outputs": [],
   "source": [
    "def asgn06_02Load_module_exc():\n",
    "    #import the module\n",
    "\n",
    "    #read an int\n",
    "\n",
    "    #invoke the required method from the imported module\n",
    "\n",
    "    #print the result\n",
    "\n",
    "\n",
    "    import factorial_exc\n",
    "\n",
    "    n=int(input())\n",
    "    try:\n",
    "        f = factorial_exc.compute_factorial(n)\n",
    "    except ValueError:\n",
    "        print('We got a ValueError')\n",
    "    else:\n",
    "        print(f)\n",
    "    \n",
    "#You can test independently your solution by executing the following line\n",
    "#asgn06_02Load_module_exc()"
   ]
  },
  {
   "cell_type": "markdown",
   "metadata": {
    "id": "_lqTangP8R46"
   },
   "source": [
    "## Run the following cells to perform the provided tests"
   ]
  },
  {
   "cell_type": "code",
   "execution_count": 29,
   "metadata": {
    "colab": {
     "base_uri": "https://localhost:8080/"
    },
    "id": "fwX9u8aW7k5L",
    "outputId": "a12aefe2-be6d-4b28-f876-acc6ce57e9ae"
   },
   "outputs": [
    {
     "name": "stdout",
     "output_type": "stream",
     "text": [
      "Test [-2]\n",
      "\u001b[43m\u001b[32m The program prints 1 lines as expected.\u001b[0m\n",
      "\n",
      "  Line 0\n",
      "\u001b[43m\u001b[32m  Expected and actual output match: We got a ValueError\u001b[0m\n",
      "\n",
      "\u001b[43m\u001b[32mTest PASSED!\u001b[0m\n"
     ]
    }
   ],
   "source": [
    "#@title TEST -2\n",
    "inputs=[-2]\n",
    "expected_outputs=[\"We got a ValueError\"]\n",
    "run_and_test(inputs,expected_outputs,asgn06_02Load_module_exc)"
   ]
  },
  {
   "cell_type": "code",
   "execution_count": 30,
   "metadata": {},
   "outputs": [
    {
     "name": "stdout",
     "output_type": "stream",
     "text": [
      "Test [1]\n",
      "\u001b[43m\u001b[32m The program prints 1 lines as expected.\u001b[0m\n",
      "\n",
      "  Line 0\n",
      "\u001b[43m\u001b[32m  Expected and actual output match: 1\u001b[0m\n",
      "\n",
      "\u001b[43m\u001b[32mTest PASSED!\u001b[0m\n"
     ]
    }
   ],
   "source": [
    "#@title TEST 1\n",
    "inputs=[1]\n",
    "expected_outputs=[\"1\"]\n",
    "run_and_test(inputs,expected_outputs,asgn06_02Load_module_exc)"
   ]
  },
  {
   "cell_type": "code",
   "execution_count": 31,
   "metadata": {},
   "outputs": [
    {
     "name": "stdout",
     "output_type": "stream",
     "text": [
      "Test [2]\n",
      "\u001b[43m\u001b[32m The program prints 1 lines as expected.\u001b[0m\n",
      "\n",
      "  Line 0\n",
      "\u001b[43m\u001b[32m  Expected and actual output match: 2\u001b[0m\n",
      "\n",
      "\u001b[43m\u001b[32mTest PASSED!\u001b[0m\n"
     ]
    }
   ],
   "source": [
    "#@title TEST 2\n",
    "inputs=[2]\n",
    "expected_outputs=[\"2\"]\n",
    "run_and_test(inputs,expected_outputs,asgn06_02Load_module_exc)"
   ]
  },
  {
   "cell_type": "code",
   "execution_count": 32,
   "metadata": {},
   "outputs": [
    {
     "name": "stdout",
     "output_type": "stream",
     "text": [
      "Test [3]\n",
      "\u001b[43m\u001b[32m The program prints 1 lines as expected.\u001b[0m\n",
      "\n",
      "  Line 0\n",
      "\u001b[43m\u001b[32m  Expected and actual output match: 6\u001b[0m\n",
      "\n",
      "\u001b[43m\u001b[32mTest PASSED!\u001b[0m\n"
     ]
    }
   ],
   "source": [
    "#@title TEST 3\n",
    "inputs=[3]\n",
    "expected_outputs=[\"6\"]\n",
    "run_and_test(inputs,expected_outputs,asgn06_02Load_module_exc)"
   ]
  },
  {
   "cell_type": "code",
   "execution_count": 33,
   "metadata": {},
   "outputs": [
    {
     "name": "stdout",
     "output_type": "stream",
     "text": [
      "Test [10]\n",
      "\u001b[43m\u001b[32m The program prints 1 lines as expected.\u001b[0m\n",
      "\n",
      "  Line 0\n",
      "\u001b[43m\u001b[32m  Expected and actual output match: 3628800\u001b[0m\n",
      "\n",
      "\u001b[43m\u001b[32mTest PASSED!\u001b[0m\n"
     ]
    }
   ],
   "source": [
    "#@title TEST 10\n",
    "inputs=[10]\n",
    "expected_outputs=[\"3628800\"]\n",
    "run_and_test(inputs,expected_outputs,asgn06_02Load_module_exc)"
   ]
  },
  {
   "cell_type": "markdown",
   "metadata": {
    "id": "Om177ojl7k5J"
   },
   "source": [
    "# Assignment 06.03: Load module with exceptions\n",
    "## Statement\n",
    "\n",
    "Write a program that \n",
    "\n",
    "- reads line by line the content of file file.txt\n",
    "- each line contains a number. \n",
    "- the program should terminate printing the number of lines and the sum of the numbers in the file as shown below\n",
    "\n",
    "## Example input\n",
    "\n",
    "## Example output\n",
    "\n",
    "```\n",
    "The file has 5 lines\n",
    "```\n",
    "\n",
    "```\n",
    "The sum is 15\n",
    "```\n",
    "\n",
    "## Note\n",
    "\n",
    "This exercise is about loading files. Please, DO NOT just print the required information: we might modify the content of the file before running the tests"
   ]
  },
  {
   "cell_type": "markdown",
   "metadata": {
    "id": "FMZE1vmMbRLz"
   },
   "source": [
    "## Write your solution here\n",
    "\n",
    "*   Do not change the first line (`def ...():`)\n",
    "*   Maintain the given indentation\n",
    "*   You can run some tests by yourself by decommenting the last line\n"
   ]
  },
  {
   "cell_type": "code",
   "execution_count": 34,
   "metadata": {
    "colab": {
     "base_uri": "https://localhost:8080/"
    },
    "id": "Yg4jeBnA7k5K",
    "outputId": "d1804f69-374a-4f18-f8ad-1ffd98892eaa"
   },
   "outputs": [],
   "source": [
    "def asgn06_03Read_file():\n",
    "    #open the file\n",
    "    #read each line, and use the loaded data\n",
    "    #close the file\n",
    "    #print the required information\n",
    "\n",
    "    file = open('file.txt', 'r')\n",
    "    lines = file.readlines()\n",
    "    #Let us close the file as soon as possible\n",
    "    file.close()\n",
    "\n",
    "    #print(type(lines))\n",
    "    sum=0\n",
    "    n_lines=0\n",
    "    for line in lines:\n",
    "        n = int(line)\n",
    "        sum+=n\n",
    "        n_lines+=1\n",
    "        #print(line)\n",
    "\n",
    "    print('The file has',n_lines,'lines')\n",
    "    print('The sum is',sum)    \n",
    "    \n",
    "#You can test independently your solution by executing the following line\n",
    "#asgn06_03Read_file()"
   ]
  },
  {
   "cell_type": "markdown",
   "metadata": {
    "id": "_lqTangP8R46"
   },
   "source": [
    "## Run the following cells to perform the provided tests"
   ]
  },
  {
   "cell_type": "code",
   "execution_count": 35,
   "metadata": {
    "colab": {
     "base_uri": "https://localhost:8080/"
    },
    "id": "fwX9u8aW7k5L",
    "outputId": "a12aefe2-be6d-4b28-f876-acc6ce57e9ae"
   },
   "outputs": [
    {
     "name": "stdout",
     "output_type": "stream",
     "text": [
      "Test []\n",
      "\u001b[43m\u001b[32m The program prints 2 lines as expected.\u001b[0m\n",
      "\n",
      "  Line 0\n",
      "\u001b[43m\u001b[32m  Expected and actual output match: The file has 5 lines\u001b[0m\n",
      "\n",
      "  Line 1\n",
      "\u001b[43m\u001b[32m  Expected and actual output match: The sum is 15\u001b[0m\n",
      "\n",
      "\u001b[43m\u001b[32mTest PASSED!\u001b[0m\n"
     ]
    }
   ],
   "source": [
    "#@title TEST ''\n",
    "inputs=[]\n",
    "expected_outputs=[\"The file has 5 lines\", \"The sum is 15\"]\n",
    "run_and_test(inputs,expected_outputs,asgn06_03Read_file)"
   ]
  },
  {
   "cell_type": "markdown",
   "metadata": {
    "id": "Om177ojl7k5J"
   },
   "source": [
    "# Assignment 06.04: Shape world\n",
    "## Statement\n",
    "\n",
    "Write two classes `Rectangle` and `Square` that extend (sub-classing) Shape implementing the required methods\n",
    "\n",
    "- `area` and `perimeter` should compute the area or perimeter, respectively of the shape (a rectangle or a square) using the well-known formulas\n",
    "- `describe` should return `'This is a rectangle'` or `'This is a square'` for the two classes, respectively\n",
    "\n",
    "**Bonus question:** would it be useful to let `Square` extend from `Rectangle` rather than from `Shape`? Try it out\n",
    "\n",
    "## Example input\n",
    "\n",
    "```\n",
    "2\n",
    "3\n",
    "4\n",
    "```\n",
    "\n",
    "\n",
    "## Example output\n",
    "\n",
    "```\n",
    "6\n",
    "10\n",
    "This is a rectangle\n",
    "\n",
    "16\n",
    "16\n",
    "This is a square\n",
    "```\n",
    "\n",
    "## Note\n",
    "\n",
    "You might have noticed that unimplemented methods of Shape have the keyword 'pass'. \n",
    "\n",
    "This statement has no effect. This is used in all cases like Shape where we have methods intentionally left unimplemented."
   ]
  },
  {
   "cell_type": "markdown",
   "metadata": {
    "id": "FMZE1vmMbRLz"
   },
   "source": [
    "## Write your solution here\n",
    "\n",
    "*   Do not change the first line (`def ...():`)\n",
    "*   Maintain the given indentation\n",
    "*   You can run some tests by yourself by decommenting the last line\n"
   ]
  },
  {
   "cell_type": "code",
   "execution_count": 54,
   "metadata": {
    "colab": {
     "base_uri": "https://localhost:8080/"
    },
    "id": "Yg4jeBnA7k5K",
    "outputId": "d1804f69-374a-4f18-f8ad-1ffd98892eaa"
   },
   "outputs": [],
   "source": [
    "def asgn06_04Shape_world():\n",
    "#     class Shape:\n",
    "#         def __init__(self,h,w):\n",
    "#             self._height=h\n",
    "#             self._width=w\n",
    "#         def area(self):\n",
    "#             pass\n",
    "#         def perimeter(self):\n",
    "#             pass\n",
    "#         def describe(self):\n",
    "#             return 'This is an abstract shape'\n",
    "\n",
    "#     #Implement class rectangle that extends Shape        \n",
    "\n",
    "#     #Implement class suqare\n",
    "\n",
    "\n",
    "#     #Do not modify. Necessary for tests...\n",
    "#     l1 = int(input())\n",
    "#     l2 = int(input())\n",
    "#     r = Rectangle(l1, l2)\n",
    "#     print(r.area())\n",
    "#     print(r.perimeter())\n",
    "#     print(r.describe())\n",
    "#     print()\n",
    "\n",
    "#     l = int(input())\n",
    "#     s = Square(l)\n",
    "#     print(s.area())\n",
    "#     print(s.perimeter())\n",
    "#     print(s.describe())\n",
    "\n",
    "\n",
    "\n",
    "    \n",
    "    class Shape:\n",
    "        def __init__(self,h,w):\n",
    "            self._height=h\n",
    "            self._width=w\n",
    "        def area(self):\n",
    "            pass\n",
    "        def perimeter(self):\n",
    "            pass\n",
    "        def describe(self):\n",
    "            return 'This is an abstract shape'\n",
    "\n",
    "    class Rectangle(Shape):\n",
    "        def area(self):\n",
    "            return self._height*self._width\n",
    "        def perimeter(self):\n",
    "            return (self._height+self._width)*2\n",
    "        def describe(self):\n",
    "            return 'This is a rectangle'\n",
    "\n",
    "    class Square(Rectangle):\n",
    "        def __init__(self,h):\n",
    "            self._height=h\n",
    "            self._width=h\n",
    "        def describe(self):\n",
    "            return 'This is a square'\n",
    "\n",
    "    #Do not modify. Necessary for tests...\n",
    "    l1 = int(input())\n",
    "    l2 = int(input())\n",
    "    r = Rectangle(l1, l2)\n",
    "    print(r.area())\n",
    "    print(r.perimeter())\n",
    "    print(r.describe())\n",
    "    print()\n",
    "\n",
    "    l = int(input())\n",
    "    s = Square(l)\n",
    "    print(s.area())\n",
    "    print(s.perimeter())\n",
    "    print(s.describe())\n",
    "\n",
    "    \n",
    "#You can test independently your solution by executing the following line\n",
    "#asgn06_04Shape_world()"
   ]
  },
  {
   "cell_type": "markdown",
   "metadata": {
    "id": "_lqTangP8R46"
   },
   "source": [
    "## Run the following cells to perform the provided tests"
   ]
  },
  {
   "cell_type": "code",
   "execution_count": 55,
   "metadata": {
    "colab": {
     "base_uri": "https://localhost:8080/"
    },
    "id": "fwX9u8aW7k5L",
    "outputId": "a12aefe2-be6d-4b28-f876-acc6ce57e9ae"
   },
   "outputs": [
    {
     "name": "stdout",
     "output_type": "stream",
     "text": [
      "Test [2, 3, 4]\n",
      "\u001b[43m\u001b[32m The program prints 7 lines as expected.\u001b[0m\n",
      "\n",
      "  Line 0\n",
      "\u001b[43m\u001b[32m  Expected and actual output match:\n",
      "  6\u001b[0m\n",
      "\n",
      "  Line 1\n",
      "\u001b[43m\u001b[32m  Expected and actual output match:\n",
      "  10\u001b[0m\n",
      "\n",
      "  Line 2\n",
      "\u001b[43m\u001b[32m  Expected and actual output match:\n",
      "  This is a rectangle\u001b[0m\n",
      "\n",
      "  Line 3\n",
      "\u001b[43m\u001b[32m  Expected and actual output match:\n",
      "  \u001b[0m\n",
      "\n",
      "  Line 4\n",
      "\u001b[43m\u001b[32m  Expected and actual output match:\n",
      "  16\u001b[0m\n",
      "\n",
      "  Line 5\n",
      "\u001b[43m\u001b[32m  Expected and actual output match:\n",
      "  16\u001b[0m\n",
      "\n",
      "  Line 6\n",
      "\u001b[43m\u001b[32m  Expected and actual output match:\n",
      "  This is a square\u001b[0m\n",
      "\n",
      "\u001b[43m\u001b[32mTest PASSED!\u001b[0m\n"
     ]
    }
   ],
   "source": [
    "#@title TEST '[2,3,4]'\n",
    "inputs=[2,3,4]\n",
    "expected_outputs=['6', '10', 'This is a rectangle', '', '16', '16', 'This is a square']\n",
    "run_and_test(inputs,expected_outputs,asgn06_04Shape_world)"
   ]
  },
  {
   "cell_type": "code",
   "execution_count": 56,
   "metadata": {},
   "outputs": [
    {
     "name": "stdout",
     "output_type": "stream",
     "text": [
      "Test [4, 5, 5]\n",
      "\u001b[43m\u001b[32m The program prints 7 lines as expected.\u001b[0m\n",
      "\n",
      "  Line 0\n",
      "\u001b[43m\u001b[32m  Expected and actual output match:\n",
      "  20\u001b[0m\n",
      "\n",
      "  Line 1\n",
      "\u001b[43m\u001b[32m  Expected and actual output match:\n",
      "  18\u001b[0m\n",
      "\n",
      "  Line 2\n",
      "\u001b[43m\u001b[32m  Expected and actual output match:\n",
      "  This is a rectangle\u001b[0m\n",
      "\n",
      "  Line 3\n",
      "\u001b[43m\u001b[32m  Expected and actual output match:\n",
      "  \u001b[0m\n",
      "\n",
      "  Line 4\n",
      "\u001b[43m\u001b[32m  Expected and actual output match:\n",
      "  25\u001b[0m\n",
      "\n",
      "  Line 5\n",
      "\u001b[43m\u001b[32m  Expected and actual output match:\n",
      "  20\u001b[0m\n",
      "\n",
      "  Line 6\n",
      "\u001b[43m\u001b[32m  Expected and actual output match:\n",
      "  This is a square\u001b[0m\n",
      "\n",
      "\u001b[43m\u001b[32mTest PASSED!\u001b[0m\n"
     ]
    }
   ],
   "source": [
    "#@title TEST '[4,5,5]'\n",
    "inputs=[4,5,5]\n",
    "expected_outputs=['20', '18', 'This is a rectangle', '', '25', '20', 'This is a square']\n",
    "run_and_test(inputs,expected_outputs,asgn06_04Shape_world)"
   ]
  }
 ],
 "metadata": {
  "colab": {
   "collapsed_sections": [],
   "name": "02DataTypesAndOperations_Assignments",
   "provenance": [],
   "toc_visible": true
  },
  "kernelspec": {
   "display_name": "Python 3",
   "language": "python",
   "name": "python3"
  },
  "language_info": {
   "codemirror_mode": {
    "name": "ipython",
    "version": 3
   },
   "file_extension": ".py",
   "mimetype": "text/x-python",
   "name": "python",
   "nbconvert_exporter": "python",
   "pygments_lexer": "ipython3",
   "version": "3.8.2"
  },
  "toc-autonumbering": true,
  "toc-showcode": false,
  "toc-showmarkdowntxt": false
 },
 "nbformat": 4,
 "nbformat_minor": 4
}
