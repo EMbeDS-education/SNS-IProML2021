{
 "cells": [
  {
   "cell_type": "markdown",
   "metadata": {},
   "source": [
    "<center><font size=\"+4\">Introduction to Programming and Machine Learning in Python 2020/2021</font></center>\n",
    "<center><font size=\"+4\">Module 2</font></center>\n",
    "<center><font size=\"+2\">Scuola Normale Superiore, Pisa, Italy</font></center>\n",
    "\n",
    "<center><font size=\"+2\">Course responsibles</font></center>\n",
    "<center><font size=\"+2\">Andrea Vandin a.vandin@santannapisa.it</font></center>\n",
    "<center><font size=\"+2\">Daniele Licari d.licari@santannapisa.it</font></center>\n",
    "\n",
    "---"
   ]
  },
  {
   "cell_type": "markdown",
   "metadata": {},
   "source": [
    "<center><font size=\"+4\">Lecture 1: Course introduction</font></center>"
   ]
  },
  {
   "cell_type": "markdown",
   "metadata": {},
   "source": [
    "---"
   ]
  },
  {
   "cell_type": "markdown",
   "metadata": {},
   "source": [
    "# Lecture plans"
   ]
  },
  {
   "cell_type": "code",
   "execution_count": null,
   "metadata": {},
   "outputs": [],
   "source": []
  },
  {
   "cell_type": "markdown",
   "metadata": {},
   "source": [
    "# Course website & material\n",
    "All material used in this course, including jupyter notebooks, datasets, schedule are available at\n",
    "- https://github.com/EMbeDS-education/SNS-IProML2021/wiki\n",
    "\n",
    "__This is the second module of IProML__\n",
    "- In Module 1 we learned about programming well, python, jupyter-lab\n",
    "  - **If you are not familiar with any of these topics: go through the material of Module 1**, available in the above link"
   ]
  },
  {
   "cell_type": "markdown",
   "metadata": {},
   "source": [
    "# Course structure\n",
    "\n",
    "**Part 1: _We first build our toolset_**\n",
    "- Advanced python Libraries for data manipulation/visualization\n",
    "  - When\n",
    "    - 05/07/2021, 15:00-18:00\n",
    "    - 09/07/2021, 15:00-18:00\n",
    "  - Topics\n",
    "    - NumPy, Pandas, and more\n",
    "    - Application to \n",
    "      - official Italian COVID'19 data\n",
    "      - Yahoo! Finance stock prices\n",
    "\n",
    "**Part 2: _We apply our toolset on a concrete Machine Learning case study_** \n",
    "- [Breast Cancer Wisconsin (Diagnostic) Data Set](https://archive.ics.uci.edu/ml/datasets/Breast+Cancer+Wisconsin+(Diagnostic)) \n",
    "  - When\n",
    "    - 12/07/2021, 15:00-18:00\n",
    "    - 16/07/2021, 15:00-18:00\n",
    "  - Topics    \n",
    "      - Exploratory Data Analysis (data pre-processing, outliers detection, ...)\n",
    "      - Dimensionality Reduction (PCA)\n",
    "      - Clustering (K-means)\n",
    "      - Classification (of Benign and Malignant Breast Cancer)\n",
    "      \n",
    "**Part 3: _Can we program complex Machine Learning tasks graphically?_** \n",
    "- [Knime](https://www.knime.com/): a graphical language for complex data analysis tasks\n",
    "  - When\n",
    "    - 19/07/2021, 15:00-17:00\n",
    "    - Topics (same as part 2, but using Knime)\n",
    "      - A recap of the topics from part 2, but done in Knime..."
   ]
  },
  {
   "cell_type": "markdown",
   "metadata": {},
   "source": [
    "# Learning objectives\n",
    "A student who has met the objectives of the course will be able to: \n",
    "- **describe** and **use** advanced Python libraries for data processing and machine learning\n",
    "- **apply** such tools to medium-complexity problems\n",
    "- **describe** modern graphical programming languages for data analysis\n",
    "- **describe** the pipeline of steps/problems common in data analysis tasks\n",
    "- **communicate** analysis results in a clear and precise manner using popular web-based IDEs"
   ]
  },
  {
   "cell_type": "markdown",
   "metadata": {},
   "source": [
    "# Self-evaluation: evaluate your own learning progress"
   ]
  },
  {
   "cell_type": "markdown",
   "metadata": {},
   "source": [
    "## Optional/volunteer project\n",
    "* You will be given a simple _classic_ dataset\n",
    "  * __Would have you survived the Titanic shipwreck?__\n",
    "* You can try out the skills learned in the course by doing a data-analysis project \n",
    "* You can form __groups__ if you like\n",
    "  * You can try out colab for remote collaboration"
   ]
  },
  {
   "cell_type": "markdown",
   "metadata": {},
   "source": [
    "## Project description\n",
    "- Consider the **Titanic** dataset available [here](https://github.com/EMbeDS-education/SNS-IProML2021/raw/main/datasets/TITANIC.csv) \n",
    "    - [Here](https://github.com/EMbeDS-education/SNS-IProML2021/raw/main/datasets/Titanic_data_description.docx) you find a description \n",
    "    - To make the project more complete, we reverted 'Gender', 'Residence', and 'Survived' back to their categorical values. \n",
    "- It contains information on 1309 passengers\n",
    "  - 14 properties/attributes\n",
    "  - 1 target variable on the survival of the passenger\n",
    "- __Your task is to analyze this dataset in the lines of what shown in the course__\n",
    "  - The final goal is to **obtain a classifier able to predict the survival probability of a hypotethical passenger**\n",
    "  - BEWARE: \n",
    "    - Try first to understand the data. Read the provided description. \n",
    "    - Not all datasets are the same\n",
    "      - Do not just blindly apply all tasks seen in class, with the same parameters. \n",
    "      - Try to perform reasoned choices.\n",
    "      -  You are free to choose part of the techniques/tools seen during the course"
   ]
  }
 ],
 "metadata": {
  "kernelspec": {
   "display_name": "env_iproml_2021",
   "language": "python",
   "name": "env_iproml_2021"
  },
  "language_info": {
   "codemirror_mode": {
    "name": "ipython",
    "version": 3
   },
   "file_extension": ".py",
   "mimetype": "text/x-python",
   "name": "python",
   "nbconvert_exporter": "python",
   "pygments_lexer": "ipython3",
   "version": "3.8.2"
  }
 },
 "nbformat": 4,
 "nbformat_minor": 4
}
