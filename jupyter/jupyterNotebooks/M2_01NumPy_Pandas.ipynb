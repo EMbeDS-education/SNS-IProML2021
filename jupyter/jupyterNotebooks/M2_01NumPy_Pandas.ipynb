{
 "cells": [
  {
   "cell_type": "markdown",
   "metadata": {},
   "source": [
    "<center><font size=\"+4\">Introduction to Programming and Machine Learning in Python 2020/2021</font></center>\n",
    "<center><font size=\"+4\">Module 2</font></center>\n",
    "<center><font size=\"+2\">Scuola Normale Superiore, Pisa, Italy</font></center>\n",
    "\n",
    "<center><font size=\"+2\">Course responsibles</font></center>\n",
    "<center><font size=\"+2\">Andrea Vandin a.vandin@santannapisa.it</font></center>\n",
    "<center><font size=\"+2\">Daniele Licari d.licari@santannapisa.it</font></center>\n",
    "\n",
    "---"
   ]
  },
  {
   "cell_type": "markdown",
   "metadata": {},
   "source": [
    "<center><font size=\"+4\">Lectures 1 & 2: Advanced Libraries for</font></center>\n",
    "<center><font size=\"+4\">data manipulation/visualization</font></center>\n",
    "<center><font size=\"+2\">With applications to official Italian COVID'19 data and  Yahoo! Finance stock prices</font></center>"
   ]
  },
  {
   "cell_type": "markdown",
   "metadata": {},
   "source": [
    "---"
   ]
  },
  {
   "cell_type": "markdown",
   "metadata": {},
   "source": [
    "# Notes and references about this class"
   ]
  },
  {
   "cell_type": "markdown",
   "metadata": {},
   "source": [
    "This notebook is mainly based on Chapter 4 of the following book:\n",
    "* [Python for Data Analysis, 2nd edition, William Wesley McKinney (O’Reilly)](https://www.oreilly.com/library/view/python-for-data/9781491957653/)\n",
    "* [Freely available Jupyter notebooks covering the examples/material of each chapter](https://github.com/wesm/pydata-book)\n",
    "* Some pictures have been taken from these sources"
   ]
  },
  {
   "cell_type": "markdown",
   "metadata": {},
   "source": [
    "In particular, this notebook introduces the libraries:\n",
    "* [NumPy](https://numpy.org/): for scientific computing\n",
    "* [Pandas](https://pandas.pydata.org/): \n",
    "   * for working with structured data (CSV, Spreadsheets, Databases)\n",
    "   * for creating advanced plots"
   ]
  },
  {
   "cell_type": "markdown",
   "metadata": {},
   "source": [
    "> Note: in this notebook we will often refer interchangeably to _arrays_, _NumPy arrays_ or just _ndarrays_. \n",
    "<br/>\n",
    "> You can think of __arrays as lists with better performances__ for numerical computing"
   ]
  },
  {
   "cell_type": "markdown",
   "metadata": {},
   "source": [
    "# NumPy\n",
    "NumPy, _Numerical Python_, is the Python package for __scientific computing__\n",
    "\n",
    "It provides:\n",
    "* An efficient implementation for list-like multidimensional data structures named __NumPy arrays__ or __ndarray__\n",
    "  * including functions for performing\n",
    "    * element-wise computations on arrays \n",
    "    * mathematical operations between arrays\n",
    "* Tools for reading/writing datasets from/to disk and arrays\n",
    "* Linear algebra operations, Fourier transform, and random number generation\n",
    "* 1-line plotting functionalities\n",
    "* Tools for integrating C, C++, and Fortran code with Python\n",
    "  * Useful to use legacy code\n",
    "  * Useful to use very efficient and established libraries for scientifical computation\n",
    "\n",
    "\n",
    "NumPy arrays are a more efficient way of storing and manipulating data than the other built-in Python data structures."
   ]
  },
  {
   "cell_type": "markdown",
   "metadata": {},
   "source": [
    "## Install and import the NumPy module\n",
    "The first time you run this notebook you might have to install Pandas using the following script:"
   ]
  },
  {
   "cell_type": "code",
   "execution_count": null,
   "metadata": {},
   "outputs": [],
   "source": [
    "import sys\n",
    "!\"{sys.executable}\" -m pip install numpy\n",
    "#!\"{sys.executable}\" -m pip install --upgrade pip"
   ]
  },
  {
   "cell_type": "markdown",
   "metadata": {},
   "source": [
    "The Python community has adopted a number of __naming conventions__ for commonly used modules:\n",
    "* Below you see the conventions for numpy, pandas and matplotlib"
   ]
  },
  {
   "cell_type": "code",
   "execution_count": null,
   "metadata": {},
   "outputs": [],
   "source": [
    "import numpy as np\n",
    "# import pandas as pd \n",
    "# import matplotlib.pyplot as plt"
   ]
  },
  {
   "cell_type": "markdown",
   "metadata": {},
   "source": [
    "* This means that when you see `np.arange(4)`, we refer to `numpy.arange(4)`, the `arange` function in NumPy."
   ]
  },
  {
   "cell_type": "markdown",
   "metadata": {},
   "source": [
    "## Main features: Arrays, Vectorized Computation, Broadcast"
   ]
  },
  {
   "cell_type": "markdown",
   "metadata": {},
   "source": [
    "Numpy provides:\n",
    "* __ndarray__, a multidimensional array providing **vectorized arithmetic** operations and **broadcasting** capabilities\n",
    "   * Vectorized arithmetic operations: \n",
    "     - Operations on arrays are done iterating over the elements of the arrays at C level rather than at Python level, obtaining better performances. \n",
    "     - The syntax is more concise\n",
    "   * [Broadcasting](https://numpy.org/doc/stable/user/basics.broadcasting.html): \n",
    "     - In certain cases, operations on arrays can be done even if they do not have same dimensions. Pyhton tries to guess what to do\n",
    "     - E.g., if you multiply an array by a constant, each entry of the arrays is multiplied by the constant\n",
    "       - the constant is `broadcasted` on each entry of the array\n",
    "     - No data is 'needlessly' copied, and the _iterations to broadcast_  are done at C level, obtaining better performances\n",
    "* Standard mathematical functions for applying operations on entire arrays without having to write loops\n",
    "  - Again, these guarantee C-level performances"
   ]
  },
  {
   "cell_type": "markdown",
   "metadata": {},
   "source": [
    "Let's create a ndarray and a built-in Python list, each with 5mln elements."
   ]
  },
  {
   "cell_type": "code",
   "execution_count": null,
   "metadata": {},
   "outputs": [],
   "source": [
    "import numpy as np\n",
    "np_arr = np.arange(5000000) #5 mln\n",
    "py_list = list(range(5000000)) #5 mln\n",
    "\n",
    "print('np_arr has type',type(np_arr))\n",
    "print('py_list has type',type(py_list))"
   ]
  },
  {
   "cell_type": "markdown",
   "metadata": {},
   "source": [
    "**Performance comparison among  Numpy ndarrays and Python lists**\n",
    "* Let's compute the square value of each element in the array/list"
   ]
  },
  {
   "cell_type": "code",
   "execution_count": null,
   "metadata": {},
   "outputs": [],
   "source": [
    " print(\"Test NumPy Array\")\n",
    " %time np_arr_power = np_arr ** 2\n",
    "\n",
    " print(\"\\nTest Python list comprehension\")\n",
    " %time py_list = [x ** 2 for x in py_list]\n",
    "\n",
    " print(\"\\nTest Python list iteration\")\n",
    " %time for i in range(len(py_list)): py_list[i]=py_list[i]**2\n",
    "\n",
    " print(\"\\nTests completed\")"
   ]
  },
  {
   "cell_type": "markdown",
   "metadata": {},
   "source": [
    "## The NumPy ndarray: A Multidimensional Array"
   ]
  },
  {
   "cell_type": "markdown",
   "metadata": {},
   "source": [
    "### What is an ndarray?"
   ]
  },
  {
   "cell_type": "markdown",
   "metadata": {},
   "source": [
    "NumPy arrays are named **nd**array because they are **n**-**d**imensional arrays"
   ]
  },
  {
   "cell_type": "code",
   "execution_count": null,
   "metadata": {},
   "outputs": [],
   "source": [
    "import numpy as np\n",
    "# Generate a 2x3 matrix with random data\n",
    "data = np.random.randn(2, 3)\n",
    "data"
   ]
  },
  {
   "cell_type": "markdown",
   "metadata": {},
   "source": [
    "Arrays enable you to perform\n",
    "mathematical operations on each of their elements \n",
    "* using a syntax similar to the equivalent operations between (scalar) numbers\n",
    "\n",
    "Below we \n",
    "* multiply by 10 **each value** in `data`\n",
    "* double **each value** in `data`"
   ]
  },
  {
   "cell_type": "code",
   "execution_count": null,
   "metadata": {},
   "outputs": [],
   "source": [
    "data * 10"
   ]
  },
  {
   "cell_type": "code",
   "execution_count": null,
   "metadata": {},
   "outputs": [],
   "source": [
    "data + data"
   ]
  },
  {
   "cell_type": "markdown",
   "metadata": {},
   "source": [
    "A difference between Python lists and arrays\n",
    "* lists can contain elements of **different type**\n",
    "* arrays have to contain only elements of **same type**\n",
    "\n",
    "Every array has \n",
    "* a`shape`, a tuple indicating the size of each dimension, \n",
    "  * `data.shape` is `(2,3)` because it has dimension 2x3\n",
    "* a `dtype`, an object describing the type of the data in the array\n",
    "  * `data.dtype` is `float64` because it contains floating point numbers (reals)\n",
    "  *  Note that `float64` is a [data type defined in NumPy](https://numpy.org/doc/stable/user/basics.types.html). _More on this later_"
   ]
  },
  {
   "cell_type": "code",
   "execution_count": null,
   "metadata": {},
   "outputs": [],
   "source": [
    "print(data.shape)\n",
    "print(data.dtype)"
   ]
  },
  {
   "cell_type": "markdown",
   "metadata": {
    "editable": true
   },
   "source": [
    "### Creating ndarrays\n",
    "The easiest way to create an array is to use the `array` function. \n",
    "* This will produce a new array containing the passed data"
   ]
  },
  {
   "cell_type": "code",
   "execution_count": null,
   "metadata": {
    "collapsed": false,
    "editable": true,
    "jupyter": {
     "outputs_hidden": false
    }
   },
   "outputs": [],
   "source": [
    "data1 = [6, 7.5, 8, 0, 1]\n",
    "arr1 = np.array(data1)\n",
    "print(arr1)\n",
    "print(arr1.shape)\n",
    "print(arr1.dtype)"
   ]
  },
  {
   "cell_type": "markdown",
   "metadata": {},
   "source": [
    "List of lists, e.g. representing a matrix,\n",
    "* can be converted into a multidimensional array \n",
    "* if internal lists have same length"
   ]
  },
  {
   "cell_type": "code",
   "execution_count": null,
   "metadata": {
    "collapsed": false,
    "editable": true,
    "jupyter": {
     "outputs_hidden": false
    }
   },
   "outputs": [],
   "source": [
    "data2 = [[1, 2, 3, 4], [5, 6, 7, 8]]\n",
    "print('data2\\n',data2)\n",
    "arr2 = np.array(data2)\n",
    "print('arr2\\n',arr2)\n",
    "print(arr2.shape)\n",
    "print(arr2.dtype)"
   ]
  },
  {
   "cell_type": "markdown",
   "metadata": {},
   "source": [
    "Further functions for creating new arrays:\n",
    "* `zeros` and `ones` create arrays of 0’s or 1’s, respectively, with a given length or shape.\n",
    "* To create a higher dimensional array with these methods, pass a tuple for the shape:"
   ]
  },
  {
   "cell_type": "code",
   "execution_count": null,
   "metadata": {
    "collapsed": false,
    "editable": true,
    "jupyter": {
     "outputs_hidden": false
    }
   },
   "outputs": [],
   "source": [
    "print('np.zeros(10) =', np.zeros(10))\n",
    "print('np.ones((3, 6)) =\\n', np.ones((3, 6)))"
   ]
  },
  {
   "cell_type": "markdown",
   "metadata": {},
   "source": [
    "`arange` is an array-valued version of the built-in Python `range` function:\n",
    "* It allows to represent an open interval [start,stop,step)\n",
    "    - where only stop is mandatory.\n",
    "    - note, `stop` does not belong to the range\n",
    "* Beware to what you do: \n",
    "  - `range` is an iterator that creates elements on demand\n",
    "  - `arange` fully creates the array allocating all the necessary space"
   ]
  },
  {
   "cell_type": "code",
   "execution_count": null,
   "metadata": {
    "collapsed": false,
    "editable": true,
    "jupyter": {
     "outputs_hidden": false
    }
   },
   "outputs": [],
   "source": [
    "print(np.arange(15))  #if you want integers\n",
    "print(np.arange(15.)) #if you want reals\n",
    "print(type(np.arange(15)))\n",
    "\n",
    "print(range(15))\n",
    "print(type(range(15)))"
   ]
  },
  {
   "cell_type": "markdown",
   "metadata": {
    "editable": true
   },
   "source": [
    "### Data Types for ndarrays\n",
    "The names of the numerical dtypes follow this convention: \n",
    "* A type name, like `float` or `int`, followed by the number of bits used to represent an element of this type.\n",
    "* The higher is this number of bits, \n",
    "  * the higher precision (or the larger interval) you can use to store your data (GOOD)\n",
    "  * the more memory is required to store your data (BAD)\n",
    "\n",
    "For example, \n",
    "* a double-precision floating point value takes 64 bits (`float64`)\n",
    "* an integer might take 32 (`int32`) or 64 bits (`int64`)\n",
    "  * in the latter case being able to represent a larger interval of integers, but using up more space"
   ]
  },
  {
   "cell_type": "code",
   "execution_count": null,
   "metadata": {
    "collapsed": false,
    "editable": true,
    "jupyter": {
     "outputs_hidden": false
    }
   },
   "outputs": [],
   "source": [
    "arr1 = np.array([1, 2, 3], dtype=np.float64)\n",
    "arr2 = np.array([1, 2, 3], dtype=np.int32)\n",
    "print(arr1.dtype)\n",
    "print(arr2.dtype)"
   ]
  },
  {
   "cell_type": "markdown",
   "metadata": {},
   "source": [
    "You can explicitly convert or cast an array from one dtype to another using ndarray’s `astype` method\n",
    "* This will create a `copy` of the original array, where elements have the new type"
   ]
  },
  {
   "cell_type": "code",
   "execution_count": null,
   "metadata": {
    "collapsed": false,
    "editable": true,
    "jupyter": {
     "outputs_hidden": false
    }
   },
   "outputs": [],
   "source": [
    "arr = np.array([1.1, 2.1, 3.1, 4.1, 5.1])\n",
    "print(arr)\n",
    "print('Before',arr.dtype,'\\n')\n",
    "int_arr = arr.astype(np.int32)\n",
    "print(int_arr)\n",
    "print('After ',int_arr.dtype)"
   ]
  },
  {
   "cell_type": "markdown",
   "metadata": {
    "editable": true
   },
   "source": [
    "### Vectorized Arithmetics with NumPy Arrays"
   ]
  },
  {
   "cell_type": "markdown",
   "metadata": {},
   "source": [
    "Once you have values in an array\n",
    "* You can easily apply operations on each of its elements\n",
    "  * Arithmetic operations between equal-size arrays are applied element-wise\n",
    "  * Arithmetic operations between an array and a scalar (a number):\n",
    "    * the operation is applied between each array element and the scalar\n",
    "    * the scalar is said to be _broadcasted_ to all the array elements\n",
    "* Similarly to list comprehensions, this does not require loops,\n",
    "  * Note: as shown above, vectorized arithmetics is more efficient than the corresponding list comprehension operation (even more if compared to loops)"
   ]
  },
  {
   "cell_type": "code",
   "execution_count": null,
   "metadata": {
    "collapsed": false,
    "editable": true,
    "jupyter": {
     "outputs_hidden": false
    }
   },
   "outputs": [],
   "source": [
    "a = np.array([[1., 2., 3.], [4., 5., 6.]])\n",
    "print('a = \\n',a, '\\n')\n",
    "print('a * a = \\n', a * a, '\\n')\n",
    "print('a - a = \\n', a - a, '\\n')\n",
    "print('1 / a = \\n', 1 / a, '\\n')\n",
    "print('a*0.5  \\n=', a*0.5, '\\n')\n",
    "print('a**0.5  \\n=', a**0.5, '\\n')"
   ]
  },
  {
   "cell_type": "markdown",
   "metadata": {},
   "source": [
    "> Note that with `a * a` we do not compute the product of 2 matrices. \n",
    "> - We multiply them element-wise"
   ]
  },
  {
   "cell_type": "markdown",
   "metadata": {
    "editable": true
   },
   "source": [
    "### Basic Indexing and Slicing"
   ]
  },
  {
   "cell_type": "markdown",
   "metadata": {},
   "source": [
    "#### Indexing and slicing 1-dimensional arrays"
   ]
  },
  {
   "cell_type": "markdown",
   "metadata": {},
   "source": [
    "Arrays inherit `indexing` and `slicing` capabilities of __lists__"
   ]
  },
  {
   "cell_type": "code",
   "execution_count": null,
   "metadata": {
    "collapsed": false,
    "editable": true,
    "jupyter": {
     "outputs_hidden": false
    }
   },
   "outputs": [],
   "source": [
    "arr = np.arange(10)\n",
    "print('arr',arr)\n",
    "print('You can indexsingle entries:\\narr[0] is',arr[0])\n",
    "print('arr[5] is',arr[5])"
   ]
  },
  {
   "cell_type": "code",
   "execution_count": null,
   "metadata": {},
   "outputs": [],
   "source": [
    "print('arr\\n',arr)\n",
    "print('You can create slices:')\n",
    "print('arr[:8]  is\\n',arr[:8])\n",
    "print('arr[5:]  is\\n          ',arr[5:])\n",
    "print('arr[5:8] is\\n          ',arr[5:8])"
   ]
  },
  {
   "cell_type": "markdown",
   "metadata": {},
   "source": [
    "A slice is a sort of `view` of the array\n",
    "* You can assign it to a variable\n",
    "* You can change its values\n",
    "* **Beware**: no data is copied"
   ]
  },
  {
   "cell_type": "code",
   "execution_count": null,
   "metadata": {},
   "outputs": [],
   "source": [
    "arr[5:8] = 12\n",
    "print('After arr[5:8] = 12 arr is\\n',arr)"
   ]
  },
  {
   "cell_type": "markdown",
   "metadata": {},
   "source": [
    "Note: \n",
    "* if you assign a scalar value to a __slice__ (a selection of some elements in an array)\n",
    "  * as in `arr[5:8] = 12`\n",
    "* then the value is propagated (or again _broadcasted_) to each selected element \n",
    "\n",
    "If you are familiar with Python lists you might have noticed an important difference\n",
    "* When slicing a list, you actually create a copy \n",
    "* **Array slices are views on the original array**.\n",
    "* The __data in a slice is not copied__\n",
    "  * this is more efficient\n",
    "  * and any modifications to the view will be reflected in the source array\n",
    "  \n",
    "Let's see another example  "
   ]
  },
  {
   "cell_type": "code",
   "execution_count": null,
   "metadata": {
    "collapsed": false,
    "editable": true,
    "jupyter": {
     "outputs_hidden": false
    }
   },
   "outputs": [],
   "source": [
    "print('source array', arr)\n",
    "arr_slice = arr[5:8]\n",
    "print('slice array', arr_slice)"
   ]
  },
  {
   "cell_type": "code",
   "execution_count": null,
   "metadata": {
    "collapsed": false,
    "editable": true,
    "jupyter": {
     "outputs_hidden": false
    }
   },
   "outputs": [],
   "source": [
    "arr_slice[1] = 12345\n",
    "print('source array (after arr_slice[1] = 12345):\\n', arr)"
   ]
  },
  {
   "cell_type": "markdown",
   "metadata": {},
   "source": [
    "If you want a `copy of a slice of an ndarray` instead of a view, you will need to `explicitly copy` the array; \n",
    "* `arr2 = arr[5:8].copy()`"
   ]
  },
  {
   "cell_type": "markdown",
   "metadata": {},
   "source": [
    "#### Indexing and slicing higher-dimensional arrays"
   ]
  },
  {
   "cell_type": "markdown",
   "metadata": {},
   "source": [
    "With higher dimensional arrays, you have many more options. \n",
    "* A two-dimensional array is actually an array of arrays\n",
    "  * Each entry of the _outer_ array contains an _inner_ array"
   ]
  },
  {
   "cell_type": "code",
   "execution_count": null,
   "metadata": {
    "collapsed": false,
    "editable": true,
    "jupyter": {
     "outputs_hidden": false
    }
   },
   "outputs": [],
   "source": [
    "arr2d = np.array([[1, 2, 3], [4, 5, 6], [7, 8, 9]])\n",
    "arr2d"
   ]
  },
  {
   "cell_type": "code",
   "execution_count": null,
   "metadata": {},
   "outputs": [],
   "source": [
    "arr1d=arr2d[0]\n",
    "arr1d"
   ]
  },
  {
   "cell_type": "code",
   "execution_count": null,
   "metadata": {},
   "outputs": [],
   "source": [
    "arr1d[2]"
   ]
  },
  {
   "cell_type": "markdown",
   "metadata": {},
   "source": [
    "As for multidimensional lists, you can access single elements of inner arrays using nested `[]`\n",
    "* `arr2d[0][2]` is `3`, the third element (index `2`) of the first inner array (index `0`)\n",
    "* Alternatively, you can do `arr2d[0,2]`"
   ]
  },
  {
   "cell_type": "code",
   "execution_count": null,
   "metadata": {
    "collapsed": false,
    "editable": true,
    "jupyter": {
     "outputs_hidden": false
    }
   },
   "outputs": [],
   "source": [
    "print(arr2d)\n",
    "print(arr2d[0][2])\n",
    "print(arr2d[0, 2])"
   ]
  },
  {
   "cell_type": "markdown",
   "metadata": {},
   "source": [
    "**See figure below for an illustration of indexing a 2D array** <br />\n",
    "<img src='data:image/png;base64,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'>"
   ]
  },
  {
   "cell_type": "markdown",
   "metadata": {},
   "source": [
    "This is an example for 2-dimensional arrays\n",
    "* It works the similarly for higher dimensions..."
   ]
  },
  {
   "cell_type": "markdown",
   "metadata": {
    "editable": true
   },
   "source": [
    "**BEWARE**\n",
    "- When `indexing`, it does not make a difference whether you use\n",
    "  - `arr2d[0][2]` or `arr2d[0, 2]`\n",
    "- When `silicing`, it makes a **big difference** whether you use\n",
    "  - `arr2d[:2,1:]` or `arr2d[:2][1:]`\n",
    "  - Typically what you want to do is `arr2d[:2,1:]`"
   ]
  },
  {
   "cell_type": "markdown",
   "metadata": {},
   "source": [
    "For `arr2d[:2,1:]`\n",
    "- we first select the rows 0 and 1 `[1,2,3],[4,5,6]`\n",
    "- from these, we select column 1 and 2 `[2,3],[5,6]`"
   ]
  },
  {
   "cell_type": "code",
   "execution_count": null,
   "metadata": {},
   "outputs": [],
   "source": [
    "print(arr2d[:2,1:])\n",
    "arr2d[:2,1:].shape"
   ]
  },
  {
   "cell_type": "markdown",
   "metadata": {},
   "source": [
    "For `arr2d[:2][1:]`\n",
    "- we first select the rows 0 and 1 `[1,2,3],[4,5,6]`\n",
    "- we select row 1 `[4, 5, 6]`"
   ]
  },
  {
   "cell_type": "code",
   "execution_count": null,
   "metadata": {},
   "outputs": [],
   "source": [
    "print(arr2d[:2])\n",
    "print()\n",
    "print(arr2d[:2][1:])\n",
    "arr2d[:2][1:].shape"
   ]
  },
  {
   "cell_type": "markdown",
   "metadata": {},
   "source": [
    "Further examples of indexing/slicing of higher dimensional arrays"
   ]
  },
  {
   "attachments": {
    "image.png": {
     "image/png": "[encoded data removed]"
    }
   },
   "cell_type": "markdown",
   "metadata": {},
   "source": [
    "![image.png](attachment:image.png)"
   ]
  },
  {
   "cell_type": "code",
   "execution_count": null,
   "metadata": {
    "collapsed": false,
    "editable": true,
    "jupyter": {
     "outputs_hidden": false
    }
   },
   "outputs": [],
   "source": [
    "print(arr2d)\n",
    "print()\n",
    "print(arr2d[:2])"
   ]
  },
  {
   "cell_type": "markdown",
   "metadata": {},
   "source": [
    "We have sliced it along axis 0, the first axis (the rows). \n",
    "* A slice, therefore, selects a range of elements along an axis. \n",
    "* You can pass multiple slices just like you can pass multiple indexes"
   ]
  },
  {
   "cell_type": "code",
   "execution_count": null,
   "metadata": {
    "collapsed": false,
    "editable": true,
    "jupyter": {
     "outputs_hidden": false
    }
   },
   "outputs": [],
   "source": [
    "arr2d[:2, 1:]"
   ]
  },
  {
   "cell_type": "markdown",
   "metadata": {},
   "source": [
    "Assigning to a slice expression assigns to the whole selection by broadcasting"
   ]
  },
  {
   "cell_type": "code",
   "execution_count": null,
   "metadata": {
    "collapsed": false,
    "editable": true,
    "jupyter": {
     "outputs_hidden": false
    }
   },
   "outputs": [],
   "source": [
    "arr2d[:2, 1:] = 0 \n",
    "arr2d"
   ]
  },
  {
   "cell_type": "markdown",
   "metadata": {},
   "source": [
    "We can also use a Boolean expression to select elements in an array\n",
    "* we select the ones satisfying the Boolean expression"
   ]
  },
  {
   "cell_type": "code",
   "execution_count": null,
   "metadata": {},
   "outputs": [],
   "source": [
    "data = np.random.randn(7, 4)\n",
    "print('Data\\n',data)"
   ]
  },
  {
   "cell_type": "code",
   "execution_count": null,
   "metadata": {},
   "outputs": [],
   "source": [
    "data > 0"
   ]
  },
  {
   "cell_type": "code",
   "execution_count": null,
   "metadata": {},
   "outputs": [],
   "source": [
    "data2=data[ data > 0]\n",
    "print('Data2\\n',data2)"
   ]
  },
  {
   "cell_type": "markdown",
   "metadata": {},
   "source": [
    "## Mathematical and Statistical Methods\n",
    "Arrays have a number of methods for \n",
    "* computing mathematical functions/statistics \n",
    "  * on the entire array \n",
    "  * on part of the array"
   ]
  },
  {
   "cell_type": "markdown",
   "metadata": {},
   "source": [
    "### Reshaping an array"
   ]
  },
  {
   "cell_type": "markdown",
   "metadata": {},
   "source": [
    "Arrays have a convenient method `reshape` to \n",
    "* change their dimensions without modifying the data\n",
    "* Also in this case we compute views. \n",
    "  * **no data is actually copied**\n",
    "  * any change to the view is observed also in the orginal data\n",
    "\n",
    "For example, we can transform\n",
    "* a 1-dimensional array with 15 entries\n",
    "* into a 2-dimensional 3x5 array (a matrix)"
   ]
  },
  {
   "cell_type": "code",
   "execution_count": null,
   "metadata": {},
   "outputs": [],
   "source": [
    "arr = np.arange(15)\n",
    "print(\"1-dimensional array arr\\n\",arr)\n",
    "m=arr.reshape((3, 5))\n",
    "print(\"2-dimensional matrix m\\n\",m)\n",
    "\n",
    "print()\n",
    "#m is a view!\n",
    "m[0,0]=100\n",
    "print(\"1-dimensional array arr after modifiyng the view m\\n\",arr)\n",
    "print(\"2-dimensional matrix m after modifiyng the view m\\n\",m)"
   ]
  },
  {
   "cell_type": "markdown",
   "metadata": {},
   "source": [
    "### Transposing Arrays\n",
    "Arrays have the transpose method and also the special T attribute\n",
    "* This is just a special reshape\n",
    "* we compute a view - no actual copy"
   ]
  },
  {
   "cell_type": "code",
   "execution_count": null,
   "metadata": {},
   "outputs": [],
   "source": [
    "arr = np.arange(15)\n",
    "m = arr.reshape(3,5)\n",
    "print(\"Matrix m\\n\",m)\n",
    "print()\n",
    "print(\"Transposed matrix using T\\n\",m.T)\n",
    "print()\n",
    "print(\"Transposed matrix transpose()\\n\",m.transpose())"
   ]
  },
  {
   "cell_type": "markdown",
   "metadata": {},
   "source": [
    "When invoked on a matrix, they both give the transpose of such matrix\n",
    "- See animation from [wikipedia](https://en.wikipedia.org/wiki/Transpose)"
   ]
  },
  {
   "cell_type": "code",
   "execution_count": null,
   "metadata": {},
   "outputs": [],
   "source": [
    "from IPython.display import Image\n",
    "Image(\"https://upload.wikimedia.org/wikipedia/commons/e/e4/Matrix_transpose.gif\")"
   ]
  },
  {
   "cell_type": "markdown",
   "metadata": {},
   "source": [
    "In addition, `transpose` can be invoked on arrays of any dimensions [to permute such dimensions](https://numpy.org/devdocs/reference/generated/numpy.transpose.html#numpy.transpose)\n",
    "- reversing them by default\n",
    "- or providing the new order for dimensions in input"
   ]
  },
  {
   "cell_type": "code",
   "execution_count": null,
   "metadata": {},
   "outputs": [],
   "source": [
    "x = np.ones((2, 3, 4))\n",
    "print(x)\n",
    "print('Shape of x\\n',x.shape)\n",
    "print('Shape of x.transpose()\\n',x.transpose().shape)\n",
    "print('Shape of x.transpose(0,2,1)\\n',x.transpose(0,2,1).shape)"
   ]
  },
  {
   "cell_type": "markdown",
   "metadata": {},
   "source": [
    "### Matrix product\n",
    "If you want to [multply two matrices](https://en.wikipedia.org/wiki/Matrix_multiplication) you can use the `dot` method\n",
    "* not just multiplying element-wise their elements\n",
    "* but the classic row-column multiplication of matrixes"
   ]
  },
  {
   "cell_type": "code",
   "execution_count": null,
   "metadata": {},
   "outputs": [],
   "source": [
    "m1 = np.arange(4).reshape(2,2)\n",
    "m2 = (np.arange(4)+4).reshape(2,2)\n",
    "#np.dot(m.T,m)\n",
    "print('m1\\n',m1)\n",
    "print('m2\\n',m2)\n",
    "print('m1.dot(m2)\\n',m1.dot(m2))\n",
    "print('Same as np.dot(m1,m2)\\n',np.dot(m1,m2))"
   ]
  },
  {
   "cell_type": "markdown",
   "metadata": {},
   "source": [
    "### Square root\n",
    "_np.sqrt()_ computes the square root of each element. Equivalent to m1 ** 0.5"
   ]
  },
  {
   "cell_type": "code",
   "execution_count": null,
   "metadata": {},
   "outputs": [],
   "source": [
    "print(np.sqrt(m1))\n",
    "print(m1 ** 0.5)"
   ]
  },
  {
   "cell_type": "markdown",
   "metadata": {},
   "source": [
    "### Aggregations\n",
    "Aggregations (often called reductions) \n",
    "* like sum, mean, and standard deviation std of all elements in the matrix/array \n",
    "* can be computed by using the corresponding array method"
   ]
  },
  {
   "cell_type": "code",
   "execution_count": null,
   "metadata": {},
   "outputs": [],
   "source": [
    "print('matrix\\n',m)\n",
    "print('mean',m.mean())\n",
    "print('sum',m.sum())\n",
    "print('standard deviation',m.std())\n",
    "\n",
    "print()\n",
    "print('array\\n',arr)\n",
    "print('mean',arr.mean())\n",
    "print('sum',arr.sum())\n",
    "print('standard deviation',arr.std())"
   ]
  },
  {
   "cell_type": "markdown",
   "metadata": {},
   "source": [
    "Functions like `sum`  and `mean`\n",
    "* can be computed for each dimension rather than cumulatively \n",
    "* we do this specifying the `axis` (the dimension) over which we want to iterate\n",
    "\n",
    "For example, using \n",
    "* `axis=0` we compute the sum/mean/std for each column of M\n",
    "* `axis=1` we compute the sum/mean/std for each row of M"
   ]
  },
  {
   "cell_type": "code",
   "execution_count": null,
   "metadata": {},
   "outputs": [],
   "source": [
    "print('matrix\\n',m)\n",
    "print()\n",
    "\n",
    "print('sum of each column\\n',m.sum(axis=0))\n",
    "print('mean of each column\\n',m.mean(axis=0))\n",
    "print('standard deviation of each column\\n',m.std(axis=0))\n",
    "print()\n",
    "\n",
    "print('sum of each row\\n',m.sum(axis=1))\n",
    "print('mean of each row\\n',m.mean(axis=1))\n",
    "print('standard deviation of each row\\n',m.std(axis=1))"
   ]
  },
  {
   "cell_type": "markdown",
   "metadata": {},
   "source": [
    "### Sorting\n",
    "Similarly to lists, \n",
    "* arrays can be sorted using the `sort()` method"
   ]
  },
  {
   "cell_type": "code",
   "execution_count": null,
   "metadata": {},
   "outputs": [],
   "source": [
    "arr = np.random.randn(8)\n",
    "arr"
   ]
  },
  {
   "cell_type": "code",
   "execution_count": null,
   "metadata": {},
   "outputs": [],
   "source": [
    "arr.sort()\n",
    "arr"
   ]
  },
  {
   "cell_type": "markdown",
   "metadata": {},
   "source": [
    "Multidimensional arrays are sorted by iteratively sorting each dimentsion. \n",
    "E.g. in matrices we \n",
    "* Sort the elements within each row\n",
    "* We sort the rows using the lexicographical order"
   ]
  },
  {
   "cell_type": "code",
   "execution_count": null,
   "metadata": {},
   "outputs": [],
   "source": [
    "arr2d = np.random.randn(5, 3)\n",
    "arr2d"
   ]
  },
  {
   "cell_type": "code",
   "execution_count": null,
   "metadata": {},
   "outputs": [],
   "source": [
    "arr2d.sort()\n",
    "arr2d"
   ]
  },
  {
   "cell_type": "markdown",
   "metadata": {},
   "source": [
    "But we can also sort single dimensions"
   ]
  },
  {
   "cell_type": "code",
   "execution_count": null,
   "metadata": {},
   "outputs": [],
   "source": [
    "arr2d = np.random.randn(5, 3)\n",
    "arr2d_cp0 = arr2d.copy()\n",
    "arr2d_cp1 = arr2d.copy()\n",
    "print(arr2d)\n",
    "\n",
    "#Same the elements within each row (sort across columns)\n",
    "arr2d.sort()\n",
    "print('arr2d.sort()')\n",
    "print(arr2d)\n",
    "\n",
    "#Same the elements within each column (sort across rows)\n",
    "arr2d_cp0.sort(0)\n",
    "print('arr2d.sort(0)')\n",
    "print(arr2d_cp0)\n",
    "\n",
    "#Same as sort()\n",
    "arr2d_cp1.sort(1)\n",
    "print('arr2d.sort(1)')\n",
    "print(arr2d_cp1)"
   ]
  },
  {
   "cell_type": "markdown",
   "metadata": {},
   "source": [
    "### Unique\n",
    "NumPy has some basic set operations for 1-dimensional ndarrays. \n",
    "* The most common one is `np.unique()` \n",
    "  * returns the sorted unique values in an array"
   ]
  },
  {
   "cell_type": "code",
   "execution_count": null,
   "metadata": {},
   "outputs": [],
   "source": [
    "names = np.array(['Bob', 'Will', 'Bob', 'Will', 'Joe', 'Joe'])\n",
    "print(np.unique(names))\n",
    "\n",
    "# pure Python alternative:\n",
    "# sorted(set(names))"
   ]
  },
  {
   "cell_type": "markdown",
   "metadata": {},
   "source": [
    "## Logic functions \n",
    "- See also [here](https://numpy.org/doc/stable/reference/routines.logic.html)\n",
    "\n",
    "We have seen how conditions can be checked on all elements in an array\n",
    "- containing an array of same dimensions containing \n",
    "  - `True` for the elements satisfying the condition\n",
    "  - `False` for the elements not satisfying the condition  "
   ]
  },
  {
   "cell_type": "code",
   "execution_count": null,
   "metadata": {},
   "outputs": [],
   "source": [
    "data = np.random.randn(7, 4)\n",
    "data"
   ]
  },
  {
   "cell_type": "markdown",
   "metadata": {},
   "source": [
    "What numbers are greater than 0?"
   ]
  },
  {
   "cell_type": "code",
   "execution_count": null,
   "metadata": {},
   "outputs": [],
   "source": [
    "mask = data > 0\n",
    "mask"
   ]
  },
  {
   "cell_type": "markdown",
   "metadata": {},
   "source": [
    "NumPy offers __logic functions__ to check Boolean expressions on such Boolean arrays\n",
    "- `any`: a generalization of **OR** returning `True` if at least one entry contains `True` \n",
    "- `all`: a generalization of **AND** returning `True` if at least one entry contains `True` \n",
    "\n",
    "As for the aggregation functions, these can be checked also on single dimensions"
   ]
  },
  {
   "cell_type": "code",
   "execution_count": null,
   "metadata": {},
   "outputs": [],
   "source": [
    "print(mask)\n",
    "print()\n",
    "print()\n",
    "\n",
    "# any( axis)\n",
    "# Test whether any array element along a given axis evaluates to True.\n",
    "print('\\nmask.any()\\n', mask.any() )\n",
    "print('\\nmask.any(axis=0) - for each column\\n', mask.any(axis=0) )\n",
    "print('\\nmask.any(axis=1) - for each row\\n', mask.any(axis=1) )\n",
    "#all(axis)\n",
    "\n",
    "print()\n",
    "print()\n",
    "#Test whether all array elements along a given axis evaluate to True.\n",
    "print('\\nmask.all()\\n', mask.all() )\n",
    "print('\\nmask.all(axis=0) - for each column\\n', mask.all(axis=0) )\n",
    "print('\\nmask.all(axis=1) - for each row\\n', mask.all(axis=1) )"
   ]
  },
  {
   "cell_type": "markdown",
   "metadata": {},
   "source": [
    "# Pandas"
   ]
  },
  {
   "cell_type": "markdown",
   "metadata": {},
   "source": [
    "[Pandas](https://pandas.pydata.org/) is another popular Python package. \n",
    "* It is built on top of NumPy (its data structures consist of several arrays)\n",
    "\n",
    "Pandas provides rich data structures and functions designed to \n",
    "* make it easy, flexible and efficient working with structured data \n",
    "  - CSV files\n",
    "  - Spreadsheets\n",
    "  - Databases"
   ]
  },
  {
   "cell_type": "markdown",
   "metadata": {},
   "source": [
    "E.g., Pandas allows to easily perform complex data manipulation like \n",
    "* _reshape_ and _slice_\n",
    "* data aggregations \n",
    "* data selection\n",
    "* merge/join tables"
   ]
  },
  {
   "cell_type": "markdown",
   "metadata": {},
   "source": [
    "## Install and import the Pandas module"
   ]
  },
  {
   "cell_type": "markdown",
   "metadata": {},
   "source": [
    "The first time you run this notebook you might have to install Pandas using the following script:"
   ]
  },
  {
   "cell_type": "code",
   "execution_count": null,
   "metadata": {},
   "outputs": [],
   "source": [
    "import sys\n",
    "!\"{sys.executable}\" -m pip install pandas"
   ]
  },
  {
   "cell_type": "markdown",
   "metadata": {},
   "source": [
    "The Python community has adopted a number of __naming conventions__ for commonly used modules:\n",
    "* Below you see the conventions for numpy, pandas and matplotlib"
   ]
  },
  {
   "cell_type": "code",
   "execution_count": null,
   "metadata": {},
   "outputs": [],
   "source": [
    "#import numpy as np\n",
    "import pandas as pd \n",
    "# import matplotlib.pyplot as plt"
   ]
  },
  {
   "cell_type": "markdown",
   "metadata": {},
   "source": [
    "## Series"
   ]
  },
  {
   "cell_type": "markdown",
   "metadata": {},
   "source": [
    "A Series is a one-dimensional list-like/array-like object containing __2 arrays__\n",
    "* an ndarray containing the __actual data__\n",
    "* an associated ndarray of __labels__ with one label (or index) per data element\n",
    "\n",
    "Intuitively, you can see a Series as \n",
    "* a dictionary (a hash-map)\n",
    "* or, in its simplest form, as a 1-dimensional array/list consisting of\n",
    "  * an array of data, \n",
    "  * an implicit array of labels. It labels each element with its position"
   ]
  },
  {
   "cell_type": "code",
   "execution_count": null,
   "metadata": {},
   "outputs": [],
   "source": [
    "obj = pd.Series([4, 7, -5, 3])\n",
    "obj"
   ]
  },
  {
   "cell_type": "markdown",
   "metadata": {},
   "source": [
    "We note that \n",
    "* The string representation of a Series shows the index on the left and the values on the right\n",
    "  * Obtained using the method `__str__` of the class Series\n",
    "\n",
    "\n",
    "Since we did not specify an index\n",
    "* a default array of labels containing integers from 0 to N - 1 is created.\n",
    "* each element is labeled with its own position in the array\n",
    "\n",
    "If you are interested only in one of the two arrays, just use"
   ]
  },
  {
   "cell_type": "code",
   "execution_count": null,
   "metadata": {},
   "outputs": [],
   "source": [
    "print('Series index: ',obj.index)\n",
    "print('Series values: ',obj.values)"
   ]
  },
  {
   "cell_type": "markdown",
   "metadata": {},
   "source": [
    "Let's now create a Series whose entries are labelled by characters."
   ]
  },
  {
   "cell_type": "code",
   "execution_count": null,
   "metadata": {},
   "outputs": [],
   "source": [
    "obj2 = pd.Series([4, 7, -5, 3], index=['d', 'b', 'a', 'c'])\n",
    "obj2"
   ]
  },
  {
   "cell_type": "markdown",
   "metadata": {},
   "source": [
    "### Indexing, selection, and filtering"
   ]
  },
  {
   "cell_type": "markdown",
   "metadata": {},
   "source": [
    "Similarly to Python [**dict**ionaries](https://docs.python.org/3/tutorial/datastructures.html), \n",
    "* you can use values in the index to select values in the main array"
   ]
  },
  {
   "cell_type": "code",
   "execution_count": null,
   "metadata": {},
   "outputs": [],
   "source": [
    "print(\"obj2['d'] = \\n\",obj2['d'])\n",
    "\n",
    "obj2['d'] = 6\n",
    "print(\"obj2['d']  (after obj2['d'] = 6) =\\n\",obj2['d'])\n",
    "\n",
    "print('\\nYou can also select a number of entries')\n",
    "print(\"obj2[['c', 'a', 'd']] =\")\n",
    "print(obj2[['c', 'a', 'd']])"
   ]
  },
  {
   "cell_type": "markdown",
   "metadata": {},
   "source": [
    "Indexes are preserved by NumPy array operations like\n",
    "* filtering with a boolean array, scalar multiplication, application of math functions"
   ]
  },
  {
   "cell_type": "code",
   "execution_count": null,
   "metadata": {},
   "outputs": [],
   "source": [
    "print(\"obj2\")\n",
    "print(obj2)\n",
    "print()\n",
    "print(\"NumPy operation obj2[obj2 > 0]\")\n",
    "print(obj2[obj2 > 0])\n",
    "print()\n",
    "print(\"NumPy operation obj2 * 2\")\n",
    "print(obj2 * 2)\n",
    "print()\n",
    "print(\"NumPy operation np.exp(obj2)\")\n",
    "print(np.exp(obj2))"
   ]
  },
  {
   "cell_type": "markdown",
   "metadata": {},
   "source": [
    "What do you get with `obj2 > 0`?\n",
    "- a copy of the series preserving the index, with `True`/`False` values"
   ]
  },
  {
   "cell_type": "code",
   "execution_count": null,
   "metadata": {},
   "outputs": [],
   "source": [
    "obj2 > 0"
   ]
  },
  {
   "cell_type": "markdown",
   "metadata": {},
   "source": [
    "You can create a Series using \n",
    "- a **dict**ionary \n",
    "- and a list as index\n",
    "\n",
    "The list contains the keys of interest from the dictionary"
   ]
  },
  {
   "cell_type": "code",
   "execution_count": null,
   "metadata": {},
   "outputs": [],
   "source": [
    "sdata = {'Ohio': 35000, 'Texas': 71000, 'Oregon': 16000, 'Utah': 5000}\n",
    "states = ['California', 'Ohio', 'Oregon', 'Texas']\n",
    "obj4 = pd.Series(sdata, index=states)\n",
    "obj4 "
   ]
  },
  {
   "cell_type": "markdown",
   "metadata": {},
   "source": [
    "We note that\n",
    "* 3 values found in sdata were placed in the appropriate locations, \n",
    "* but since no value for `'California'` was found, it got a `NaN` (not a number) \n",
    "  * which is considered in pandas to mark missing/NA/NaN values\n",
    "  \n",
    "The `isnull` and `notnull` functions in pandas detect such missing values:"
   ]
  },
  {
   "cell_type": "code",
   "execution_count": null,
   "metadata": {},
   "outputs": [],
   "source": [
    "pd.isnull(obj4) "
   ]
  },
  {
   "cell_type": "code",
   "execution_count": null,
   "metadata": {},
   "outputs": [],
   "source": [
    "pd.notnull(obj4) "
   ]
  },
  {
   "cell_type": "markdown",
   "metadata": {},
   "source": [
    "E.g., if you want to use only the non-null values you do:"
   ]
  },
  {
   "cell_type": "code",
   "execution_count": null,
   "metadata": {},
   "outputs": [],
   "source": [
    "obj4[pd.notnull(obj4)]"
   ]
  },
  {
   "cell_type": "markdown",
   "metadata": {},
   "source": [
    "## DataFrame\n",
    "* A Series can be seen as \n",
    "  - a table with 1 column\n",
    "  - a csv file with 1 column\n",
    "  - ...\n",
    "* A **DataFrame is a proper table/csv** with more columns\n",
    "  * A series is just a simpler version of a dataframe\n",
    "  * A dataframe is a series with **more main arrays** (one per column), and **one index**\n",
    "  * DataFrames are the most important objects in pandas"
   ]
  },
  {
   "cell_type": "markdown",
   "metadata": {},
   "source": [
    "### Creating DataFrame objects"
   ]
  },
  {
   "cell_type": "markdown",
   "metadata": {},
   "source": [
    "The most common way to build a dataframe is by \n",
    "* using a dict containing lists or arrays of same length\n",
    "  * each key/label becomes a column\n",
    "    * if you specify a subset of key/labels, then only the corresponding column will be added\n",
    "    * if you pass a column that isn’t contained in data, it will get NA values\n",
    "  * each list/array element is a value for that column"
   ]
  },
  {
   "cell_type": "code",
   "execution_count": null,
   "metadata": {},
   "outputs": [],
   "source": [
    "data = {'state': ['Ohio', 'Ohio', 'Ohio', 'Nevada', 'Nevada', 'Nevada'],\n",
    "        'year': [2000, 2001, 2002, 2001, 2002, 2003],\n",
    "        'pop': [1.5, 1.7, 3.6, 2.4, 2.9, 3.2]}"
   ]
  },
  {
   "cell_type": "code",
   "execution_count": null,
   "metadata": {
    "collapsed": false,
    "editable": true,
    "jupyter": {
     "outputs_hidden": false
    }
   },
   "outputs": [],
   "source": [
    "frame = pd.DataFrame(data,columns=['state','pop','nonExistingColumn'])\n",
    "frame"
   ]
  },
  {
   "cell_type": "code",
   "execution_count": null,
   "metadata": {},
   "outputs": [],
   "source": [
    "frame = pd.DataFrame(data)\n",
    "frame"
   ]
  },
  {
   "cell_type": "markdown",
   "metadata": {},
   "source": [
    "We see above that the DataFrame also has an index/labels array\n",
    "* the first column\n",
    "  * in this case we have the default array of labels\n",
    "  * but specific ones can be given explicitly"
   ]
  },
  {
   "cell_type": "code",
   "execution_count": null,
   "metadata": {},
   "outputs": [],
   "source": [
    "frame1 = pd.DataFrame(data, index = ['a','b','c','d','e','f'] )\n",
    "frame1"
   ]
  },
  {
   "cell_type": "markdown",
   "metadata": {},
   "source": [
    "A column of a DataFrame can be retrieved as a Series \n",
    "* by dict-like notation \n",
    "* or by attribute:"
   ]
  },
  {
   "cell_type": "code",
   "execution_count": null,
   "metadata": {},
   "outputs": [],
   "source": [
    "frame2 = pd.DataFrame(data, columns=['year', 'state', 'pop', 'debt'], \n",
    "                      index=['one', 'two', 'three', 'four', 'five','six'])\n",
    "frame2"
   ]
  },
  {
   "cell_type": "code",
   "execution_count": null,
   "metadata": {},
   "outputs": [],
   "source": [
    "#Select single column or sequence of columns from the DataFrame\n",
    "frame2['state'] # by dict-like notation "
   ]
  },
  {
   "cell_type": "code",
   "execution_count": null,
   "metadata": {},
   "outputs": [],
   "source": [
    "frame2.state # by attribute"
   ]
  },
  {
   "cell_type": "markdown",
   "metadata": {},
   "source": [
    "> Note the difference\n",
    "> - `['state']` vs `.state`\n",
    "<br/>\n",
    "> They are both valid"
   ]
  },
  {
   "cell_type": "markdown",
   "metadata": {},
   "source": [
    "If you create a dataframe using a 2-levels nested dictionary\n",
    "* The keys of the outer dictionary will be used for the column names\n",
    "* The keys of the inner dictionary will be used for the index names"
   ]
  },
  {
   "cell_type": "code",
   "execution_count": null,
   "metadata": {
    "collapsed": false,
    "editable": true,
    "jupyter": {
     "outputs_hidden": false
    }
   },
   "outputs": [],
   "source": [
    "inner_dict1 ={           2001: 2.4, 2002: 2.9}\n",
    "inner_dict2 ={2000: 1.5, 2001: 1.7, 2002: 3.6}\n",
    "\n",
    "outer_dict = {'Nevada': inner_dict1, 'Ohio': inner_dict2}\n",
    "frame3 = pd.DataFrame(outer_dict)\n",
    "frame3"
   ]
  },
  {
   "cell_type": "markdown",
   "metadata": {},
   "source": [
    "You can also choose which keys of the inner dict (i.e. which indexes) to use\n",
    "* we are not using 2001 and 2000\n",
    "* we are using a non-existing index 2003"
   ]
  },
  {
   "cell_type": "code",
   "execution_count": null,
   "metadata": {
    "collapsed": false,
    "editable": true,
    "jupyter": {
     "outputs_hidden": false
    }
   },
   "outputs": [],
   "source": [
    "pd.DataFrame(outer_dict, index=[2002, 2003])"
   ]
  },
  {
   "cell_type": "markdown",
   "metadata": {
    "editable": true,
    "jupyter": {
     "outputs_hidden": false
    }
   },
   "source": [
    "Like Series, the `values` attribute \n",
    "- returns the data contained in the DataFrame as a 2D ndarray"
   ]
  },
  {
   "cell_type": "code",
   "execution_count": null,
   "metadata": {
    "collapsed": false,
    "editable": true,
    "jupyter": {
     "outputs_hidden": false
    }
   },
   "outputs": [],
   "source": [
    "frame3.values"
   ]
  },
  {
   "cell_type": "markdown",
   "metadata": {},
   "source": [
    "### Updating DataFrame objects"
   ]
  },
  {
   "cell_type": "markdown",
   "metadata": {},
   "source": [
    "Values in a dataframe column can be modified by assignment. \n",
    "* If we assign a single value to a column, then the value is __broadcasted__ to the whole column\n",
    "* E.g., the empty `debt` column can be initialized to 16.5 as:"
   ]
  },
  {
   "cell_type": "code",
   "execution_count": null,
   "metadata": {},
   "outputs": [],
   "source": [
    "frame2"
   ]
  },
  {
   "cell_type": "code",
   "execution_count": null,
   "metadata": {
    "collapsed": false,
    "editable": true,
    "jupyter": {
     "outputs_hidden": false
    }
   },
   "outputs": [],
   "source": [
    "frame2['debt'] = 16.5\n",
    "frame2"
   ]
  },
  {
   "cell_type": "code",
   "execution_count": null,
   "metadata": {},
   "outputs": [],
   "source": [
    "frame2.debt=1.0\n",
    "frame2"
   ]
  },
  {
   "cell_type": "markdown",
   "metadata": {},
   "source": [
    "When assigning lists or arrays to a column, \n",
    "- they must contain as many elements as rows in the DataFrame"
   ]
  },
  {
   "cell_type": "code",
   "execution_count": null,
   "metadata": {},
   "outputs": [],
   "source": [
    "frame2['debt'] = np.arange(6.)\n",
    "print(frame2)\n",
    "#The following would not work\n",
    "#frame2['debt'] = np.arange(6)\n",
    "frame2.dtypes"
   ]
  },
  {
   "cell_type": "markdown",
   "metadata": {
    "editable": true,
    "jupyter": {
     "outputs_hidden": false
    }
   },
   "source": [
    "Creating and deleting columns\n",
    "* Assigning a column that doesn’t exist will create a new column. \n",
    "* The del keyword will delete columns as with a dict"
   ]
  },
  {
   "cell_type": "code",
   "execution_count": null,
   "metadata": {},
   "outputs": [],
   "source": [
    "frame2"
   ]
  },
  {
   "cell_type": "code",
   "execution_count": null,
   "metadata": {
    "collapsed": false,
    "editable": true,
    "jupyter": {
     "outputs_hidden": false
    }
   },
   "outputs": [],
   "source": [
    "frame2['eastern'] =  (frame2.state == 'Ohio')\n",
    "#frame2['eastern'] = True\n",
    "frame2"
   ]
  },
  {
   "cell_type": "markdown",
   "metadata": {},
   "source": [
    "> Note, you **cannot** create columns using the attribute notation\n",
    "> * `frame2.easterntwo =  (frame2.state == 'Ohio')`"
   ]
  },
  {
   "cell_type": "markdown",
   "metadata": {},
   "source": [
    "Deleting columns and rows\n",
    "- `del` modifies the dataframe on which it is applied\n",
    "- [`drop`](https://pandas.pydata.org/pandas-docs/stable/reference/api/pandas.DataFrame.drop.html) has a number of useful attributes\n",
    "  - can be used to delete columns or rows\n",
    "  - creates a copy by default, but can also act on the current one"
   ]
  },
  {
   "cell_type": "code",
   "execution_count": null,
   "metadata": {},
   "outputs": [],
   "source": [
    "del frame2['eastern']\n",
    "frame2"
   ]
  },
  {
   "cell_type": "code",
   "execution_count": null,
   "metadata": {},
   "outputs": [],
   "source": [
    "frame2['new_col']=np.arange(6)\n",
    "print('frame2')\n",
    "print(frame2)\n",
    "\n",
    "frame2del = frame2.drop(['new_col'],axis=1)\n",
    "print('\\nframe2del')\n",
    "print(frame2del)\n",
    "print('\\nframe2')\n",
    "print(frame2)"
   ]
  },
  {
   "cell_type": "markdown",
   "metadata": {},
   "source": [
    "> Drop can modify the current DataFrame if setting `inplace=True`"
   ]
  },
  {
   "cell_type": "code",
   "execution_count": null,
   "metadata": {},
   "outputs": [],
   "source": [
    "frame2['new_col']=np.arange(6)\n",
    "frame2\n",
    "print('frame2')\n",
    "print(frame2)\n",
    "\n",
    "frame2.drop(['new_col'],axis=1,inplace=True)\n",
    "print('\\nframe2')\n",
    "print(frame2)"
   ]
  },
  {
   "cell_type": "code",
   "execution_count": null,
   "metadata": {},
   "outputs": [],
   "source": [
    "#You get error\n",
    "#frame2.drop(['new_col'],axis=1,inplace=True)"
   ]
  },
  {
   "cell_type": "code",
   "execution_count": null,
   "metadata": {},
   "outputs": [],
   "source": [
    "#frame2.drop(['new_col'],axis=1,inplace=True) #deleting a non existing column gives errors\n",
    "frame2.drop(['new_col'],axis=1,inplace=True,errors='ignore') #you can ignore errors"
   ]
  },
  {
   "cell_type": "markdown",
   "metadata": {},
   "source": [
    "We have just seen how to __delete columns__\n",
    "\n",
    "In order to __delete rows__ \n",
    "* you just use the `drop` method without specifying the `axis` (or using `axis=0`)"
   ]
  },
  {
   "cell_type": "code",
   "execution_count": null,
   "metadata": {},
   "outputs": [],
   "source": [
    "frame2"
   ]
  },
  {
   "cell_type": "code",
   "execution_count": null,
   "metadata": {},
   "outputs": [],
   "source": [
    "frame100 = frame2.drop(['five'])\n",
    "frame100"
   ]
  },
  {
   "cell_type": "code",
   "execution_count": null,
   "metadata": {},
   "outputs": [],
   "source": [
    "frame100['year']=100\n",
    "frame100"
   ]
  },
  {
   "cell_type": "code",
   "execution_count": null,
   "metadata": {},
   "outputs": [],
   "source": [
    "frame100.drop(['four','three'],inplace=True)\n",
    "frame100"
   ]
  },
  {
   "cell_type": "code",
   "execution_count": null,
   "metadata": {},
   "outputs": [],
   "source": [
    "frame2"
   ]
  },
  {
   "cell_type": "markdown",
   "metadata": {
    "editable": true,
    "jupyter": {
     "outputs_hidden": false
    }
   },
   "source": [
    "Similarly to multi-dimensional arrays, \n",
    "* you can **transpose** the result:"
   ]
  },
  {
   "cell_type": "code",
   "execution_count": null,
   "metadata": {
    "collapsed": false,
    "editable": true,
    "jupyter": {
     "outputs_hidden": false
    }
   },
   "outputs": [],
   "source": [
    "frame2.T"
   ]
  },
  {
   "cell_type": "code",
   "execution_count": null,
   "metadata": {},
   "outputs": [],
   "source": [
    "frame2.transpose()"
   ]
  },
  {
   "cell_type": "markdown",
   "metadata": {},
   "source": [
    "As for array, no data is actually copied when transposing\n",
    "* unless you specify it with attribute **copy**\n",
    "\n",
    "> BEWARE: A copy will be always created if the dataframe contains __mixed dtypes__"
   ]
  },
  {
   "cell_type": "code",
   "execution_count": null,
   "metadata": {},
   "outputs": [],
   "source": [
    "#Given that we have strings, integers and flaots, a copy is done no matter what\n",
    "frame2T=frame2.transpose(copy=False)\n",
    "frame2.year=frame2.year-100\n",
    "print(frame2)\n",
    "print()\n",
    "print(frame2T)"
   ]
  },
  {
   "cell_type": "code",
   "execution_count": null,
   "metadata": {},
   "outputs": [],
   "source": [
    "frame2=frame2.astype({'year': 'float64'})\n",
    "frame2.dtypes"
   ]
  },
  {
   "cell_type": "code",
   "execution_count": null,
   "metadata": {},
   "outputs": [],
   "source": [
    "frame2.drop(['state'],axis=1,inplace=True)\n",
    "frame2"
   ]
  },
  {
   "cell_type": "code",
   "execution_count": null,
   "metadata": {},
   "outputs": [],
   "source": [
    "frame2.dtypes"
   ]
  },
  {
   "cell_type": "markdown",
   "metadata": {},
   "source": [
    "We now have just floats. \n",
    "- Therefore a copy will be created only if required"
   ]
  },
  {
   "cell_type": "code",
   "execution_count": null,
   "metadata": {},
   "outputs": [],
   "source": [
    "frame2T=frame2.transpose(copy=False)\n",
    "frame2.year=frame2.year-100\n",
    "print(frame2)\n",
    "print()\n",
    "print(frame2T)"
   ]
  },
  {
   "cell_type": "markdown",
   "metadata": {},
   "source": [
    "### Indexing, selection, and filtering\n"
   ]
  },
  {
   "cell_type": "markdown",
   "metadata": {},
   "source": [
    "Indexing into a DataFrame \n",
    "- allows to retriving one or more of its columns:"
   ]
  },
  {
   "cell_type": "code",
   "execution_count": null,
   "metadata": {},
   "outputs": [],
   "source": [
    "data = pd.DataFrame(np.arange(16).reshape((4, 4)),\n",
    "                    index=['Ohio', 'Colorado', 'Utah', 'New York'],\n",
    "                    columns=['one', 'two', 'three', 'four'])\n",
    "data"
   ]
  },
  {
   "cell_type": "code",
   "execution_count": null,
   "metadata": {},
   "outputs": [],
   "source": [
    "data['two'] #retrieving one column"
   ]
  },
  {
   "cell_type": "code",
   "execution_count": null,
   "metadata": {},
   "outputs": [],
   "source": [
    "data[['three', 'one']] #retrieving two columns"
   ]
  },
  {
   "cell_type": "markdown",
   "metadata": {},
   "source": [
    "> If you select by slicing or Boolean expression, \n",
    "> - it is interpreted as a selection on __rows__"
   ]
  },
  {
   "cell_type": "code",
   "execution_count": null,
   "metadata": {},
   "outputs": [],
   "source": [
    "data[:2] #rows by slicing "
   ]
  },
  {
   "cell_type": "code",
   "execution_count": null,
   "metadata": {},
   "outputs": [],
   "source": [
    "data[ data['three'] > 5 ]  #rows by a boolean array"
   ]
  },
  {
   "cell_type": "markdown",
   "metadata": {},
   "source": [
    "#### 'Better' selection using iloc and loc"
   ]
  },
  {
   "cell_type": "markdown",
   "metadata": {},
   "source": [
    "The `iloc` field of dataframes allows to select subsets of rows and columns using NumPy-like notation\n",
    "* The iloc indexer for Pandas Dataframe is used for integer-location based indexing / selection by position.\n",
    "* `data.iloc[row selection, column selection]`\n",
    "   - column selection is optional\n",
    "   - **a bit like selections with 2-dimensional arrays seen before**"
   ]
  },
  {
   "cell_type": "code",
   "execution_count": null,
   "metadata": {},
   "outputs": [],
   "source": [
    "data"
   ]
  },
  {
   "cell_type": "code",
   "execution_count": null,
   "metadata": {},
   "outputs": [],
   "source": [
    "data.iloc[1]   # second row"
   ]
  },
  {
   "cell_type": "code",
   "execution_count": null,
   "metadata": {},
   "outputs": [],
   "source": [
    "data.iloc[-1]  # last row"
   ]
  },
  {
   "cell_type": "code",
   "execution_count": null,
   "metadata": {},
   "outputs": [],
   "source": [
    "data.iloc[:,1] # first column"
   ]
  },
  {
   "cell_type": "code",
   "execution_count": null,
   "metadata": {},
   "outputs": [],
   "source": [
    "data.iloc[:,-1] # last column"
   ]
  },
  {
   "cell_type": "code",
   "execution_count": null,
   "metadata": {},
   "outputs": [],
   "source": [
    "data"
   ]
  },
  {
   "cell_type": "markdown",
   "metadata": {},
   "source": [
    "Multiple row and column selections using iloc\n",
    "- all rows   , first two columns, \n",
    "- last 2 rows, first two columns, "
   ]
  },
  {
   "cell_type": "code",
   "execution_count": null,
   "metadata": {},
   "outputs": [],
   "source": [
    "data.iloc[:, :2] # all rows, first 2 columns"
   ]
  },
  {
   "cell_type": "code",
   "execution_count": null,
   "metadata": {},
   "outputs": [],
   "source": [
    "data.iloc[2:, :2] # rows 2,3, first 2 columns"
   ]
  },
  {
   "cell_type": "code",
   "execution_count": null,
   "metadata": {},
   "outputs": [],
   "source": [
    "data.iloc[[1, 2], [3, 0, 1]] # 2nd 3rd row,  4th 1st 2nd columns."
   ]
  },
  {
   "cell_type": "markdown",
   "metadata": {},
   "source": [
    "The `loc` indexer works similarly\n",
    "* but you use column/index names rather than positions\n",
    "    - Selecting rows by label/index\n",
    "    - Selecting rows with a boolean / conditional lookup\n",
    "* The loc indexer is used with the same syntax as iloc: `data.loc[row selection, column selection]`"
   ]
  },
  {
   "cell_type": "markdown",
   "metadata": {},
   "source": [
    "> * `loc` gets rows (and/or columns) with particular **labels**\n",
    "> * `iloc` gets rows (and/or columns) at integer **locations**"
   ]
  },
  {
   "cell_type": "code",
   "execution_count": null,
   "metadata": {},
   "outputs": [],
   "source": [
    "print(data)\n",
    "print()\n",
    "print(data.loc[['Colorado','Ohio']]) #List of labels index.\n",
    "print()\n",
    "print(data.loc[:,'one']) # first column of data frame\n",
    "print()\n",
    "\n",
    "# Multiple row and column selections using loc and DataFrame\n",
    "print(data.loc[['Colorado','Ohio'], ['one','four']])  # 'Colorado','Ohio' row + 'one','four'columns."
   ]
  },
  {
   "cell_type": "code",
   "execution_count": null,
   "metadata": {},
   "outputs": [],
   "source": [
    "data"
   ]
  },
  {
   "cell_type": "code",
   "execution_count": null,
   "metadata": {},
   "outputs": [],
   "source": [
    "data.loc['Colorado':'New York', 'two':]"
   ]
  },
  {
   "cell_type": "markdown",
   "metadata": {},
   "source": [
    "### Arithmetics and Data Alignment\n",
    "When summing 2 dataframes with different sets of indexes we get a dataframe where \n",
    "* either only entries with column-index in both dataframes exist (default)\n",
    "* all entries with column-index in at least one dataframe exist (`fill_value=0`)\n",
    "\n",
    "This is known as __data alignment__"
   ]
  },
  {
   "cell_type": "markdown",
   "metadata": {},
   "source": [
    "#### column-index must exist in both dataframes"
   ]
  },
  {
   "cell_type": "code",
   "execution_count": null,
   "metadata": {},
   "outputs": [],
   "source": [
    "df1 = pd.DataFrame(np.arange(4.).reshape((2, 2)), \n",
    "                   columns=list('ab'),\n",
    "                   index=['Texas', 'Colorado'])\n",
    "df1"
   ]
  },
  {
   "cell_type": "code",
   "execution_count": null,
   "metadata": {},
   "outputs": [],
   "source": [
    "df2 = pd.DataFrame((np.arange(3.)+4).reshape((1, 3)), \n",
    "                   columns=list('abc'),\n",
    "                   index=['Texas'])\n",
    "df2"
   ]
  },
  {
   "cell_type": "code",
   "execution_count": null,
   "metadata": {},
   "outputs": [],
   "source": [
    "df1 + df2"
   ]
  },
  {
   "cell_type": "markdown",
   "metadata": {},
   "source": [
    "#### column-index must exist in one dataframe"
   ]
  },
  {
   "cell_type": "markdown",
   "metadata": {},
   "source": [
    "If you want to see **Colorado** in the result\n",
    "- You can fill a **default value**"
   ]
  },
  {
   "cell_type": "code",
   "execution_count": null,
   "metadata": {},
   "outputs": [],
   "source": [
    "df1.add(df2, fill_value=0)"
   ]
  },
  {
   "cell_type": "code",
   "execution_count": null,
   "metadata": {},
   "outputs": [],
   "source": [
    "df1.add(df2, fill_value=100)"
   ]
  },
  {
   "cell_type": "markdown",
   "metadata": {},
   "source": [
    "> `Colorado,c` remains NA because it does not appear in any dataframe"
   ]
  },
  {
   "cell_type": "markdown",
   "metadata": {},
   "source": [
    "### NumyPy & function application and mapping"
   ]
  },
  {
   "cell_type": "markdown",
   "metadata": {},
   "source": [
    "#### A digression on `lambda` functions"
   ]
  },
  {
   "cell_type": "markdown",
   "metadata": {},
   "source": [
    "__[Lambda functions](https://www.w3schools.com/python/python_lambda.asp)__: in some cases, it might be convenient to define on-the-fly anonymous simple functions\n",
    "* __anonymous__: the function has no name\n",
    "* __simple__: the function can consist only of one expression\n",
    "\n",
    "A lambda function computes the sum of two numbers: \n",
    "- `lambda a, b: a+b`"
   ]
  },
  {
   "cell_type": "markdown",
   "metadata": {},
   "source": [
    "Recall:\n",
    "- Everything in python is an object, also (lambda) functions\n",
    "  - You can assign them to variables\n",
    "  - You can pass them as parameters"
   ]
  },
  {
   "cell_type": "code",
   "execution_count": null,
   "metadata": {},
   "outputs": [],
   "source": [
    "my_lfun = lambda a, b: a+b\n",
    "print(type(my_lfun))\n",
    "my_lfun(1,2)"
   ]
  },
  {
   "cell_type": "code",
   "execution_count": null,
   "metadata": {},
   "outputs": [],
   "source": [
    "def expression_evaluator(f,n1,n2):\n",
    "    print('The result is',f(n1,n2))\n",
    "\n",
    "expression_evaluator(lambda a, b: a+b, 1,2)\n",
    "expression_evaluator(lambda a, b: a*b, 1,2)"
   ]
  },
  {
   "cell_type": "markdown",
   "metadata": {},
   "source": [
    "A lambda function is really nothing more than a simple function without name\n",
    "* Why should we use them then?\n",
    "* Due to syntactic limiations regarding `def`\n",
    "\n",
    "There are places where `def` cannot be used:\n",
    "* In arguments of functions or in return statements\n",
    "\n",
    "Lambda expressions can help you avoiding annoying workarounds\n",
    "* In the end, it is mostly syntactic sugar"
   ]
  },
  {
   "cell_type": "markdown",
   "metadata": {},
   "source": [
    "An interesing feature related to lambda functions are\n",
    "- Python closurses to *attach data to code*"
   ]
  },
  {
   "cell_type": "code",
   "execution_count": null,
   "metadata": {},
   "outputs": [],
   "source": [
    "# Python closures and lambda expressions\n",
    "#    We attach data to code\n",
    "def myfunc(n):\n",
    "    return lambda a : a * n\n",
    "\n",
    "mydoubler = myfunc(2)\n",
    "mytripler = myfunc(3)\n",
    "\n",
    "print(mydoubler(11))\n",
    "print(mytripler(11))"
   ]
  },
  {
   "cell_type": "code",
   "execution_count": null,
   "metadata": {},
   "outputs": [],
   "source": [
    "#This cannot be done\n",
    "# def myfunc(n):\n",
    "#   return def aaa(a) :\n",
    "#             a * n            "
   ]
  },
  {
   "cell_type": "markdown",
   "metadata": {},
   "source": [
    "However you can do"
   ]
  },
  {
   "cell_type": "code",
   "execution_count": null,
   "metadata": {},
   "outputs": [],
   "source": [
    "def myfunc(n):\n",
    "    def myinnerfunc(a) : \n",
    "        return a * n\n",
    "    return myinnerfunc\n",
    "\n",
    "mydoubler2 = myfunc(2)\n",
    "mytripler2 = myfunc(3)\n",
    "\n",
    "print(mydoubler(11))\n",
    "print(mytripler(11))"
   ]
  },
  {
   "cell_type": "markdown",
   "metadata": {},
   "source": [
    "Lambda functions are typically used in conjunction with\n",
    "* __map__: applies a given function to each element in a sequence\n",
    "* __filter__: applies a Boolean function to each element in a sequence, and returns only those evaluated to `true`\n",
    "* __reduce__: applies cumulatively a given function to the elements in a sequence, and return the cumulative result\n",
    "\n",
    "Some examples and interesting discussions on lambdas, map, filter, and reduce can be found at:\n",
    "* [Reference 1](https://book.pythontips.com/en/latest/map_filter.html#map-filter-and-reduce)\n",
    "* [Reference 2](https://www.learnpython.org/en/Map,_Filter,_Reduce)\n",
    "\n",
    "Here we see how lambda functions allow to \n",
    "- _enrich_ the set of functions applicable to DataFrames\n",
    "- apply _compactly_ complex functions to DataFrames"
   ]
  },
  {
   "cell_type": "markdown",
   "metadata": {},
   "source": [
    "#### Function application and mapping\n",
    "NumPy [ufuncs](https://www.w3schools.com/python/numpy_ufunc.asp) \n",
    "- element-wise array functions\n",
    "- work fine also with pandas objects"
   ]
  },
  {
   "cell_type": "code",
   "execution_count": null,
   "metadata": {},
   "outputs": [],
   "source": [
    "frame = pd.DataFrame(np.random.randn(4, 3), columns=list('bde'),\n",
    "                     index=['Utah', 'Ohio', 'Texas', 'Oregon'])\n",
    "frame"
   ]
  },
  {
   "cell_type": "code",
   "execution_count": null,
   "metadata": {},
   "outputs": [],
   "source": [
    "np.abs(frame)"
   ]
  },
  {
   "cell_type": "markdown",
   "metadata": {},
   "source": [
    "But you can also apply any function thought for 1d arrays to each column or row."
   ]
  },
  {
   "cell_type": "code",
   "execution_count": null,
   "metadata": {},
   "outputs": [],
   "source": [
    "my_abs = lambda arr: arr.abs()\n",
    "frame.apply(my_abs)"
   ]
  },
  {
   "cell_type": "code",
   "execution_count": null,
   "metadata": {
    "collapsed": false,
    "editable": true,
    "jupyter": {
     "outputs_hidden": false
    }
   },
   "outputs": [],
   "source": [
    "f = lambda arr: arr.abs() * 2\n",
    "frame.apply(f)"
   ]
  },
  {
   "cell_type": "code",
   "execution_count": null,
   "metadata": {},
   "outputs": [],
   "source": [
    "f = lambda arr: arr.max()\n",
    "frame.apply(f)"
   ]
  },
  {
   "cell_type": "code",
   "execution_count": null,
   "metadata": {
    "collapsed": false,
    "editable": true,
    "jupyter": {
     "outputs_hidden": false
    }
   },
   "outputs": [],
   "source": [
    "frame.apply(f, axis='columns')"
   ]
  },
  {
   "cell_type": "markdown",
   "metadata": {},
   "source": [
    "Element-wise Python functions can be used as well\n",
    "- [`applymap`](https://pandas.pydata.org/pandas-docs/stable/reference/api/pandas.DataFrame.applymap.html) applies a function that accepts and returns a scalar to every element of a DataFrame\n",
    "- `map` can be used to obtain same result for series"
   ]
  },
  {
   "cell_type": "code",
   "execution_count": null,
   "metadata": {},
   "outputs": [],
   "source": [
    "frame"
   ]
  },
  {
   "cell_type": "code",
   "execution_count": null,
   "metadata": {
    "collapsed": false,
    "editable": true,
    "jupyter": {
     "outputs_hidden": false
    }
   },
   "outputs": [],
   "source": [
    "times_ten = lambda x: x*10\n",
    "frame.applymap(times_ten)"
   ]
  },
  {
   "cell_type": "code",
   "execution_count": null,
   "metadata": {
    "collapsed": false,
    "editable": true,
    "jupyter": {
     "outputs_hidden": false
    }
   },
   "outputs": [],
   "source": [
    "frame['e'].map(times_ten)"
   ]
  },
  {
   "cell_type": "markdown",
   "metadata": {
    "editable": true
   },
   "source": [
    "### Sorting\n",
    "To sort\n",
    "lexicographically by row or column index, use the `sort_index` method, \n",
    "- which returns a new, sorted object:"
   ]
  },
  {
   "cell_type": "code",
   "execution_count": null,
   "metadata": {
    "collapsed": false,
    "editable": true,
    "jupyter": {
     "outputs_hidden": false
    }
   },
   "outputs": [],
   "source": [
    "obj = pd.Series(range(4), index=['d', 'a', 'b', 'c'])\n",
    "obj"
   ]
  },
  {
   "cell_type": "code",
   "execution_count": null,
   "metadata": {},
   "outputs": [],
   "source": [
    "obj.sort_index()"
   ]
  },
  {
   "cell_type": "code",
   "execution_count": null,
   "metadata": {
    "collapsed": false,
    "editable": true,
    "jupyter": {
     "outputs_hidden": false
    }
   },
   "outputs": [],
   "source": [
    "frame = pd.DataFrame(np.arange(9).reshape((3, 3)),\n",
    "                     index=['three', 'two','one'],\n",
    "                     columns=['c', 'a', 'b'])\n",
    "frame"
   ]
  },
  {
   "cell_type": "code",
   "execution_count": null,
   "metadata": {},
   "outputs": [],
   "source": [
    "frame.sort_index() # sorting by the index"
   ]
  },
  {
   "cell_type": "code",
   "execution_count": null,
   "metadata": {},
   "outputs": [],
   "source": [
    "frame.sort_index(axis=1,ascending=False) #  sorting  by column index  in descending order"
   ]
  },
  {
   "cell_type": "markdown",
   "metadata": {},
   "source": [
    "We saw how to sort according to the 'name' of the index or of the column\n",
    "\n",
    "If you want to **sort according to the values** in the dataframe you should use\n",
    "- [sort_values](https://pandas.pydata.org/pandas-docs/stable/reference/api/pandas.DataFrame.sort_values.html)"
   ]
  },
  {
   "cell_type": "code",
   "execution_count": null,
   "metadata": {},
   "outputs": [],
   "source": [
    "frame"
   ]
  },
  {
   "cell_type": "code",
   "execution_count": null,
   "metadata": {},
   "outputs": [],
   "source": [
    "frame.sort_values(by='b',ascending=False)"
   ]
  },
  {
   "cell_type": "markdown",
   "metadata": {
    "editable": true
   },
   "source": [
    "### Summarizing and Computing Descriptive Statistics\n",
    "Series and Dataframes offer methods for computing mathematical/statistical methods. \n",
    "* Most of these are reductions or summary statistics, \n",
    "  * methods that compute\n",
    "    * For Series: a single value (e.g. sum or mean) \n",
    "    * For DataFrames: a Series of values from the rows or columns. "
   ]
  },
  {
   "cell_type": "code",
   "execution_count": null,
   "metadata": {
    "collapsed": false,
    "editable": true,
    "jupyter": {
     "outputs_hidden": false
    }
   },
   "outputs": [],
   "source": [
    "df = pd.DataFrame([[1.4, np.nan], [7.1, -4.5],\n",
    "                   [np.nan, np.nan], [0.75, -1.3]],\n",
    "                  index=['a', 'b', 'c', 'd'],\n",
    "                  columns=['one', 'two'])\n",
    "df"
   ]
  },
  {
   "cell_type": "code",
   "execution_count": null,
   "metadata": {
    "collapsed": false,
    "editable": true,
    "jupyter": {
     "outputs_hidden": false
    }
   },
   "outputs": [],
   "source": [
    "df.sum(axis='columns')"
   ]
  },
  {
   "cell_type": "code",
   "execution_count": null,
   "metadata": {
    "editable": true
   },
   "outputs": [],
   "source": [
    "df.sum()"
   ]
  },
  {
   "cell_type": "markdown",
   "metadata": {},
   "source": [
    "Note that NaN are ignored\n",
    "* `9.25/3 = 3.083333`"
   ]
  },
  {
   "cell_type": "code",
   "execution_count": null,
   "metadata": {},
   "outputs": [],
   "source": [
    "df.mean()"
   ]
  },
  {
   "cell_type": "markdown",
   "metadata": {},
   "source": [
    "idxmin and idxmax, return \n",
    "* the index containing the minimum or maximum values"
   ]
  },
  {
   "cell_type": "code",
   "execution_count": null,
   "metadata": {},
   "outputs": [],
   "source": [
    "df"
   ]
  },
  {
   "cell_type": "code",
   "execution_count": null,
   "metadata": {
    "collapsed": false,
    "editable": true,
    "jupyter": {
     "outputs_hidden": false
    }
   },
   "outputs": [],
   "source": [
    "df.idxmax()"
   ]
  },
  {
   "cell_type": "code",
   "execution_count": null,
   "metadata": {},
   "outputs": [],
   "source": [
    "df.idxmin()"
   ]
  },
  {
   "cell_type": "markdown",
   "metadata": {},
   "source": [
    "The method `describe` computes a number of summary statistics in one shot:"
   ]
  },
  {
   "cell_type": "code",
   "execution_count": null,
   "metadata": {
    "editable": true
   },
   "outputs": [],
   "source": [
    "df.describe() #Compute set of summary statistics for Series or each DataFrame column"
   ]
  },
  {
   "cell_type": "markdown",
   "metadata": {
    "editable": true
   },
   "source": [
    " ### Value Counts, Membership and Missing Data\n",
    " Another class of related methods extracts information about the values contained in a\n",
    "one-dimensional Series. "
   ]
  },
  {
   "cell_type": "code",
   "execution_count": null,
   "metadata": {},
   "outputs": [],
   "source": [
    "df = pd.DataFrame([['a', 'b'], [np.nan, 'a'],\n",
    "                   ['b', 'b'], ['a', 'b']],\n",
    "                  index=[1,2,3,4],\n",
    "                  columns=['one', 'two'])\n",
    "\n",
    "df"
   ]
  },
  {
   "cell_type": "code",
   "execution_count": null,
   "metadata": {},
   "outputs": [],
   "source": [
    "df.two.unique() # unique, which gives you an array of the unique values in a Series"
   ]
  },
  {
   "cell_type": "code",
   "execution_count": null,
   "metadata": {},
   "outputs": [],
   "source": [
    "df.two.value_counts() # computes a Series containing value frequencies:"
   ]
  },
  {
   "cell_type": "markdown",
   "metadata": {},
   "source": [
    "`isin` is responsible for \n",
    "- vectorized set membership "
   ]
  },
  {
   "cell_type": "code",
   "execution_count": null,
   "metadata": {},
   "outputs": [],
   "source": [
    "df.one"
   ]
  },
  {
   "cell_type": "code",
   "execution_count": null,
   "metadata": {},
   "outputs": [],
   "source": [
    "df.one[df.one.isin(['b', 'a'])]"
   ]
  },
  {
   "cell_type": "code",
   "execution_count": null,
   "metadata": {},
   "outputs": [],
   "source": [
    "df.one[df.one.isin(['b'])]"
   ]
  },
  {
   "cell_type": "markdown",
   "metadata": {},
   "source": [
    "In certain cases, you might want to **filter out missing data**\n",
    "- You can use [`dropna`](https://www.w3resource.com/pandas/dataframe/dataframe-dropna.php) to drop rows with at least one NAN\n",
    "- Or columns with at least one NAN using `dropna(axis='columns')`"
   ]
  },
  {
   "cell_type": "code",
   "execution_count": null,
   "metadata": {},
   "outputs": [],
   "source": [
    "df"
   ]
  },
  {
   "cell_type": "code",
   "execution_count": null,
   "metadata": {},
   "outputs": [],
   "source": [
    "df.dropna()"
   ]
  },
  {
   "cell_type": "code",
   "execution_count": null,
   "metadata": {},
   "outputs": [],
   "source": [
    "df.dropna(axis='columns')"
   ]
  },
  {
   "cell_type": "markdown",
   "metadata": {},
   "source": [
    "### Concatenate, Merge, Join\n",
    "Sometimes we don't have just 1 dataframe, \n",
    "- but more that we want to combine in different ways\n",
    "\n",
    "Pandas provides various facilities for easily combining together DataFrames"
   ]
  },
  {
   "cell_type": "markdown",
   "metadata": {},
   "source": [
    "#### Concatenating Along an Axis\n",
    "If we have dataframes representing _chunks_ of data with same structure \n",
    "- e.g., sets of rows of a table\n",
    "- we can use `concat` to concatenate their rows\n",
    "  - many more options [exist](https://pandas.pydata.org/pandas-docs/stable/user_guide/merging.html)."
   ]
  },
  {
   "cell_type": "code",
   "execution_count": null,
   "metadata": {},
   "outputs": [],
   "source": [
    "df1 = pd.DataFrame({'A': ['A0', 'A1', 'A2', 'A3'],\n",
    "                    'B': ['B0', 'B1', 'B2', 'B3'],\n",
    "                    'C': ['C0', 'C1', 'C2', 'C3'],\n",
    "                    'D': ['D0', 'D1', 'D2', 'D3']},\n",
    "                    index=[0, 1, 2, 3])\n",
    " \n",
    "df2 = pd.DataFrame({'A': ['A4', 'A5', 'A6', 'A7'],\n",
    "                    'B': ['B4', 'B5', 'B6', 'B7'],\n",
    "                    'C': ['C4', 'C5', 'C6', 'C7'],\n",
    "                    'D': ['D4', 'D5', 'D6', 'D7']},\n",
    "                    index=[4, 5, 6, 7])\n",
    "\n",
    "\n",
    "df3 = pd.DataFrame({'A': ['A8', 'A9', 'A10', 'A11'],\n",
    "                    'B': ['B8', 'B9', 'B10', 'B11'],\n",
    "                    'C': ['C8', 'C9', 'C10', 'C11'],\n",
    "                    'D': ['D8', 'D9', 'D10', 'D11']},\n",
    "                    index=[8, 9, 10, 11])\n",
    " \n",
    "\n",
    "frames = [df1, df2, df3]\n",
    "\n",
    "result = pd.concat(frames, axis=0)\n",
    "result"
   ]
  },
  {
   "cell_type": "markdown",
   "metadata": {},
   "source": [
    "Note, you might need to sort the resulting dataframe"
   ]
  },
  {
   "cell_type": "code",
   "execution_count": null,
   "metadata": {},
   "outputs": [],
   "source": [
    "frames = [df2, df1, df3]\n",
    "\n",
    "result = pd.concat(frames, axis=0)\n",
    "result"
   ]
  },
  {
   "cell_type": "code",
   "execution_count": null,
   "metadata": {},
   "outputs": [],
   "source": [
    "result.sort_index()"
   ]
  },
  {
   "cell_type": "markdown",
   "metadata": {},
   "source": [
    "What if some rows have same index?\n",
    "- You get more rows with same index! "
   ]
  },
  {
   "cell_type": "code",
   "execution_count": null,
   "metadata": {},
   "outputs": [],
   "source": [
    "frames = [df2, df2]\n",
    "result = pd.concat(frames, axis=0)\n",
    "result"
   ]
  },
  {
   "cell_type": "code",
   "execution_count": null,
   "metadata": {},
   "outputs": [],
   "source": [
    "result.loc[4]"
   ]
  },
  {
   "cell_type": "markdown",
   "metadata": {},
   "source": [
    "If you want to avoid this:\n",
    "- Reset the index afterwards `result.reset_index()`\n",
    "- Change the index of one of the two before concatenating\n",
    "\n",
    "But, in general, we suggest to use conact only if this case does not arise.\n",
    "> Indeed, it is useful to split first a big dtaframe, working on the single parts and putting them back together"
   ]
  },
  {
   "cell_type": "markdown",
   "metadata": {},
   "source": [
    "Thanks to __data alignment__, you can also concatenate dataframe with \n",
    "- __not perfectly matching structure__"
   ]
  },
  {
   "cell_type": "code",
   "execution_count": null,
   "metadata": {},
   "outputs": [],
   "source": [
    "df2['E']= ['E8', 'E9', 'E10', 'E11']\n",
    "df2.drop(['D'],axis=1,inplace=True)\n",
    "print('df2\\n',df2)\n",
    "\n",
    "frames = [df1, df2, df3]\n",
    "\n",
    "result = pd.concat(frames, axis=0)\n",
    "result"
   ]
  },
  {
   "cell_type": "markdown",
   "metadata": {},
   "source": [
    "#### Database-style merging and joining"
   ]
  },
  {
   "cell_type": "markdown",
   "metadata": {},
   "source": [
    "Dimensions in combining dataframes\n",
    "- `concat` combines dataframes _vertically_\n",
    "   - we put together _rows_\n",
    "   - but we can also add columns specifying `axis`\n",
    "- [`merge` and `join`](https://pandas.pydata.org/pandas-docs/stable/user_guide/merging.html) combine dataframes _horizontally_\n",
    "   - we put together _columns_   \n",
    "   \n",
    "Some examples below were taken from [here](https://pandas.pydata.org/pandas-docs/stable/user_guide/merging.html)"
   ]
  },
  {
   "cell_type": "markdown",
   "metadata": {},
   "source": [
    "##### Merge"
   ]
  },
  {
   "cell_type": "markdown",
   "metadata": {},
   "source": [
    "`Merge` operations combine datasets by \n",
    "- Linking rows using one or more keys (i.e. columns).\n",
    "- These operations are central to relational databases. \n",
    "  - After all, dataframes are tables ..."
   ]
  },
  {
   "cell_type": "markdown",
   "metadata": {},
   "source": [
    "Let's look at an example of `merge`"
   ]
  },
  {
   "cell_type": "code",
   "execution_count": null,
   "metadata": {},
   "outputs": [],
   "source": [
    "left = pd.DataFrame({'key': ['K0', 'K1', 'K2', 'K3'],\n",
    "                     'A': ['A0', 'A1', 'A2', 'A3'],\n",
    "                     'B': ['B0', 'B1', 'B2', 'B3']})\n",
    "\n",
    "\n",
    "right = pd.DataFrame({'key': ['K0', 'K0', 'K2', 'K2'],\n",
    "                      'C': ['C0', 'C1', 'C2', 'C3'],\n",
    "                      'D': ['D0', 'D1', 'D2', 'D3']})\n",
    "left"
   ]
  },
  {
   "cell_type": "code",
   "execution_count": null,
   "metadata": {},
   "outputs": [],
   "source": [
    "right"
   ]
  },
  {
   "cell_type": "markdown",
   "metadata": {},
   "source": [
    "We want to obtain a dataframe with columns `key` and `A` to `D`, combining rows \n",
    "- with same value of `key`"
   ]
  },
  {
   "cell_type": "code",
   "execution_count": null,
   "metadata": {},
   "outputs": [],
   "source": [
    "pd.merge(left, right,  how='inner', on='key')"
   ]
  },
  {
   "cell_type": "code",
   "execution_count": null,
   "metadata": {},
   "outputs": [],
   "source": [
    "pd.merge(left, right,  how='outer', on='key')"
   ]
  },
  {
   "cell_type": "code",
   "execution_count": null,
   "metadata": {},
   "outputs": [],
   "source": [
    "pd.merge(left, right,  how='left', on='key')"
   ]
  },
  {
   "cell_type": "markdown",
   "metadata": {},
   "source": [
    "- The _how_ argument determines which keys are to be included in the resulting table\n",
    "\n",
    "|  Merge method |Description  |\n",
    "|---|---|\n",
    "|  left |  Use keys from left frame only |  \n",
    "|  right |  Use keys from right frame only |  \n",
    "|  outer |  Use union of keys from both frames |  \n",
    "|  inner (default) | Use intersection of keys from both frames  |  \n",
    "\n",
    "\n",
    "Instead, _on_ specifies the Column to join on. \n",
    "- This must appear in both combined DataFrames"
   ]
  },
  {
   "cell_type": "markdown",
   "metadata": {},
   "source": [
    "What if you want to ignore certain columns? "
   ]
  },
  {
   "cell_type": "code",
   "execution_count": null,
   "metadata": {},
   "outputs": [],
   "source": [
    "pd.merge(left, right,  how='inner', on='key')"
   ]
  },
  {
   "cell_type": "code",
   "execution_count": null,
   "metadata": {},
   "outputs": [],
   "source": [
    "right"
   ]
  },
  {
   "cell_type": "code",
   "execution_count": null,
   "metadata": {},
   "outputs": [],
   "source": [
    "pd.merge(left, right[['key','C']],  how='inner', on='key')"
   ]
  },
  {
   "cell_type": "markdown",
   "metadata": {},
   "source": [
    "##### Join"
   ]
  },
  {
   "cell_type": "markdown",
   "metadata": {},
   "source": [
    "Pandas exposes another method for applying merge-like operations\n",
    "- **join**\n",
    "\n",
    "Both `merge` and `join` are based on a common inner method.\n",
    "- join could be useful in [specific cases](https://stackoverflow.com/questions/22676081/what-is-the-difference-between-join-and-merge-in-pandas)"
   ]
  },
  {
   "cell_type": "markdown",
   "metadata": {},
   "source": [
    "# Simple application to Italian COVID data - load/manipulate remote CSV file"
   ]
  },
  {
   "cell_type": "code",
   "execution_count": null,
   "metadata": {
    "tags": []
   },
   "outputs": [],
   "source": [
    "import pandas as pd "
   ]
  },
  {
   "cell_type": "markdown",
   "metadata": {},
   "source": [
    "Using Python and pandas, it is easy to read data from text files\n",
    "\n",
    "One convenient feature is __type inference__\n",
    "* You don’t need to specify which columns are numeric, integer, boolean, or string. \n",
    "* Handling dates and other custom types requires a bit more effort, though. "
   ]
  },
  {
   "cell_type": "markdown",
   "metadata": {},
   "source": [
    "Let us consider the national-level Italian COVID CSV data collected by Protezione civile\n",
    "* It is distributed as a CSV file in a [GitHub repository](https://github.com/pcm-dpc/COVID-19/)\n",
    "* You also find a local copy downloaded on 26/01/2021 in our wiki (follow the link dataset from the right-menu)\n",
    "\n",
    "Let's read one such _remote_ CSV file into a DataFrame\n",
    "* __You just need 1 instruction__"
   ]
  },
  {
   "cell_type": "code",
   "execution_count": null,
   "metadata": {},
   "outputs": [],
   "source": [
    "#Load delimited data from a file, URL, or file-like object. Use comma as default delimiter\n",
    "covid_data = pd.read_csv('https://raw.githubusercontent.com/pcm-dpc/COVID-19/master/dati-andamento-nazionale/dpc-covid19-ita-andamento-nazionale.csv')"
   ]
  },
  {
   "cell_type": "code",
   "execution_count": null,
   "metadata": {},
   "outputs": [],
   "source": [
    "covid_data.head()"
   ]
  },
  {
   "cell_type": "code",
   "execution_count": null,
   "metadata": {},
   "outputs": [],
   "source": [
    "covid_data.tail()"
   ]
  },
  {
   "cell_type": "code",
   "execution_count": null,
   "metadata": {},
   "outputs": [],
   "source": [
    "covid_data.info()"
   ]
  },
  {
   "cell_type": "code",
   "execution_count": null,
   "metadata": {},
   "outputs": [],
   "source": [
    "covid_data['data']"
   ]
  },
  {
   "cell_type": "code",
   "execution_count": null,
   "metadata": {},
   "outputs": [],
   "source": [
    "covid_data.data"
   ]
  },
  {
   "cell_type": "code",
   "execution_count": null,
   "metadata": {},
   "outputs": [],
   "source": [
    "covid_data.iloc[0]"
   ]
  },
  {
   "cell_type": "code",
   "execution_count": null,
   "metadata": {},
   "outputs": [],
   "source": [
    "covid_data.iloc[-1]"
   ]
  },
  {
   "cell_type": "code",
   "execution_count": null,
   "metadata": {},
   "outputs": [],
   "source": [
    "#Get the last day in the CSV file\n",
    "last_day = covid_data['data'].iloc[-1]\n",
    "last_day"
   ]
  },
  {
   "cell_type": "markdown",
   "metadata": {},
   "source": [
    "Using DataFrame’s to_csv method, we can write the data out to a comma-separated file\n",
    "* Let's create a CSV file containing only the data about the latest day"
   ]
  },
  {
   "cell_type": "code",
   "execution_count": null,
   "metadata": {},
   "outputs": [],
   "source": [
    "print(covid_data.data == last_day) # Evaluates to True for the rows that satisfy this guard\n",
    "cov_regions_last_day = covid_data[covid_data.data == last_day] # Get all the rows that satisfy the guard above\n",
    "cov_regions_last_day"
   ]
  },
  {
   "cell_type": "code",
   "execution_count": null,
   "metadata": {},
   "outputs": [],
   "source": [
    "cov_regions_last_day.to_csv('covid_lastday.csv')"
   ]
  },
  {
   "cell_type": "markdown",
   "metadata": {},
   "source": [
    "Or, more compactly"
   ]
  },
  {
   "cell_type": "code",
   "execution_count": null,
   "metadata": {},
   "outputs": [],
   "source": [
    "covid_data[covid_data.data == covid_data['data'].iloc[-1]].to_csv('covid_lastday_b.csv')"
   ]
  },
  {
   "cell_type": "code",
   "execution_count": null,
   "metadata": {},
   "outputs": [],
   "source": [
    "covid_data[covid_data['ricoverati_con_sintomi'] > 10000].to_csv('covid_more_than_10k.csv')"
   ]
  },
  {
   "cell_type": "code",
   "execution_count": null,
   "metadata": {},
   "outputs": [],
   "source": [
    "covid_data[covid_data['ricoverati_con_sintomi'] > 25000].to_csv('covid_more_than_25k.csv')"
   ]
  },
  {
   "cell_type": "markdown",
   "metadata": {
    "editable": true
   },
   "source": [
    "# Simple application to Yahoo! Finance stock prices - %change, correlation\n",
    "Let’s consider some DataFrames of stock prices obtained from\n",
    "Yahoo! Finance:"
   ]
  },
  {
   "cell_type": "code",
   "execution_count": null,
   "metadata": {},
   "outputs": [],
   "source": [
    "# install Yahoo! Finance market data downloader for Pandas\n",
    "import sys \n",
    "!\"{sys.executable}\" -m pip install -U pandas_datareader #convenient package for accessing online data (mostly finance-related)\n",
    "# !{sys.executable} -m pip install matplotlib #'the' pyhton package for creating plots \n",
    "!\"{sys.executable}\" -m pip install Jinja2 # Helps formatting strings with HTML and CSS.\n",
    "\n",
    "\n",
    "import pandas_datareader.data as web\n",
    "\n",
    "# Visualizzation libs\n",
    "#keeps the plots in one place. calls image as static pngs\n",
    "#%matplotlib inline \n",
    "import matplotlib.pyplot as plt #MATLAB-like plotting framework."
   ]
  },
  {
   "cell_type": "markdown",
   "metadata": {},
   "source": [
    "Do you know dictionary comprehensions?"
   ]
  },
  {
   "cell_type": "code",
   "execution_count": null,
   "metadata": {
    "editable": true
   },
   "outputs": [],
   "source": [
    "all_data = {ticker: web.get_data_yahoo(ticker)\n",
    "            for ticker in ['AAPL', 'IBM', 'MSFT', 'GOOG']}\n",
    "all_data['AAPL']"
   ]
  },
  {
   "cell_type": "markdown",
   "metadata": {},
   "source": [
    "Let us collect only the [_adjusted stock price_](https://www.investopedia.com/terms/a/adjusted_closing_price.asp) for each company"
   ]
  },
  {
   "cell_type": "code",
   "execution_count": null,
   "metadata": {},
   "outputs": [],
   "source": [
    "price = pd.DataFrame({ticker: data['Adj Close'] for ticker, data in all_data.items()})\n",
    "price.head()"
   ]
  },
  {
   "cell_type": "code",
   "execution_count": null,
   "metadata": {},
   "outputs": [],
   "source": [
    "price.tail()"
   ]
  },
  {
   "cell_type": "markdown",
   "metadata": {},
   "source": [
    "Now, creating a simple plot of the dataframe takes only 1 line"
   ]
  },
  {
   "cell_type": "code",
   "execution_count": null,
   "metadata": {},
   "outputs": [],
   "source": [
    "# plotting price dataframe. \n",
    "price.plot(figsize=(15,5))"
   ]
  },
  {
   "cell_type": "markdown",
   "metadata": {},
   "source": [
    "In stock-markets, often one is interested in the _percent changes of the prices_\n",
    "* % change from previous value\n",
    "\n",
    "Let us compute it\n",
    "- Actually, __let us ask Pandas to compute it__ for us!\n",
    "- Method `pct_change()` does precisely this\n",
    "  - Computes the percentage change from the immediately previous row by default. \n",
    "  - This is useful in comparing the percentage of change in a time series of elements."
   ]
  },
  {
   "cell_type": "code",
   "execution_count": null,
   "metadata": {
    "collapsed": false,
    "editable": true,
    "jupyter": {
     "outputs_hidden": false
    }
   },
   "outputs": [],
   "source": [
    "returns = price.pct_change() \n",
    "returns.tail()"
   ]
  },
  {
   "cell_type": "code",
   "execution_count": null,
   "metadata": {},
   "outputs": [],
   "source": [
    "returns.plot(figsize=(15,5))"
   ]
  },
  {
   "cell_type": "markdown",
   "metadata": {},
   "source": [
    "Can I smooth the data using moving averages/window averages?"
   ]
  },
  {
   "cell_type": "code",
   "execution_count": null,
   "metadata": {},
   "outputs": [],
   "source": [
    "returns_smooth=returns.rolling(15).sum()\n",
    "returns_smooth"
   ]
  },
  {
   "cell_type": "code",
   "execution_count": null,
   "metadata": {},
   "outputs": [],
   "source": [
    "returns_smooth.plot(figsize=(15,5))"
   ]
  },
  {
   "cell_type": "code",
   "execution_count": null,
   "metadata": {},
   "outputs": [],
   "source": []
  },
  {
   "cell_type": "markdown",
   "metadata": {},
   "source": [
    "DataFrames offer two methods for computing \n",
    "* the correlation among the elements in the DataFrame (`corr`)\n",
    "* the covariance matrix of the DataFrame (`cov`)"
   ]
  },
  {
   "cell_type": "code",
   "execution_count": null,
   "metadata": {},
   "outputs": [],
   "source": [
    "returns"
   ]
  },
  {
   "cell_type": "code",
   "execution_count": null,
   "metadata": {
    "collapsed": false,
    "editable": true,
    "jupyter": {
     "outputs_hidden": false
    }
   },
   "outputs": [],
   "source": [
    "returns.corr()"
   ]
  },
  {
   "cell_type": "code",
   "execution_count": null,
   "metadata": {},
   "outputs": [],
   "source": [
    "returns.corr().style.background_gradient(cmap='Reds')"
   ]
  },
  {
   "cell_type": "code",
   "execution_count": null,
   "metadata": {},
   "outputs": [],
   "source": [
    "returns.cov()"
   ]
  },
  {
   "cell_type": "code",
   "execution_count": null,
   "metadata": {},
   "outputs": [],
   "source": [
    "returns.cov().style.background_gradient(cmap='Reds')"
   ]
  },
  {
   "cell_type": "markdown",
   "metadata": {},
   "source": [
    "# More complex application to Italian COVID data - Advanced Plotting\n",
    "Pandas offers a number of plotting methods for DataFrame objects"
   ]
  },
  {
   "cell_type": "markdown",
   "metadata": {},
   "source": [
    "The Italian Civil Protection Department publishes everyday [data on the status of the COVID-19 epidemy in Italy](https://github.com/pcm-dpc/COVID-19)\n",
    "\n",
    "The repository contains trend data of the COVID'19 pandemic in Italy\n",
    "- ‘dati-andamento-nazionale’ (national-level), \n",
    "- ‘dati-regioni’ (regional-level),\n",
    "- ‘dati-province’ (province-level) "
   ]
  },
  {
   "cell_type": "code",
   "execution_count": null,
   "metadata": {},
   "outputs": [],
   "source": [
    "import numpy as np\n",
    "import pandas as pd \n",
    "import matplotlib.pyplot as plt\n",
    "#import warnings\n",
    "#warnings.filterwarnings(\"ignore\")"
   ]
  },
  {
   "cell_type": "markdown",
   "metadata": {},
   "source": [
    "## Line Plots\n",
    "Series and DataFrame each have a plot method for making many different types of plots\n",
    "* By default, they make line plots "
   ]
  },
  {
   "cell_type": "markdown",
   "metadata": {},
   "source": [
    "Let's load again the national-level COVID'19 data\n",
    "- We set the date (`data`) as the index column\n",
    "- We tell pandas to interpret such column as a datetime type"
   ]
  },
  {
   "cell_type": "code",
   "execution_count": null,
   "metadata": {},
   "outputs": [],
   "source": [
    "# load data relating to the national trend of SARS-CoV-2 spread on Pandas DataFrame\n",
    "url_dpc_nazionale = 'https://raw.githubusercontent.com/pcm-dpc/COVID-19/master/dati-andamento-nazionale/dpc-covid19-ita-andamento-nazionale.csv'\n",
    "covid_italy = pd.read_csv(url_dpc_nazionale, index_col='data')\n",
    "covid_italy.tail()"
   ]
  },
  {
   "cell_type": "code",
   "execution_count": null,
   "metadata": {},
   "outputs": [],
   "source": [
    "print(covid_italy.index)\n",
    "covid_italy.index = pd.to_datetime(covid_italy.index) # converts 'data' column from object to datatime type\n",
    "#covid_italy.tail()\n",
    "print()\n",
    "print(covid_italy.index)"
   ]
  },
  {
   "cell_type": "markdown",
   "metadata": {},
   "source": [
    "Let us focucs only on\n",
    "- currently infected (`totale_positivi`)\n",
    "- overall recovered (`dimessi_guariti`)\n",
    "- overall deceased (`deceduti`)"
   ]
  },
  {
   "cell_type": "code",
   "execution_count": null,
   "metadata": {},
   "outputs": [],
   "source": [
    "covid_italy_filter = covid_italy[['totale_positivi','dimessi_guariti','deceduti' ]]\n",
    "covid_italy_filter"
   ]
  },
  {
   "cell_type": "markdown",
   "metadata": {},
   "source": [
    "During the peek in Spring 2020, the Italian government made a number of urgent decrees (links in Italian)\n",
    "- Decree \"Zone Rosse\"\n",
    "  - Some areas were classified as _red zones_, i.e. put in lockdown\n",
    "- Decree [\"Io resto a casa\"](https://www.agenziacoesione.gov.it/news_istituzionali/emergenza-epidemiologica-covid-19-fine-al-25-marzo-stop-alle-attivita-commerciali-al-dettaglio-in-tutta-italia-dpcm-11-marzo-2020/)\n",
    "  - Only the _necessary_ industrial and commercial production activities were left open nation-wide\n",
    "  - Not movements outside the city of residence\n",
    "- Decree [\"Chiudi Italia\"](http://www.governo.it/it/articolo/coronavirus-firmato-il-dpcm-22-marzo-2020/14363)\n",
    "  - Hard lockdown nation-wide\n",
    "- Decree [\"Fase 2\"](http://www.salute.gov.it/portale/news/p3_2_1_1_1.jsp?lingua=italiano&menu=notizie&p=dalministero&id=4763)\n",
    "  - Partial re-opening\n",
    "  \n",
    "Let us look at **how were the numbers at that time**"
   ]
  },
  {
   "cell_type": "code",
   "execution_count": null,
   "metadata": {},
   "outputs": [],
   "source": [
    "from datetime import datetime\n",
    "\n",
    "# We now create the plot\n",
    "covid_italy_filter.plot(figsize=(20, 7), linewidth=3, alpha=0.8, title=\"Italian National trend of COVID19\") \n",
    "\n",
    "# and add annotations\n",
    "annotations = {datetime(2020, 3, 1) :'Decreto \"Zone rosse\"',\n",
    "               datetime(2020, 3, 9) :'Decreto \"Io resto a casa\"',\n",
    "               datetime(2020, 3, 22):'Decreto \"Chiudi Italia\"',\n",
    "               datetime(2020, 5, 4) :'Decreto \"Fase 2\"'}\n",
    " \n",
    "for d,a in annotations.items():\n",
    "    plt.annotate(a,(d, 0), rotation=90, horizontalalignment='right')\n",
    "    plt.axvline(d, color='k', linestyle='--')   \n",
    "    \n",
    "plt.show()"
   ]
  },
  {
   "cell_type": "markdown",
   "metadata": {},
   "source": [
    "We have too many data points \n",
    "- making it difficult to focus on the 4 dates of interest\n",
    "\n",
    "Let's hide some\n",
    "- using `iloc` to consider the first 100 rows\n",
    "- using `loc` to consider the rows with date before June\n",
    "- using `drop` to drop the rows from June onward\n",
    "\n",
    "But first, let's create a function to add annotations to the _current_ plot"
   ]
  },
  {
   "cell_type": "code",
   "execution_count": null,
   "metadata": {},
   "outputs": [],
   "source": [
    "def add_annotations():\n",
    "    # and add annotations\n",
    "    annotations = {datetime(2020, 3, 1) :'Decreto \"Zone rosse\"',\n",
    "                   datetime(2020, 3, 9) :'Decreto \"Io resto a casa\"',\n",
    "                   datetime(2020, 3, 22):'Decreto \"Chiudi Italia\"',\n",
    "                   datetime(2020, 5, 4) :'Decreto \"Fase 2\"'}\n",
    " \n",
    "    for d,a in annotations.items():\n",
    "        plt.annotate(a,(d, 0), rotation=90, horizontalalignment='right')\n",
    "        plt.axvline(d, color='k', linestyle='--')   "
   ]
  },
  {
   "cell_type": "code",
   "execution_count": null,
   "metadata": {},
   "outputs": [],
   "source": [
    "covid_italy_filter.iloc[:100].plot(figsize=(20, 7), linewidth=3, alpha=0.8, title=\"Italian National trend of COVID19\") \n",
    "add_annotations() \n",
    "plt.show()"
   ]
  },
  {
   "cell_type": "code",
   "execution_count": null,
   "metadata": {},
   "outputs": [],
   "source": [
    "covid_italy_filter.loc[covid_italy_filter.index<= datetime(2020, 6, 1)].plot(figsize=(20, 7), linewidth=3, alpha=0.8, title=\"Italian National trend of COVID19\") \n",
    "add_annotations()     \n",
    "plt.show()"
   ]
  },
  {
   "cell_type": "code",
   "execution_count": null,
   "metadata": {},
   "outputs": [],
   "source": [
    "covid_italy_filter.drop(covid_italy_filter[covid_italy_filter.index > datetime(2020, 6, 1)].index).plot(figsize=(20, 7), linewidth=3, alpha=0.8, title=\"Italian National trend of COVID19\") \n",
    "add_annotations()     \n",
    "plt.show()"
   ]
  },
  {
   "cell_type": "markdown",
   "metadata": {},
   "source": [
    "## Bar Plots\n",
    "Making bar plots instead of line plots is as simple as passing \n",
    "* `kind='bar'` (for vertical bars) or \n",
    "* `kind='barh'` (for horizontal bars)."
   ]
  },
  {
   "cell_type": "code",
   "execution_count": null,
   "metadata": {},
   "outputs": [],
   "source": [
    "# load data relating to the regional trend of SARS-CoV-2 spread\n",
    "url_dpc_regioni = 'https://raw.githubusercontent.com/pcm-dpc/COVID-19/master/dati-regioni/dpc-covid19-ita-regioni.csv'\n",
    "covid_regions = pd.read_csv(url_dpc_regioni)\n",
    "covid_regions.index = pd.to_datetime(covid_regions.data)\n",
    "covid_regions = covid_regions.rename(columns={'denominazione_regione': 'regione'})\n",
    "\n",
    "# get last day data\n",
    "cov_regions_last_day = covid_regions[covid_regions.data ==  covid_regions.data.iloc[-1]] # get last day data\n",
    "cov_regions_last_day.index = cov_regions_last_day.regione # set Region as index\n",
    "\n",
    "#drop some unnecessary columns\n",
    "cov_regions_last_day = cov_regions_last_day.drop(['lat','long','codice_regione',\"stato\",\"regione\",\"note\"], axis = 1)\n",
    "\n",
    "#Let's get the data of interest (Deceduti vs Positivi) and plot them\n",
    "title = f\" Deceduti vs Positivi updated at {covid_regions.index[-1].strftime('%D')}\"\n",
    "#Here we are using 'bar!'\n",
    "cov_regions_last_day[['totale_ospedalizzati','isolamento_domiciliare','totale_positivi','deceduti']].plot(kind='bar', figsize =(20,7),grid=True,title=title)\n",
    "\n",
    "plt.show()"
   ]
  },
  {
   "cell_type": "markdown",
   "metadata": {},
   "source": [
    "### Stacked bar plots\n",
    "Stacked bar plots are created from a DataFrame by passing `stacked=True`, \n",
    "- resulting in the value in each row being stacked together\n",
    "\n",
    "Let's compare 'terapia_intensiva' and 'totale_ospedalizzati' on latest day"
   ]
  },
  {
   "cell_type": "code",
   "execution_count": null,
   "metadata": {},
   "outputs": [],
   "source": [
    "title = f\"Positivi updated at {covid_regions.index[-1].strftime('%D')}\"\n",
    "cov_regions_last_day[['terapia_intensiva','totale_ospedalizzati']].plot(kind='bar', stacked=True, figsize =(20,7),grid=True,title=title)\n",
    "plt.show()"
   ]
  },
  {
   "cell_type": "markdown",
   "metadata": {},
   "source": [
    "## Scatter Matrix \n",
    "In exploratory data analysis it is helpful to look at how pairs of variables relate to each other\n",
    "* we are interested in _plots relating pairs of variables_\n",
    "* this is known as a _pairs plot_ or _scatter plot matrix_. \n",
    "\n",
    "Making such a plot from scratch requires a bit of work. \n",
    "* Luckily pandas has a `scatter_matrix` function for creating one from a DataFrame. \n",
    "* It also supports placing histograms or density plots of each variable along the diagonal."
   ]
  },
  {
   "cell_type": "code",
   "execution_count": null,
   "metadata": {},
   "outputs": [],
   "source": [
    "covid_italy = pd.read_csv(url_dpc_nazionale, index_col='data')\n",
    "covid_italy.index = pd.to_datetime(covid_italy.index) # converts 'data' column from object to datatime type\n",
    "covid_italy.tail()"
   ]
  },
  {
   "cell_type": "code",
   "execution_count": null,
   "metadata": {},
   "outputs": [],
   "source": [
    "#drop unnecessary columns\n",
    "covid_italy.drop(columns=[\"note_test\",\"note_casi\"], inplace=True)"
   ]
  },
  {
   "cell_type": "code",
   "execution_count": null,
   "metadata": {},
   "outputs": [],
   "source": [
    "covid_italy['totale_casi']"
   ]
  },
  {
   "cell_type": "code",
   "execution_count": null,
   "metadata": {},
   "outputs": [],
   "source": [
    "covid_italy['terapia_intensiva']"
   ]
  },
  {
   "cell_type": "code",
   "execution_count": null,
   "metadata": {},
   "outputs": [],
   "source": [
    "pd.plotting.scatter_matrix(covid_italy,figsize =(20,25),  color='k', alpha=0.3)\n",
    "plt.show()"
   ]
  },
  {
   "cell_type": "markdown",
   "metadata": {},
   "source": [
    "Too much data here!\n",
    "- let's remove some more mostly empty rows"
   ]
  },
  {
   "cell_type": "code",
   "execution_count": null,
   "metadata": {},
   "outputs": [],
   "source": [
    "covid_italy[[\"totale_positivi_test_molecolare\",\"totale_positivi_test_antigenico_rapido\",\"tamponi_test_molecolare\",\"tamponi_test_antigenico_rapido\"]]"
   ]
  },
  {
   "cell_type": "code",
   "execution_count": null,
   "metadata": {},
   "outputs": [],
   "source": [
    "covid_italy.drop(columns=[\"totale_positivi_test_molecolare\",\"totale_positivi_test_antigenico_rapido\",\"tamponi_test_molecolare\",\"tamponi_test_antigenico_rapido\"], inplace=True)\n",
    "pd.plotting.scatter_matrix(covid_italy,figsize =(20,25),  color='k', alpha=0.3)\n",
    "plt.show()"
   ]
  }
 ],
 "metadata": {
  "kernelspec": {
   "display_name": "env_iproml_2021",
   "language": "python",
   "name": "env_iproml_2021"
  },
  "language_info": {
   "codemirror_mode": {
    "name": "ipython",
    "version": 3
   },
   "file_extension": ".py",
   "mimetype": "text/x-python",
   "name": "python",
   "nbconvert_exporter": "python",
   "pygments_lexer": "ipython3",
   "version": "3.8.2"
  },
  "toc-autonumbering": true,
  "toc-showcode": false,
  "toc-showmarkdowntxt": false
 },
 "nbformat": 4,
 "nbformat_minor": 4
}
