{
 "cells": [
  {
   "cell_type": "markdown",
   "metadata": {},
   "source": [
    "<center><font size=\"+4\">Introduction to Programming and Machine Learning in Python 2020/2021</font></center>\n",
    "<center><font size=\"+4\">Module 2</font></center>\n",
    "<center><font size=\"+2\">Scuola Normale Superiore, Pisa, Italy</font></center>\n",
    "\n",
    "<center><font size=\"+2\">Course responsibles</font></center>\n",
    "<center><font size=\"+2\">Andrea Vandin a.vandin@santannapisa.it</font></center>\n",
    "<center><font size=\"+2\">Daniele Licari d.licari@santannapisa.it</font></center>\n",
    "\n",
    "---"
   ]
  },
  {
   "cell_type": "markdown",
   "metadata": {},
   "source": [
    "<center><font size=\"+4\">Lectures 1 & 2: Advanced Libraries for</font></center>\n",
    "<center><font size=\"+4\">data manipulation/visualization</font></center>\n",
    "<center><font size=\"+2\">Exploratory Data Analysis on the Titanic dataset: examples of tasks to solve</font></center>"
   ]
  },
  {
   "cell_type": "markdown",
   "metadata": {
    "id": "ZRdhSptEyHFN"
   },
   "source": [
    "# Titanic dataset\n",
    "The ship Titanic sank in 1912 with the loss of most of its passengers.  Details can be obtained on 1309 passengers and crew on board the ship Titanic. \n",
    "\n",
    "For each passenger, 14 attributes and 1 target variable on the survival of the passenger are provided. \n",
    "In this project, we aim to analyze this dataset in order to obtain a classifier able to predict the survival probability of a hypotethical passenger.\n",
    "\n",
    "| Variable name   |      \tVariable label      |  Data type |\tValue labels |\n",
    "|-|-|-|-|\n",
    "|survived|  Died/Survived (Target) | Nominal (String)\t|  \"Died\", \"Survived\" \n",
    "|pclass|\tClass\t| Ordinal (Number)|\t1 = 1st, 2= 2nd, 3 = 3rd||\n",
    "|Residence | Country of Residence\t| Nominal (String)\t|  \"American\", \"British\",\"Other\" |\n",
    "|name\t|\tName |String||\n",
    "|age\t|\tAge |Number||\t\n",
    "|sibsp|\tNumber of siblings/ spouses|\t Number ||\n",
    "|parch|Number of parents/ children on board|\t Number ||\t\n",
    "|Ticket|\tTicket number|\tString||\n",
    "|fare|\tPrice of ticket| Number\t||\n",
    "|Cabin|\tCabin number|\tString||\n",
    "|Embarked|Where passenger embarked|\tNominal (String)||\n",
    "|Boat|\tBoat identification (if rescued)|\tString||\n",
    "|Body|\tBody number (if died)|\tString||\n",
    "|Home.dest|\tHome town|\tString\t||\n",
    "|Gender|\tGender|\t Nominal (String)\t|\t\"Male\", \"Female\"|\n",
    "\n"
   ]
  },
  {
   "cell_type": "markdown",
   "metadata": {
    "id": "EQy_u8B6N95U"
   },
   "source": [
    "Embarked is port of embarkation and it is a categorical feature which has 3 unique values (C, Q or S):\n",
    "C = Cherbourg\n",
    "Q = Queenstown\n",
    "S = Southampton"
   ]
  },
  {
   "cell_type": "code",
   "execution_count": null,
   "metadata": {
    "id": "O6x349pBCvge"
   },
   "outputs": [],
   "source": [
    "# Import libraries\n",
    "import pandas as pd\n",
    "import numpy as np\n",
    "import seaborn as sns # we will see in the next lesson\n",
    "import matplotlib.pyplot as plt"
   ]
  },
  {
   "cell_type": "code",
   "execution_count": null,
   "metadata": {
    "colab": {
     "base_uri": "https://localhost:8080/",
     "height": 371
    },
    "id": "Uu8ZSihryGS1",
    "outputId": "fe304a33-0494-418c-fe67-b1890c3986d4"
   },
   "outputs": [
    {
     "data": {
      "text/html": [
       "<div>\n",
       "<style scoped>\n",
       "    .dataframe tbody tr th:only-of-type {\n",
       "        vertical-align: middle;\n",
       "    }\n",
       "\n",
       "    .dataframe tbody tr th {\n",
       "        vertical-align: top;\n",
       "    }\n",
       "\n",
       "    .dataframe thead th {\n",
       "        text-align: right;\n",
       "    }\n",
       "</style>\n",
       "<table border=\"1\" class=\"dataframe\">\n",
       "  <thead>\n",
       "    <tr style=\"text-align: right;\">\n",
       "      <th></th>\n",
       "      <th>pclass</th>\n",
       "      <th>survived</th>\n",
       "      <th>Residence</th>\n",
       "      <th>name</th>\n",
       "      <th>age</th>\n",
       "      <th>sibsp</th>\n",
       "      <th>parch</th>\n",
       "      <th>ticket</th>\n",
       "      <th>fare</th>\n",
       "      <th>cabin</th>\n",
       "      <th>embarked</th>\n",
       "      <th>boat</th>\n",
       "      <th>body</th>\n",
       "      <th>home.dest</th>\n",
       "      <th>Gender</th>\n",
       "    </tr>\n",
       "  </thead>\n",
       "  <tbody>\n",
       "    <tr>\n",
       "      <th>0</th>\n",
       "      <td>3</td>\n",
       "      <td>Died</td>\n",
       "      <td>American</td>\n",
       "      <td>Abbing, Mr. Anthony</td>\n",
       "      <td>42.0</td>\n",
       "      <td>0</td>\n",
       "      <td>0</td>\n",
       "      <td>C.A. 5547</td>\n",
       "      <td>7.55</td>\n",
       "      <td>NaN</td>\n",
       "      <td>S</td>\n",
       "      <td>NaN</td>\n",
       "      <td>NaN</td>\n",
       "      <td>NaN</td>\n",
       "      <td>Male</td>\n",
       "    </tr>\n",
       "    <tr>\n",
       "      <th>1</th>\n",
       "      <td>3</td>\n",
       "      <td>Died</td>\n",
       "      <td>American</td>\n",
       "      <td>Abbott, Master. Eugene Joseph</td>\n",
       "      <td>13.0</td>\n",
       "      <td>0</td>\n",
       "      <td>2</td>\n",
       "      <td>C.A. 2673</td>\n",
       "      <td>20.25</td>\n",
       "      <td>NaN</td>\n",
       "      <td>S</td>\n",
       "      <td>NaN</td>\n",
       "      <td>NaN</td>\n",
       "      <td>East Providence, RI</td>\n",
       "      <td>Male</td>\n",
       "    </tr>\n",
       "    <tr>\n",
       "      <th>2</th>\n",
       "      <td>3</td>\n",
       "      <td>Died</td>\n",
       "      <td>American</td>\n",
       "      <td>Abbott, Mr. Rossmore Edward</td>\n",
       "      <td>16.0</td>\n",
       "      <td>1</td>\n",
       "      <td>1</td>\n",
       "      <td>C.A. 2673</td>\n",
       "      <td>20.25</td>\n",
       "      <td>NaN</td>\n",
       "      <td>S</td>\n",
       "      <td>NaN</td>\n",
       "      <td>190.0</td>\n",
       "      <td>East Providence, RI</td>\n",
       "      <td>Male</td>\n",
       "    </tr>\n",
       "    <tr>\n",
       "      <th>3</th>\n",
       "      <td>3</td>\n",
       "      <td>Survived</td>\n",
       "      <td>American</td>\n",
       "      <td>Abbott, Mrs. Stanton (Rosa Hunt)</td>\n",
       "      <td>35.0</td>\n",
       "      <td>1</td>\n",
       "      <td>1</td>\n",
       "      <td>C.A. 2673</td>\n",
       "      <td>20.25</td>\n",
       "      <td>NaN</td>\n",
       "      <td>S</td>\n",
       "      <td>A</td>\n",
       "      <td>NaN</td>\n",
       "      <td>East Providence, RI</td>\n",
       "      <td>Female</td>\n",
       "    </tr>\n",
       "    <tr>\n",
       "      <th>4</th>\n",
       "      <td>3</td>\n",
       "      <td>Survived</td>\n",
       "      <td>Other</td>\n",
       "      <td>Abelseth, Miss. Karen Marie</td>\n",
       "      <td>16.0</td>\n",
       "      <td>0</td>\n",
       "      <td>0</td>\n",
       "      <td>348125</td>\n",
       "      <td>7.65</td>\n",
       "      <td>NaN</td>\n",
       "      <td>S</td>\n",
       "      <td>16</td>\n",
       "      <td>NaN</td>\n",
       "      <td>Norway Los Angeles, CA</td>\n",
       "      <td>Female</td>\n",
       "    </tr>\n",
       "  </tbody>\n",
       "</table>\n",
       "</div>"
      ],
      "text/plain": [
       "   pclass  survived Residence  ...   body               home.dest  Gender\n",
       "0       3      Died  American  ...    NaN                     NaN    Male\n",
       "1       3      Died  American  ...    NaN     East Providence, RI    Male\n",
       "2       3      Died  American  ...  190.0     East Providence, RI    Male\n",
       "3       3  Survived  American  ...    NaN     East Providence, RI  Female\n",
       "4       3  Survived     Other  ...    NaN  Norway Los Angeles, CA  Female\n",
       "\n",
       "[5 rows x 15 columns]"
      ]
     },
     "execution_count": 22,
     "metadata": {
      "tags": []
     },
     "output_type": "execute_result"
    }
   ],
   "source": [
    "titanic_data = pd.read_csv('https://github.com/EMbeDS-education/SNS-IProML2021/raw/main/datasets/TITANIC.csv')\n",
    "titanic_data.head()"
   ]
  },
  {
   "cell_type": "markdown",
   "metadata": {
    "id": "8nhjqw_tIaEx"
   },
   "source": [
    "# Exploratory Data Analysis\n",
    "The task of Data Processing can be generally defined as \"the collection and manipulation of items of data to produce meaningful information\"[wiki]\n",
    "\n",
    "## Outline\n",
    "* Check total number of entries and column types;\n",
    "* Check duplicate entries; \n",
    "* Check for any null values (and try to handle them)\n",
    "* Plot distribution of numeric data \n",
    "* Who were the passengers on the Titanic? (i.e., Age, Gender, Class etc.)\n",
    "* Who was alone and who was with family?\n",
    "* What factors helped someone survived the sinking ?"
   ]
  },
  {
   "cell_type": "code",
   "execution_count": null,
   "metadata": {
    "id": "toCCARH-6zu1"
   },
   "outputs": [],
   "source": []
  },
  {
   "cell_type": "code",
   "execution_count": null,
   "metadata": {
    "colab": {
     "base_uri": "https://localhost:8080/"
    },
    "id": "Lh4Xekh11yqC",
    "outputId": "d1b02718-aab7-4784-d408-ad859bb1a829"
   },
   "outputs": [
    {
     "data": {
      "text/plain": [
       "Died        809\n",
       "Survived    500\n",
       "Name: survived, dtype: int64"
      ]
     },
     "execution_count": 23,
     "metadata": {
      "tags": []
     },
     "output_type": "execute_result"
    }
   ],
   "source": [
    "titanic_data.survived.value_counts()"
   ]
  },
  {
   "cell_type": "markdown",
   "metadata": {
    "id": "BUYm7uLN0wPD"
   },
   "source": [
    "A groupby operation involves some combination of splitting the object, applying a function, and combining the results.\n",
    "\n",
    "* Splitting the data into groups based on some criteria.\n",
    "* Applying a function to each group independently.\n",
    "* Combining the results into a data structure.\n",
    "\n",
    "Es. We could naturally group by either the 'Gender' or 'survived' columns, or both:\n",
    "\n"
   ]
  },
  {
   "cell_type": "code",
   "execution_count": null,
   "metadata": {
    "colab": {
     "base_uri": "https://localhost:8080/",
     "height": 142
    },
    "id": "QW9rnYjxplK3",
    "outputId": "e187b554-8afc-4991-ccfd-9900131307e5"
   },
   "outputs": [
    {
     "data": {
      "text/html": [
       "<div>\n",
       "<style scoped>\n",
       "    .dataframe tbody tr th:only-of-type {\n",
       "        vertical-align: middle;\n",
       "    }\n",
       "\n",
       "    .dataframe tbody tr th {\n",
       "        vertical-align: top;\n",
       "    }\n",
       "\n",
       "    .dataframe thead th {\n",
       "        text-align: right;\n",
       "    }\n",
       "</style>\n",
       "<table border=\"1\" class=\"dataframe\">\n",
       "  <thead>\n",
       "    <tr style=\"text-align: right;\">\n",
       "      <th></th>\n",
       "      <th>pclass</th>\n",
       "      <th>age</th>\n",
       "      <th>sibsp</th>\n",
       "      <th>parch</th>\n",
       "      <th>fare</th>\n",
       "      <th>body</th>\n",
       "    </tr>\n",
       "    <tr>\n",
       "      <th>survived</th>\n",
       "      <th></th>\n",
       "      <th></th>\n",
       "      <th></th>\n",
       "      <th></th>\n",
       "      <th></th>\n",
       "      <th></th>\n",
       "    </tr>\n",
       "  </thead>\n",
       "  <tbody>\n",
       "    <tr>\n",
       "      <th>Died</th>\n",
       "      <td>2.500618</td>\n",
       "      <td>30.545369</td>\n",
       "      <td>0.521632</td>\n",
       "      <td>0.328801</td>\n",
       "      <td>23.353831</td>\n",
       "      <td>160.809917</td>\n",
       "    </tr>\n",
       "    <tr>\n",
       "      <th>Survived</th>\n",
       "      <td>1.962000</td>\n",
       "      <td>28.918228</td>\n",
       "      <td>0.462000</td>\n",
       "      <td>0.476000</td>\n",
       "      <td>49.361184</td>\n",
       "      <td>NaN</td>\n",
       "    </tr>\n",
       "  </tbody>\n",
       "</table>\n",
       "</div>"
      ],
      "text/plain": [
       "            pclass        age     sibsp     parch       fare        body\n",
       "survived                                                                \n",
       "Died      2.500618  30.545369  0.521632  0.328801  23.353831  160.809917\n",
       "Survived  1.962000  28.918228  0.462000  0.476000  49.361184         NaN"
      ]
     },
     "execution_count": 24,
     "metadata": {
      "tags": []
     },
     "output_type": "execute_result"
    }
   ],
   "source": [
    "titanic_data.groupby(['survived']).mean()"
   ]
  },
  {
   "cell_type": "code",
   "execution_count": null,
   "metadata": {
    "colab": {
     "base_uri": "https://localhost:8080/",
     "height": 282
    },
    "id": "0iKo3Pm90pjM",
    "outputId": "8dbaeffa-6c8b-47ca-de8a-13a6b72ea575"
   },
   "outputs": [
    {
     "data": {
      "text/plain": [
       "<matplotlib.axes._subplots.AxesSubplot at 0x7f6283095990>"
      ]
     },
     "execution_count": 30,
     "metadata": {
      "tags": []
     },
     "output_type": "execute_result"
    },
    {
     "data": {
      "image/png": "[encoded data removed]",
      "text/plain": [
       "<Figure size 432x288 with 1 Axes>"
      ]
     },
     "metadata": {
      "needs_background": "light",
      "tags": []
     },
     "output_type": "display_data"
    }
   ],
   "source": [
    "titanic_data.groupby(['Gender','survived']).size().plot(kind='barh')"
   ]
  },
  {
   "cell_type": "code",
   "execution_count": null,
   "metadata": {
    "colab": {
     "base_uri": "https://localhost:8080/",
     "height": 296
    },
    "id": "cKrlCUwy9xNI",
    "outputId": "e184f864-b19c-4c67-c0d5-8bc29e9703a1"
   },
   "outputs": [
    {
     "data": {
      "text/plain": [
       "<matplotlib.axes._subplots.AxesSubplot at 0x7f6282faf3d0>"
      ]
     },
     "execution_count": 33,
     "metadata": {
      "tags": []
     },
     "output_type": "execute_result"
    },
    {
     "data": {
      "image/png": "[encoded data removed]",
      "text/plain": [
       "<Figure size 432x288 with 1 Axes>"
      ]
     },
     "metadata": {
      "needs_background": "light",
      "tags": []
     },
     "output_type": "display_data"
    }
   ],
   "source": [
    "import seaborn as sns\n",
    "sns.countplot(data=titanic_data, x='Gender',hue='survived')"
   ]
  },
  {
   "cell_type": "code",
   "execution_count": null,
   "metadata": {
    "colab": {
     "base_uri": "https://localhost:8080/"
    },
    "id": "qdTXJoTq-Lgz",
    "outputId": "612de506-c9e7-4227-b8d1-623182f034ba"
   },
   "outputs": [
    {
     "data": {
      "text/plain": [
       "pclass          0\n",
       "survived        0\n",
       "Residence       0\n",
       "name            0\n",
       "age           263\n",
       "sibsp           0\n",
       "parch           0\n",
       "ticket          0\n",
       "fare            1\n",
       "cabin        1014\n",
       "embarked        2\n",
       "boat          823\n",
       "body         1188\n",
       "home.dest     564\n",
       "Gender          0\n",
       "dtype: int64"
      ]
     },
     "execution_count": 34,
     "metadata": {
      "tags": []
     },
     "output_type": "execute_result"
    }
   ],
   "source": [
    "titanic_data.isna().sum()"
   ]
  }
 ],
 "metadata": {
  "colab": {
   "collapsed_sections": [],
   "name": "Titanic_EDA.ipynb",
   "provenance": []
  },
  "kernelspec": {
   "display_name": "Python 3",
   "language": "python",
   "name": "python3"
  },
  "language_info": {
   "codemirror_mode": {
    "name": "ipython",
    "version": 3
   },
   "file_extension": ".py",
   "mimetype": "text/x-python",
   "name": "python",
   "nbconvert_exporter": "python",
   "pygments_lexer": "ipython3",
   "version": "3.8.2"
  }
 },
 "nbformat": 4,
 "nbformat_minor": 4
}
